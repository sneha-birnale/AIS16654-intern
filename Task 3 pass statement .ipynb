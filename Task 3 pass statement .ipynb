{
 "cells": [
  {
   "cell_type": "code",
   "execution_count": null,
   "id": "fa4deee0-7e16-46bb-96e8-5d44ea193d59",
   "metadata": {},
   "outputs": [],
   "source": [
    "# Pass statement -\n",
    "The pass statement is used as a placeholder for future code.\n",
    "When the pass statement is executed, nothing happens, but you avoid getting an error when empty code is not allowed.\n",
    "Empty code is not allowed in loops, function definitions, class definitions, or in if statements.\n",
    "\n"
   ]
  },
  {
   "cell_type": "code",
   "execution_count": 7,
   "id": "a35eb5a4-0eca-4726-8322-7228af80c4e9",
   "metadata": {},
   "outputs": [
    {
     "name": "stdout",
     "output_type": "stream",
     "text": [
      "0\n",
      "1\n",
      "2\n"
     ]
    }
   ],
   "source": [
    "for i in range(10):\n",
    "    if i<5:\n",
    "     pass\n",
    "    if i<3:\n",
    "     print(i)\n"
   ]
  },
  {
   "cell_type": "code",
   "execution_count": 11,
   "id": "982e5774-18ec-4d2a-aef2-6d9d10d03b74",
   "metadata": {},
   "outputs": [],
   "source": [
    "for x in [0, 1, 2]:\n",
    "  pass\n",
    "\n"
   ]
  },
  {
   "cell_type": "code",
   "execution_count": 4,
   "id": "af0b2fbd-206f-4f03-ad98-087c2ab112e0",
   "metadata": {},
   "outputs": [
    {
     "name": "stdout",
     "output_type": "stream",
     "text": [
      "done\n"
     ]
    }
   ],
   "source": [
    "a = 33\n",
    "b = 200\n",
    "pass\n",
    "if b > a:\n",
    "    print(\"done\")\n",
    "  "
   ]
  },
  {
   "cell_type": "code",
   "execution_count": null,
   "id": "d190fda3-23fe-43e2-a1cf-1f06d132724e",
   "metadata": {},
   "outputs": [],
   "source": []
  },
  {
   "cell_type": "code",
   "execution_count": null,
   "id": "783d52c6-f78f-4e06-9aab-4af4930e433c",
   "metadata": {},
   "outputs": [],
   "source": []
  }
 ],
 "metadata": {
  "kernelspec": {
   "display_name": "Python 3 (ipykernel)",
   "language": "python",
   "name": "python3"
  },
  "language_info": {
   "codemirror_mode": {
    "name": "ipython",
    "version": 3
   },
   "file_extension": ".py",
   "mimetype": "text/x-python",
   "name": "python",
   "nbconvert_exporter": "python",
   "pygments_lexer": "ipython3",
   "version": "3.11.7"
  }
 },
 "nbformat": 4,
 "nbformat_minor": 5
}
