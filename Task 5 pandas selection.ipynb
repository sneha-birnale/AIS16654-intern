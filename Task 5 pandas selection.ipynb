{
 "cells": [
  {
   "cell_type": "markdown",
   "id": "9c9dff0a-0bdb-4cf4-8067-3aef1fe11cb6",
   "metadata": {},
   "source": [
    "#In pandas, selecting data from a DataFrame involves specifying which columns and/or rows you want to work with. \n",
    "#You can use several methods for selection, including .loc, .iloc, and boolean indexing. \n",
    "#Below are detailed examples of how to select columns and rows in different ways"
   ]
  },
  {
   "cell_type": "code",
   "execution_count": 1,
   "id": "55d7a292-bc12-4e7c-956f-91a5ad7bc6f2",
   "metadata": {},
   "outputs": [
    {
     "name": "stdout",
     "output_type": "stream",
     "text": [
      "0    1\n",
      "1    2\n",
      "2    2\n",
      "3    4\n",
      "4    5\n",
      "Name: A, dtype: int64\n"
     ]
    }
   ],
   "source": [
    "import pandas as pd\n",
    "# Sample DataFrame\n",
    "df = pd.DataFrame({\n",
    "    'A': [1, 2, 2, 4, 5],\n",
    "    'B': [5, 6, 6, 8, 9],\n",
    "    'C': [10, 11, 11, 13, 14]\n",
    "})\n",
    "# Select a single column\n",
    "col_A = df['A']\n",
    "print(col_A)"
   ]
  },
  {
   "cell_type": "code",
   "execution_count": 2,
   "id": "335a6a14-5b25-4a1e-826b-497ee27f8cee",
   "metadata": {},
   "outputs": [
    {
     "name": "stdout",
     "output_type": "stream",
     "text": [
      "   A  B\n",
      "0  1  5\n",
      "1  2  6\n",
      "2  2  6\n",
      "3  4  8\n",
      "4  5  9\n"
     ]
    }
   ],
   "source": [
    "# Select multiple columns\n",
    "cols_AB = df[['A', 'B']]\n",
    "print(cols_AB)"
   ]
  },
  {
   "cell_type": "code",
   "execution_count": 3,
   "id": "ee6892c4-46fe-4b20-8586-ce5164d411bb",
   "metadata": {},
   "outputs": [
    {
     "name": "stdout",
     "output_type": "stream",
     "text": [
      "   A  B   C\n",
      "1  2  6  11\n",
      "2  2  6  11\n"
     ]
    }
   ],
   "source": [
    "# Select rows by index\n",
    "rows_1_3 = df.iloc[1:3]\n",
    "print(rows_1_3)"
   ]
  },
  {
   "cell_type": "code",
   "execution_count": 4,
   "id": "e1847f95-598f-4e3a-9cd0-95e2065dc342",
   "metadata": {},
   "outputs": [
    {
     "name": "stdout",
     "output_type": "stream",
     "text": [
      "   B   C\n",
      "A       \n",
      "2  6  11\n",
      "2  6  11\n",
      "4  8  13\n"
     ]
    }
   ],
   "source": [
    "# Set index to column 'A' for demonstration\n",
    "df.set_index('A', inplace=True)\n",
    "# Select rows by label\n",
    "rows_2_4 = df.loc[2:4]\n",
    "print(rows_2_4)"
   ]
  },
  {
   "cell_type": "code",
   "execution_count": 5,
   "id": "2b4112ad-b870-4790-ab57-d45192185d7e",
   "metadata": {},
   "outputs": [
    {
     "name": "stdout",
     "output_type": "stream",
     "text": [
      "   A   C\n",
      "1  2  11\n",
      "2  2  11\n",
      "3  4  13\n"
     ]
    }
   ],
   "source": [
    "# Reset index to default for demonstration\n",
    "df.reset_index(inplace=True)\n",
    "# Select specific rows and columns by label\n",
    "subset_loc = df.loc[1:3, ['A', 'C']]\n",
    "print(subset_loc)                 "
   ]
  },
  {
   "cell_type": "code",
   "execution_count": 6,
   "id": "c18f1009-9e7d-41b2-a85e-c36cb25c2440",
   "metadata": {},
   "outputs": [
    {
     "name": "stdout",
     "output_type": "stream",
     "text": [
      "   A   C\n",
      "1  2  11\n",
      "2  2  11\n"
     ]
    }
   ],
   "source": [
    "# Select specific rows and columns by integer position\n",
    "subset_iloc = df.iloc[1:3, [0, 2]]\n",
    "print(subset_iloc)"
   ]
  },
  {
   "cell_type": "code",
   "execution_count": 7,
   "id": "df81c528-100d-4d73-a01f-8f6c026695b2",
   "metadata": {},
   "outputs": [
    {
     "name": "stdout",
     "output_type": "stream",
     "text": [
      "   A  B   C\n",
      "3  4  8  13\n",
      "4  5  9  14\n"
     ]
    }
   ],
   "source": [
    "# Select rows where column 'A' is greater than 2\n",
    "rows_condition = df[df['A'] > 2]\n",
    "print(rows_condition)"
   ]
  },
  {
   "cell_type": "code",
   "execution_count": 8,
   "id": "ab3e9dc8-dcbf-402f-8557-7816c63eb5f7",
   "metadata": {},
   "outputs": [
    {
     "name": "stdout",
     "output_type": "stream",
     "text": [
      "   A  B   C\n",
      "3  4  8  13\n"
     ]
    }
   ],
   "source": [
    "# Select rows where column 'A' is greater than 2 and column 'B' is less than 9\n",
    "rows_multiple_conditions = df[(df['A'] > 2) & (df['B'] < 9)]\n",
    "print(rows_multiple_conditions)"
   ]
  },
  {
   "cell_type": "code",
   "execution_count": 9,
   "id": "99d97c4c-5d93-441a-bcca-1f5bb4562c88",
   "metadata": {},
   "outputs": [
    {
     "name": "stdout",
     "output_type": "stream",
     "text": [
      "Rows where 'A' > 2:\n",
      "   A  B   C\n",
      "3  4  8  13\n",
      "4  5  9  14\n"
     ]
    }
   ],
   "source": [
    "import pandas as pd\n",
    "# Sample DataFrame\n",
    "df = pd.DataFrame({\n",
    "    'A': [1, 2, 2, 4, 5],\n",
    "    'B': [5, 6, 6, 8, 9],\n",
    "    'C': [10, 11, 11, 13, 14]\n",
    "})\n",
    "# Select rows where column 'A' is greater than 2\n",
    "df_A_gt_2 = df[df['A'] > 2]\n",
    "print(\"Rows where 'A' > 2:\")\n",
    "print(df_A_gt_2)"
   ]
  },
  {
   "cell_type": "code",
   "execution_count": 10,
   "id": "e3d7c212-6ef1-4f1d-bdd6-7db7e74e1635",
   "metadata": {},
   "outputs": [
    {
     "name": "stdout",
     "output_type": "stream",
     "text": [
      "DataFrame with new column 'C':\n",
      "   A  B   C\n",
      "0  1  5  10\n",
      "1  2  6  10\n",
      "2  2  6  10\n",
      "3  4  8  10\n",
      "4  5  9  10\n"
     ]
    }
   ],
   "source": [
    "import pandas as pd\n",
    "# Sample DataFrame\n",
    "df = pd.DataFrame({\n",
    "    'A': [1, 2, 2, 4, 5],\n",
    "    'B': [5, 6, 6, 8, 9]\n",
    "})\n",
    "# Add a new column 'C' with a constant value\n",
    "df['C'] = 10\n",
    "print(\"DataFrame with new column 'C':\")\n",
    "print(df)"
   ]
  },
  {
   "cell_type": "code",
   "execution_count": 11,
   "id": "30b2bf51-8e2d-4840-b286-338894c24f0a",
   "metadata": {},
   "outputs": [
    {
     "name": "stdout",
     "output_type": "stream",
     "text": [
      "\n",
      "DataFrame with new column 'D' (A + B):\n",
      "   A  B   C   D\n",
      "0  1  5  10   6\n",
      "1  2  6  10   8\n",
      "2  2  6  10   8\n",
      "3  4  8  10  12\n",
      "4  5  9  10  14\n"
     ]
    }
   ],
   "source": [
    "# Add a new column 'D' which is the sum of columns 'A' and 'B'\n",
    "df['D'] = df['A'] + df['B']\n",
    "print(\"\\nDataFrame with new column 'D' (A + B):\")\n",
    "print(df)"
   ]
  },
  {
   "cell_type": "code",
   "execution_count": 14,
   "id": "d770ef67-f0f7-433c-b5e7-c051c102848a",
   "metadata": {},
   "outputs": [
    {
     "name": "stdout",
     "output_type": "stream",
     "text": [
      "\n",
      "DataFrame after dropping column 'C':\n",
      "   A  B   D\n",
      "0  1  5   6\n",
      "1  2  6   8\n",
      "2  2  6   8\n",
      "3  4  8  12\n",
      "4  5  9  14\n"
     ]
    }
   ],
   "source": [
    "# Drop column 'C'\n",
    "df = df.drop(columns=['C'])\n",
    "print(\"\\nDataFrame after dropping column 'C':\")\n",
    "print(df)"
   ]
  },
  {
   "cell_type": "code",
   "execution_count": 16,
   "id": "85a4eb3b-2cd3-4b93-ae3e-63018d076e91",
   "metadata": {},
   "outputs": [
    {
     "name": "stdout",
     "output_type": "stream",
     "text": [
      "\n",
      "DataFrame after updating column 'A':\n",
      "    A  B   D\n",
      "0  10  5   6\n",
      "1  20  6   8\n",
      "2  30  6   8\n",
      "3  40  8  12\n",
      "4  50  9  14\n"
     ]
    }
   ],
   "source": [
    "# Update column 'A' with new values\n",
    "df['A'] = [10, 20, 30, 40, 50]\n",
    "print(\"\\nDataFrame after updating column 'A':\")\n",
    "print(df)"
   ]
  },
  {
   "cell_type": "code",
   "execution_count": 17,
   "id": "e7bf559c-3825-475b-bf4c-47e2a9c95af1",
   "metadata": {},
   "outputs": [
    {
     "name": "stdout",
     "output_type": "stream",
     "text": [
      "\n",
      "DataFrame after updating column 'B' with a function (doubling the values):\n",
      "    A   B   D\n",
      "0  10  10   6\n",
      "1  20  12   8\n",
      "2  30  12   8\n",
      "3  40  16  12\n",
      "4  50  18  14\n"
     ]
    }
   ],
   "source": [
    "# Update column 'B' by doubling its values\n",
    "df['B'] = df['B'].apply(lambda x: x * 2)\n",
    "print(\"\\nDataFrame after updating column 'B' with a function (doubling the values):\")\n",
    "print(df)"
   ]
  },
  {
   "cell_type": "code",
   "execution_count": 18,
   "id": "c90b559e-8031-436b-8733-f3c91baf52d4",
   "metadata": {},
   "outputs": [
    {
     "name": "stdout",
     "output_type": "stream",
     "text": [
      "\n",
      "DataFrame after conditional update of column 'A':\n",
      "    A   B   D\n",
      "0  10  10   6\n",
      "1  99  12   8\n",
      "2  99  12   8\n",
      "3  99  16  12\n",
      "4  99  18  14\n"
     ]
    }
   ],
   "source": [
    "# Update column 'A' to be 99 where column 'B' is greater than 10\n",
    "df.loc[df['B'] > 10, 'A'] = 99\n",
    "print(\"\\nDataFrame after conditional update of column 'A':\")\n",
    "print(df)"
   ]
  },
  {
   "cell_type": "code",
   "execution_count": 19,
   "id": "10772ee1-7b56-459d-95d9-1e3dcc5de73e",
   "metadata": {},
   "outputs": [
    {
     "name": "stdout",
     "output_type": "stream",
     "text": [
      "DataFrame with 'A' as index:\n",
      "   B\n",
      "A   \n",
      "1  4\n",
      "2  5\n",
      "3  6\n"
     ]
    }
   ],
   "source": [
    "import pandas as pd\n",
    "# Sample DataFrame\n",
    "df = pd.DataFrame({\n",
    "    'A': [1, 2, 3],\n",
    "    'B': [4, 5, 6]\n",
    "})\n",
    "# Set column 'A' as index\n",
    "df.set_index('A', inplace=True)\n",
    "print(\"DataFrame with 'A' as index:\")\n",
    "print(df)"
   ]
  },
  {
   "cell_type": "code",
   "execution_count": 20,
   "id": "27418ff6-d7e2-440c-9990-cd4c8c1a403a",
   "metadata": {},
   "outputs": [
    {
     "name": "stdout",
     "output_type": "stream",
     "text": [
      "\n",
      "DataFrame with new index:\n",
      "   B\n",
      "X  4\n",
      "Y  5\n",
      "Z  6\n"
     ]
    }
   ],
   "source": [
    "# Create a new index\n",
    "df.index = ['X', 'Y', 'Z']\n",
    "print(\"\\nDataFrame with new index:\")\n",
    "print(df)"
   ]
  },
  {
   "cell_type": "code",
   "execution_count": 21,
   "id": "3061fb13-8cf0-46a6-9a24-d73a27f94fc7",
   "metadata": {},
   "outputs": [
    {
     "name": "stdout",
     "output_type": "stream",
     "text": [
      "\n",
      "DataFrame with reset index:\n",
      "  index  B\n",
      "0     X  4\n",
      "1     Y  5\n",
      "2     Z  6\n"
     ]
    }
   ],
   "source": [
    "# Reset index\n",
    "df.reset_index(inplace=True)\n",
    "print(\"\\nDataFrame with reset index:\")\n",
    "print(df)"
   ]
  },
  {
   "cell_type": "code",
   "execution_count": 22,
   "id": "a949f743-f108-401e-8c29-b6b0478fe320",
   "metadata": {},
   "outputs": [
    {
     "name": "stdout",
     "output_type": "stream",
     "text": [
      "\n",
      "DataFrame with index removed:\n",
      "  index  B\n",
      "0     X  4\n",
      "1     Y  5\n",
      "2     Z  6\n"
     ]
    }
   ],
   "source": [
    "# Remove index\n",
    "df.reset_index(drop=True, inplace=True)\n",
    "print(\"\\nDataFrame with index removed:\")\n",
    "print(df)"
   ]
  },
  {
   "cell_type": "code",
   "execution_count": 23,
   "id": "20b9f098-d944-48c7-8784-5dcc7c1eb52d",
   "metadata": {},
   "outputs": [
    {
     "name": "stdout",
     "output_type": "stream",
     "text": [
      "Addition:\n",
      "   A  B  C\n",
      "0  1  4  5\n",
      "1  2  5  7\n",
      "2  3  6  9\n"
     ]
    }
   ],
   "source": [
    "import pandas as pd\n",
    "# Sample DataFrame\n",
    "df = pd.DataFrame({\n",
    "    'A': [1, 2, 3],\n",
    "    'B': [4, 5, 6]\n",
    "})\n",
    "# Addition\n",
    "df['C'] = df['A'] + df['B']\n",
    "print(\"Addition:\")\n",
    "print(df)"
   ]
  },
  {
   "cell_type": "code",
   "execution_count": 25,
   "id": "63cc3486-bb91-460e-a0c9-6266c8cc8444",
   "metadata": {},
   "outputs": [
    {
     "name": "stdout",
     "output_type": "stream",
     "text": [
      "   A  B  C  D\n",
      "0  1  4  5 -3\n",
      "1  2  5  7 -3\n",
      "2  3  6  9 -3\n"
     ]
    }
   ],
   "source": [
    "# Subtraction\n",
    "df['D'] = df['A'] - df['B']\n",
    "print(df)"
   ]
  },
  {
   "cell_type": "code",
   "execution_count": 29,
   "id": "d08ea578-995f-466e-8be5-57c6e32036d4",
   "metadata": {},
   "outputs": [
    {
     "name": "stdout",
     "output_type": "stream",
     "text": [
      "   A  B  C  D   E     F\n",
      "0  1  4  5 -3   4  0.25\n",
      "1  2  5  7 -3  10  0.40\n",
      "2  3  6  9 -3  18  0.50\n"
     ]
    }
   ],
   "source": [
    "# Multiplication\n",
    "df['E'] = df['A'] * df['B']\n",
    "print(df)"
   ]
  },
  {
   "cell_type": "code",
   "execution_count": 28,
   "id": "972db94d-6d15-41de-bc98-d63d3edec614",
   "metadata": {},
   "outputs": [
    {
     "name": "stdout",
     "output_type": "stream",
     "text": [
      "   A  B  C  D   E     F\n",
      "0  1  4  5 -3   4  0.25\n",
      "1  2  5  7 -3  10  0.40\n",
      "2  3  6  9 -3  18  0.50\n"
     ]
    }
   ],
   "source": [
    "# Division\n",
    "df['F'] = df['A'] / df['B']\n",
    "print(df)"
   ]
  },
  {
   "cell_type": "code",
   "execution_count": 2,
   "id": "9352d067-c2c9-466e-aaad-1bc5938fd856",
   "metadata": {},
   "outputs": [
    {
     "ename": "NameError",
     "evalue": "name 'pd' is not defined",
     "output_type": "error",
     "traceback": [
      "\u001b[1;31m---------------------------------------------------------------------------\u001b[0m",
      "\u001b[1;31mNameError\u001b[0m                                 Traceback (most recent call last)",
      "Cell \u001b[1;32mIn[2], line 1\u001b[0m\n\u001b[1;32m----> 1\u001b[0m df \u001b[38;5;241m=\u001b[39m pd\u001b[38;5;241m.\u001b[39mDataFrame({\n\u001b[0;32m      2\u001b[0m     \u001b[38;5;124m'\u001b[39m\u001b[38;5;124mA\u001b[39m\u001b[38;5;124m'\u001b[39m: [\u001b[38;5;241m1\u001b[39m, \u001b[38;5;241m2\u001b[39m, \u001b[38;5;241m2\u001b[39m, \u001b[38;5;241m4\u001b[39m, \u001b[38;5;241m5\u001b[39m],\n\u001b[0;32m      3\u001b[0m     \u001b[38;5;124m'\u001b[39m\u001b[38;5;124mB\u001b[39m\u001b[38;5;124m'\u001b[39m: [\u001b[38;5;241m5\u001b[39m, \u001b[38;5;241m6\u001b[39m, \u001b[38;5;241m6\u001b[39m, \u001b[38;5;241m8\u001b[39m, \u001b[38;5;241m9\u001b[39m],\n\u001b[0;32m      4\u001b[0m     \u001b[38;5;124m'\u001b[39m\u001b[38;5;124mC\u001b[39m\u001b[38;5;124m'\u001b[39m: [\u001b[38;5;241m10\u001b[39m, \u001b[38;5;241m11\u001b[39m, \u001b[38;5;241m11\u001b[39m, \u001b[38;5;241m13\u001b[39m, \u001b[38;5;241m14\u001b[39m]})\n\u001b[0;32m      5\u001b[0m df\u001b[38;5;241m.\u001b[39mloc[\u001b[38;5;124m\"\u001b[39m\u001b[38;5;124mA\u001b[39m\u001b[38;5;124m\"\u001b[39m]\n\u001b[0;32m      6\u001b[0m df\n",
      "\u001b[1;31mNameError\u001b[0m: name 'pd' is not defined"
     ]
    }
   ],
   "source": [
    "import pan\n",
    "df = pd.DataFrame({\n",
    "    'A': [1, 2, 2, 4, 5],\n",
    "    'B': [5, 6, 6, 8, 9],\n",
    "    'C': [10, 11, 11, 13, 14]})\n",
    "df.loc[\"A\"]\n",
    "df"
   ]
  },
  {
   "cell_type": "code",
   "execution_count": null,
   "id": "6948fbdf-307b-4daa-b74f-0399bdb68941",
   "metadata": {},
   "outputs": [],
   "source": []
  }
 ],
 "metadata": {
  "kernelspec": {
   "display_name": "Python 3 (ipykernel)",
   "language": "python",
   "name": "python3"
  },
  "language_info": {
   "codemirror_mode": {
    "name": "ipython",
    "version": 3
   },
   "file_extension": ".py",
   "mimetype": "text/x-python",
   "name": "python",
   "nbconvert_exporter": "python",
   "pygments_lexer": "ipython3",
   "version": "3.11.7"
  }
 },
 "nbformat": 4,
 "nbformat_minor": 5
}
