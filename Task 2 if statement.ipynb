{
 "cells": [
  {
   "cell_type": "markdown",
   "id": "4e91690d-3138-402c-ae3e-670b822e91cd",
   "metadata": {},
   "source": [
    "# if statement \n",
    "An \"if statement\" is written by using the if keyword.\n",
    "Python supports the usual logical conditions from mathematics:\r",
    "\r\n",
    "Equals: a == b\r\n",
    "Not Equals: a != b\r\n",
    "Less than: a < b\r\n",
    "Less than or equal to: a <= b\r\n",
    "Greater than: a > b\r\n",
    "Greater than or equal to: a >= b\r\n",
    "These conditions can be used in several ways, most commonly in \"if statements\" and loops.\r\n",
    "\r\n"
   ]
  },
  {
   "cell_type": "code",
   "execution_count": 1,
   "id": "aa5cb6e5-8b21-4a02-93dd-3912be953906",
   "metadata": {},
   "outputs": [
    {
     "name": "stdout",
     "output_type": "stream",
     "text": [
      "b is greater than a\n"
     ]
    }
   ],
   "source": [
    "a = 33\n",
    "b = 200\n",
    "\n",
    "if b > a:\n",
    "  print(\"b is greater than a\")\n"
   ]
  },
  {
   "cell_type": "code",
   "execution_count": 2,
   "id": "d927225c-8a2b-457a-be63-03d10821379d",
   "metadata": {},
   "outputs": [
    {
     "name": "stdout",
     "output_type": "stream",
     "text": [
      "x is greater than 5\n"
     ]
    }
   ],
   "source": [
    "x=10\n",
    "if x>5:\n",
    "    print(\"x is greater than 5\")"
   ]
  },
  {
   "cell_type": "code",
   "execution_count": 3,
   "id": "d1071497-97df-40e4-8c2c-3e010b65af6b",
   "metadata": {},
   "outputs": [
    {
     "name": "stdout",
     "output_type": "stream",
     "text": [
      "x is smaller than 40\n"
     ]
    }
   ],
   "source": [
    "x=3\n",
    "if x<40:\n",
    "    print(\"x is smaller than 40\")"
   ]
  },
  {
   "cell_type": "code",
   "execution_count": 4,
   "id": "45b4deff-1483-4af0-97e3-0108dcf05464",
   "metadata": {},
   "outputs": [
    {
     "name": "stdout",
     "output_type": "stream",
     "text": [
      "yes\n"
     ]
    }
   ],
   "source": [
    "numbers=[1,4,5,3,8]\n",
    "if 3 in numbers:\n",
    "    print(\"yes\")"
   ]
  },
  {
   "cell_type": "code",
   "execution_count": 8,
   "id": "d1fe151c-0da6-4ca4-b8b8-b1e3b1e27fab",
   "metadata": {},
   "outputs": [
    {
     "name": "stdout",
     "output_type": "stream",
     "text": [
      "x is positive\n"
     ]
    }
   ],
   "source": [
    "x=10\n",
    "if x>0:\n",
    "    print(\"x is positive\")"
   ]
  },
  {
   "cell_type": "code",
   "execution_count": 11,
   "id": "24c47ac9-8125-4189-9722-ee8ef29847e2",
   "metadata": {},
   "outputs": [
    {
     "name": "stdout",
     "output_type": "stream",
     "text": [
      "no\n"
     ]
    }
   ],
   "source": [
    "a=[2,4,6,8]\n",
    "if 6 in a:\n",
    "    print(\"no\")"
   ]
  },
  {
   "cell_type": "code",
   "execution_count": 12,
   "id": "1a7c2f2c-51d3-4601-ac20-602526a0f801",
   "metadata": {},
   "outputs": [
    {
     "name": "stdout",
     "output_type": "stream",
     "text": [
      "true\n"
     ]
    }
   ],
   "source": [
    "x=10\n",
    "y=20\n",
    "if x>5:\n",
    "    if y>5:\n",
    "        print(\"true\")"
   ]
  },
  {
   "cell_type": "code",
   "execution_count": 14,
   "id": "bcca6cab-b857-48b7-a72f-8324f3efdb76",
   "metadata": {},
   "outputs": [
    {
     "name": "stdout",
     "output_type": "stream",
     "text": [
      "yes\n"
     ]
    }
   ],
   "source": [
    "c=[2,4,7,6,9,8]\n",
    "x=4\n",
    "x\n",
    "y=2\n",
    "y\n",
    "if x+y in c:\n",
    "    print(\"yes\")"
   ]
  },
  {
   "cell_type": "code",
   "execution_count": 16,
   "id": "26aa30f6-366b-44f6-8804-d6796cbd8c28",
   "metadata": {},
   "outputs": [
    {
     "name": "stdout",
     "output_type": "stream",
     "text": [
      "negative\n"
     ]
    }
   ],
   "source": [
    "x=-67\n",
    "if x<0:\n",
    "    print(\"negative\")"
   ]
  },
  {
   "cell_type": "code",
   "execution_count": 20,
   "id": "8a4d9a92-6ec9-4524-8a70-aff696c18d81",
   "metadata": {},
   "outputs": [
    {
     "name": "stdout",
     "output_type": "stream",
     "text": [
      "x is equal to 5\n"
     ]
    }
   ],
   "source": [
    "x=5\n",
    "if x>2:\n",
    "    print(\"x is equal to 5\")"
   ]
  },
  {
   "cell_type": "code",
   "execution_count": null,
   "id": "9abb8e36-1aba-40e0-b057-2279badb5336",
   "metadata": {},
   "outputs": [],
   "source": []
  }
 ],
 "metadata": {
  "kernelspec": {
   "display_name": "Python 3 (ipykernel)",
   "language": "python",
   "name": "python3"
  },
  "language_info": {
   "codemirror_mode": {
    "name": "ipython",
    "version": 3
   },
   "file_extension": ".py",
   "mimetype": "text/x-python",
   "name": "python",
   "nbconvert_exporter": "python",
   "pygments_lexer": "ipython3",
   "version": "3.11.7"
  }
 },
 "nbformat": 4,
 "nbformat_minor": 5
}
