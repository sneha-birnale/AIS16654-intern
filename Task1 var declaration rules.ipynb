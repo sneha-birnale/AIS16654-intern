{
 "cells": [
  {
   "cell_type": "markdown",
   "id": "fbc5d069-bff5-4f68-b662-319576e316e8",
   "metadata": {},
   "source": [
    "# variables declaration rules \n",
    "1) A variable name must start with a letter or the underscore character\n",
    "2) \n",
    "A variable name cannot start with a number3) \r\n",
    "A variable name can only contain alpha-numeric characters and underscores (A-z, 0-9, and _ 4) )\r\n",
    "Variable names are case-sensitive (age, Age and AGE are three different variable5) s)\r\n",
    "A variable name cannot be any of the Python keywords."
   ]
  },
  {
   "cell_type": "code",
   "execution_count": 1,
   "id": "09d880b8-b5b8-4505-89da-214fab913e4c",
   "metadata": {},
   "outputs": [
    {
     "ename": "SyntaxError",
     "evalue": "invalid decimal literal (3801472512.py, line 1)",
     "output_type": "error",
     "traceback": [
      "\u001b[1;36m  Cell \u001b[1;32mIn[1], line 1\u001b[1;36m\u001b[0m\n\u001b[1;33m    3var=\"sneha\"\u001b[0m\n\u001b[1;37m    ^\u001b[0m\n\u001b[1;31mSyntaxError\u001b[0m\u001b[1;31m:\u001b[0m invalid decimal literal\n"
     ]
    }
   ],
   "source": [
    "3var=\"sneha\""
   ]
  },
  {
   "cell_type": "code",
   "execution_count": 3,
   "id": "292b66e7-8291-49d3-9323-0b9edb759522",
   "metadata": {},
   "outputs": [],
   "source": [
    "var_name=\"sneha\""
   ]
  },
  {
   "cell_type": "code",
   "execution_count": null,
   "id": "a5fd47be-6f3f-42d0-9112-3477e3cd68ef",
   "metadata": {},
   "outputs": [],
   "source": []
  }
 ],
 "metadata": {
  "kernelspec": {
   "display_name": "Python 3 (ipykernel)",
   "language": "python",
   "name": "python3"
  },
  "language_info": {
   "codemirror_mode": {
    "name": "ipython",
    "version": 3
   },
   "file_extension": ".py",
   "mimetype": "text/x-python",
   "name": "python",
   "nbconvert_exporter": "python",
   "pygments_lexer": "ipython3",
   "version": "3.11.7"
  }
 },
 "nbformat": 4,
 "nbformat_minor": 5
}
