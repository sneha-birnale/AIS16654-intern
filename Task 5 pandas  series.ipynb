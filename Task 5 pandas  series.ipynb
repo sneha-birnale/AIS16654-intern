{
 "cells": [
  {
   "cell_type": "markdown",
   "id": "4d9db393-09dd-46b6-818e-3a2364073f6c",
   "metadata": {},
   "source": [
    "#Pandas is a Python library.\n",
    "#Pandas is used to analyze data.\n",
    "\n",
    "#What is Pandas?\r\n",
    "Pandas is a Python library used for working with data sets.\n",
    "\r\n",
    "It has functions for analyzing, cleaning, exploring, and manipulating dat.\r\n",
    "\r\n",
    "The name \"Pandas\" has a reference to both \"Panel Data\", and \"Python Data Analysis\" and was created by Wes McKinney in 2#08.\r\n",
    "\r\n",
    "Why Use Pandas?\r\n",
    "Pandas allows us to analyze big data and make conclusions based on statistical thories.\r\n",
    "\r\n",
    "Pandas can clean messy data sets, and make them readable and elevant.\r\n",
    "\r\n",
    "Relevant data is very important in d\n",
    "\n",
    "#What Can Pandas Do?\r\n",
    "Pandas gives you answers about the data. Like:\n",
    "\r\n",
    "Is there a correlation between two or more columns?\r\n",
    "What is average value?\r\n",
    "Max value?\r\n",
    "Min value?\r\n",
    "Pandas are also able to delete rows that are not relevant, or contains wrong values, like empty or NULL values. This is called cleaning th\n",
    "\n",
    "#Installation of Pandas\r\n",
    "If you have Python and PIP already installed on a system, then installation of Pandas is very easy.\n",
    "\r\n",
    "Install it using this comman:\r\n",
    "\r\n",
    "C:\\Users\\Your Name>pip install pandas\r\n",
    "If this command fails, then use a python distribution that already has Pandas installed like, Anaconda, Spyderetc.\r\n",
    "\r\n",
    "Import Pandas\r\n",
    "Once Pandas is installed, import it in your applications by adding the import\n",
    "import pandas as pdport pandasdata.\r\n",
    "\r\n",
    "data.\r\n",
    "\r\n",
    "ata science."
   ]
  },
  {
   "cell_type": "code",
   "execution_count": 2,
   "id": "e40b5921-05dc-4365-849f-a444aa0bedfd",
   "metadata": {},
   "outputs": [
    {
     "name": "stdout",
     "output_type": "stream",
     "text": [
      "    cars  passings\n",
      "0    BMW         3\n",
      "1  Volvo         7\n",
      "2   Ford         2\n"
     ]
    }
   ],
   "source": [
    "import pandas as pd\n",
    "\n",
    "mydataset = {\n",
    "  'cars': [\"BMW\", \"Volvo\", \"Ford\"],\n",
    "  'passings': [3, 7, 2]\n",
    "}\n",
    "\n",
    "myvar = pd.DataFrame(mydataset)\n",
    "\n",
    "print(myvar)"
   ]
  },
  {
   "cell_type": "code",
   "execution_count": 3,
   "id": "423c8fcd-07c5-4c3a-b8b4-0c4070807733",
   "metadata": {},
   "outputs": [
    {
     "name": "stdout",
     "output_type": "stream",
     "text": [
      "2.1.4\n"
     ]
    }
   ],
   "source": [
    "import pandas as pd\n",
    "print(pd.__version__)"
   ]
  },
  {
   "cell_type": "markdown",
   "id": "901a2531-1d59-46f1-8e65-0ef4a635c33f",
   "metadata": {},
   "source": [
    "#Pandas Series\n",
    "What is a Series?\n",
    "A Pandas Series is like a column in a table.\n",
    "It is a one-dimensional array holding data of any type."
   ]
  },
  {
   "cell_type": "code",
   "execution_count": 4,
   "id": "7ca282a0-8cb0-4923-a3a7-789c47df15c6",
   "metadata": {},
   "outputs": [
    {
     "name": "stdout",
     "output_type": "stream",
     "text": [
      "0    1\n",
      "1    7\n",
      "2    2\n",
      "dtype: int64\n"
     ]
    }
   ],
   "source": [
    "import pandas as pd\n",
    "a = [1, 7, 2]\n",
    "myvar = pd.Series(a)\n",
    "print(myvar)"
   ]
  },
  {
   "cell_type": "code",
   "execution_count": 5,
   "id": "a5388809-6886-4fab-9528-00601b81b57e",
   "metadata": {},
   "outputs": [
    {
     "name": "stdout",
     "output_type": "stream",
     "text": [
      "x    1\n",
      "y    7\n",
      "z    2\n",
      "dtype: int64\n"
     ]
    }
   ],
   "source": [
    "import pandas as pd\n",
    "a = [1, 7, 2]\n",
    "myvar = pd.Series(a, index = [\"x\", \"y\", \"z\"])\n",
    "print(myvar)"
   ]
  },
  {
   "cell_type": "code",
   "execution_count": 6,
   "id": "c58c7c69-f38f-4029-ae81-9b1f3637a4ac",
   "metadata": {},
   "outputs": [
    {
     "name": "stdout",
     "output_type": "stream",
     "text": [
      "7\n"
     ]
    }
   ],
   "source": [
    "print(myvar[\"y\"])"
   ]
  },
  {
   "cell_type": "code",
   "execution_count": 7,
   "id": "e3193224-f69d-4e8d-a6c6-1cff415b5290",
   "metadata": {},
   "outputs": [
    {
     "name": "stdout",
     "output_type": "stream",
     "text": [
      "day1    420\n",
      "day2    380\n",
      "day3    390\n",
      "dtype: int64\n"
     ]
    }
   ],
   "source": [
    "import pandas as pd\n",
    "calories = {\"day1\": 420, \"day2\": 380, \"day3\": 390}\n",
    "myvar = pd.Series(calories)\n",
    "print(myvar)"
   ]
  }
 ],
 "metadata": {
  "kernelspec": {
   "display_name": "Python 3 (ipykernel)",
   "language": "python",
   "name": "python3"
  },
  "language_info": {
   "codemirror_mode": {
    "name": "ipython",
    "version": 3
   },
   "file_extension": ".py",
   "mimetype": "text/x-python",
   "name": "python",
   "nbconvert_exporter": "python",
   "pygments_lexer": "ipython3",
   "version": "3.11.7"
  }
 },
 "nbformat": 4,
 "nbformat_minor": 5
}
