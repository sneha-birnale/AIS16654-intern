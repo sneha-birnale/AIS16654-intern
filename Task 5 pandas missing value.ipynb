{
 "cells": [
  {
   "cell_type": "markdown",
   "id": "a9d9b2f9-8bf3-4ce5-ac53-d3b7546b74c2",
   "metadata": {},
   "source": [
    "#missing values\n",
    "#Using isnull(): This method returns a DataFrame of the same shape with boolean values indicating whether the data is missing (True) or not (False)."
   ]
  },
  {
   "cell_type": "code",
   "execution_count": 1,
   "id": "8c545d97-6f30-48b3-86f8-7881647e1a08",
   "metadata": {},
   "outputs": [
    {
     "name": "stdout",
     "output_type": "stream",
     "text": [
      "Missing values in the DataFrame:\n",
      "        A      B      C\n",
      "0  False  False  False\n",
      "1  False   True  False\n",
      "2   True   True  False\n",
      "3  False  False  False\n"
     ]
    }
   ],
   "source": [
    "import pandas as pd\n",
    "import numpy as np\n",
    "# Creating a sample DataFrame with missing values\n",
    "data = {\n",
    "    'A': [1, 2, np.nan, 4],\n",
    "    'B': [5, np.nan, np.nan, 8],\n",
    "    'C': [9, 10, 11, 12]\n",
    "}\n",
    "df = pd.DataFrame(data)\n",
    "# Detecting missing values\n",
    "missing_values = df.isnull()\n",
    "print(\"Missing values in the DataFrame:\\n\", missing_values)"
   ]
  },
  {
   "cell_type": "code",
   "execution_count": 2,
   "id": "171ab9c1-d9cd-4b51-9d1b-f822169751f7",
   "metadata": {},
   "outputs": [
    {
     "name": "stdout",
     "output_type": "stream",
     "text": [
      "Non-missing values in the DataFrame:\n",
      "        A      B     C\n",
      "0   True   True  True\n",
      "1   True  False  True\n",
      "2  False  False  True\n",
      "3   True   True  True\n"
     ]
    }
   ],
   "source": [
    "not_missing_values = df.notnull()\n",
    "print(\"Non-missing values in the DataFrame:\\n\", not_missing_values)"
   ]
  },
  {
   "cell_type": "code",
   "execution_count": 3,
   "id": "544c10e4-6380-42db-aedc-6accd8301b5f",
   "metadata": {},
   "outputs": [
    {
     "name": "stdout",
     "output_type": "stream",
     "text": [
      "Number of missing values in each column:\n",
      " A    1\n",
      "B    2\n",
      "C    0\n",
      "dtype: int64\n"
     ]
    }
   ],
   "source": [
    "missing_count_per_column = df.isnull().sum()\n",
    "print(\"Number of missing values in each column:\\n\", missing_count_per_column)"
   ]
  },
  {
   "cell_type": "code",
   "execution_count": 4,
   "id": "bf292d95-2c31-4c42-86f3-bf1bbb9f4d70",
   "metadata": {},
   "outputs": [
    {
     "name": "stdout",
     "output_type": "stream",
     "text": [
      "Total number of missing values in the DataFrame:\n",
      " 3\n"
     ]
    }
   ],
   "source": [
    "total_missing_count = df.isnull().sum().sum()\n",
    "print(\"Total number of missing values in the DataFrame:\\n\", total_missing_count)"
   ]
  },
  {
   "cell_type": "code",
   "execution_count": 5,
   "id": "5feb4c72-f540-4168-bd54-413ad4eaf9c9",
   "metadata": {},
   "outputs": [
    {
     "name": "stdout",
     "output_type": "stream",
     "text": [
      "Are there any missing values in column 'A'? True\n"
     ]
    }
   ],
   "source": [
    "missing_in_column_A = df['A'].isnull().any()\n",
    "print(f\"Are there any missing values in column 'A'? {missing_in_column_A}\")"
   ]
  },
  {
   "cell_type": "code",
   "execution_count": 6,
   "id": "b440d4df-dbe2-4f39-88d9-ae110ed237e5",
   "metadata": {},
   "outputs": [
    {
     "name": "stdout",
     "output_type": "stream",
     "text": [
      "Rows with any missing values:\n",
      "      A   B   C\n",
      "1  2.0 NaN  10\n",
      "2  NaN NaN  11\n"
     ]
    }
   ],
   "source": [
    "rows_with_missing = df[df.isnull().any(axis=1)]\n",
    "print(\"Rows with any missing values:\\n\", rows_with_missing)"
   ]
  },
  {
   "cell_type": "markdown",
   "id": "4f5a1968-1e14-43d1-829d-a408c591fdd3",
   "metadata": {},
   "source": [
    "You can drop rows that contain any missing values using dropna(axis=0):\n"
   ]
  },
  {
   "cell_type": "code",
   "execution_count": 8,
   "id": "39a8e62f-b2b4-4d1b-9c19-bd5150e0c872",
   "metadata": {},
   "outputs": [
    {
     "name": "stdout",
     "output_type": "stream",
     "text": [
      "DataFrame after dropping rows with any missing values:\n",
      "      A    B   C\n",
      "0  1.0  5.0   9\n",
      "3  4.0  8.0  12\n"
     ]
    }
   ],
   "source": [
    "import pandas as pd\n",
    "import numpy as np\n",
    "# Creating a sample DataFrame with missing values\n",
    "data = {\n",
    "    'A': [1, 2, np.nan, 4],\n",
    "    'B': [5, np.nan, np.nan, 8],\n",
    "    'C': [9, 10, 11, 12]\n",
    "}\n",
    "df = pd.DataFrame(data)\n",
    "# Dropping rows with any missing values\n",
    "df_dropped_rows = df.dropna(axis=0)\n",
    "print(\"DataFrame after dropping rows with any missing values:\\n\", df_dropped_rows)"
   ]
  },
  {
   "cell_type": "code",
   "execution_count": 9,
   "id": "b7c85491-5baa-47a1-8c8b-780365487081",
   "metadata": {},
   "outputs": [
    {
     "name": "stdout",
     "output_type": "stream",
     "text": [
      "DataFrame after dropping columns with any missing values:\n",
      "     C\n",
      "0   9\n",
      "1  10\n",
      "2  11\n",
      "3  12\n"
     ]
    }
   ],
   "source": [
    "# Dropping columns with any missing values\n",
    "df_dropped_columns = df.dropna(axis=1)\n",
    "print(\"DataFrame after dropping columns with any missing values:\\n\", df_dropped_columns)"
   ]
  },
  {
   "cell_type": "markdown",
   "id": "96f7c40d-7bef-408d-8968-62d29a48f85a",
   "metadata": {},
   "source": [
    "# Filling Missing Values\n",
    "a. Filling with a Specific Value\n",
    "You can fill missing values with a specific value using fillna(value):"
   ]
  },
  {
   "cell_type": "code",
   "execution_count": 10,
   "id": "ad9f9183-746a-4db5-956f-e0fa343ffc89",
   "metadata": {},
   "outputs": [
    {
     "name": "stdout",
     "output_type": "stream",
     "text": [
      "DataFrame after filling missing values with 0:\n",
      "      A    B   C\n",
      "0  1.0  5.0   9\n",
      "1  2.0  0.0  10\n",
      "2  0.0  0.0  11\n",
      "3  4.0  8.0  12\n"
     ]
    }
   ],
   "source": [
    "# Filling missing values with 0\n",
    "df_filled_value = df.fillna(0)\n",
    "print(\"DataFrame after filling missing values with 0:\\n\", df_filled_value)"
   ]
  },
  {
   "cell_type": "code",
   "execution_count": 11,
   "id": "92c8fd29-03ad-4830-853e-4c2bfb92cbd8",
   "metadata": {},
   "outputs": [
    {
     "name": "stdout",
     "output_type": "stream",
     "text": [
      "DataFrame after forward filling missing values:\n",
      "      A    B   C\n",
      "0  1.0  5.0   9\n",
      "1  2.0  5.0  10\n",
      "2  2.0  5.0  11\n",
      "3  4.0  8.0  12\n"
     ]
    },
    {
     "name": "stderr",
     "output_type": "stream",
     "text": [
      "C:\\Users\\ADMIN\\AppData\\Local\\Temp\\ipykernel_12112\\295610438.py:2: FutureWarning: DataFrame.fillna with 'method' is deprecated and will raise in a future version. Use obj.ffill() or obj.bfill() instead.\n",
      "  df_filled_ffill = df.fillna(method='ffill')\n"
     ]
    }
   ],
   "source": [
    "# Forward filling missing values\n",
    "df_filled_ffill = df.fillna(method='ffill')\n",
    "print(\"DataFrame after forward filling missing values:\\n\", df_filled_ffill)"
   ]
  },
  {
   "cell_type": "code",
   "execution_count": 12,
   "id": "39e52192-a475-4aed-a9dd-bb2567edb7d1",
   "metadata": {},
   "outputs": [
    {
     "name": "stdout",
     "output_type": "stream",
     "text": [
      "DataFrame after backward filling missing values:\n",
      "      A    B   C\n",
      "0  1.0  5.0   9\n",
      "1  2.0  8.0  10\n",
      "2  4.0  8.0  11\n",
      "3  4.0  8.0  12\n"
     ]
    },
    {
     "name": "stderr",
     "output_type": "stream",
     "text": [
      "C:\\Users\\ADMIN\\AppData\\Local\\Temp\\ipykernel_12112\\3443409966.py:2: FutureWarning: DataFrame.fillna with 'method' is deprecated and will raise in a future version. Use obj.ffill() or obj.bfill() instead.\n",
      "  df_filled_bfill = df.fillna(method='bfill')\n"
     ]
    }
   ],
   "source": [
    "# Backward filling missing values\n",
    "df_filled_bfill = df.fillna(method='bfill')\n",
    "print(\"DataFrame after backward filling missing values:\\n\", df_filled_bfill)"
   ]
  },
  {
   "cell_type": "code",
   "execution_count": 13,
   "id": "0c584a2d-8549-4138-b769-9b18ecc32ace",
   "metadata": {},
   "outputs": [
    {
     "name": "stdout",
     "output_type": "stream",
     "text": [
      "DataFrame after filling missing values with the mean:\n",
      "           A    B   C\n",
      "0  1.000000  5.0   9\n",
      "1  2.000000  6.5  10\n",
      "2  2.333333  6.5  11\n",
      "3  4.000000  8.0  12\n"
     ]
    }
   ],
   "source": [
    "# Filling missing values with the mean of each column\n",
    "df_filled_mean = df.fillna(df.mean())\n",
    "print(\"DataFrame after filling missing values with the mean:\\n\", df_filled_mean)"
   ]
  },
  {
   "cell_type": "code",
   "execution_count": 14,
   "id": "6aa2a452-8e7b-4fcc-831d-6c2570ecb7ca",
   "metadata": {},
   "outputs": [
    {
     "name": "stdout",
     "output_type": "stream",
     "text": [
      "DataFrame after filling missing values with the median:\n",
      "      A    B   C\n",
      "0  1.0  5.0   9\n",
      "1  2.0  6.5  10\n",
      "2  2.0  6.5  11\n",
      "3  4.0  8.0  12\n"
     ]
    }
   ],
   "source": [
    "# Filling missing values with the median of each column\n",
    "df_filled_median = df.fillna(df.median())\n",
    "print(\"DataFrame after filling missing values with the median:\\n\", df_filled_median)"
   ]
  },
  {
   "cell_type": "code",
   "execution_count": 15,
   "id": "7902d9f3-8450-472d-a933-4a138e55bb1c",
   "metadata": {},
   "outputs": [
    {
     "name": "stdout",
     "output_type": "stream",
     "text": [
      "DataFrame after filling missing values with the mode:\n",
      "      A    B   C\n",
      "0  1.0  5.0   9\n",
      "1  2.0  5.0  10\n",
      "2  1.0  5.0  11\n",
      "3  4.0  8.0  12\n"
     ]
    }
   ],
   "source": [
    "# Filling missing values with the mode of each column\n",
    "df_filled_mode = df.apply(lambda x: x.fillna(x.mode()[0]) if not x.mode().empty else x)\n",
    "print(\"DataFrame after filling missing values with the mode:\\n\", df_filled_mode)"
   ]
  }
 ],
 "metadata": {
  "kernelspec": {
   "display_name": "Python 3 (ipykernel)",
   "language": "python",
   "name": "python3"
  },
  "language_info": {
   "codemirror_mode": {
    "name": "ipython",
    "version": 3
   },
   "file_extension": ".py",
   "mimetype": "text/x-python",
   "name": "python",
   "nbconvert_exporter": "python",
   "pygments_lexer": "ipython3",
   "version": "3.11.7"
  }
 },
 "nbformat": 4,
 "nbformat_minor": 5
}
