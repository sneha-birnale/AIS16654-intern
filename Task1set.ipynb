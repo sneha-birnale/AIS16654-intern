{
 "cells": [
  {
   "cell_type": "markdown",
   "id": "148970d6-274e-429b-8911-05a801358597",
   "metadata": {},
   "source": [
    "# Set\n",
    "sets are used to store multiple items in a string variable .\n",
    "Set items are unordered, unchangeable, and do not allow duplicate values.\n",
    "Set items are unchangeable, but you can remove items and add new items.\n",
    "Set is a collection which is unordered, unchangeable*, and unindexed. No duplicate members."
   ]
  },
  {
   "cell_type": "code",
   "execution_count": 1,
   "id": "d13ac163-bae5-442f-af19-6554a08894ef",
   "metadata": {},
   "outputs": [
    {
     "name": "stdout",
     "output_type": "stream",
     "text": [
      "{'banana', 'apple', 'cherry'}\n"
     ]
    }
   ],
   "source": [
    "thisset = {\"apple\", \"banana\", \"cherry\", \"apple\"}\n",
    "\n",
    "print(thisset)\n"
   ]
  },
  {
   "cell_type": "code",
   "execution_count": 2,
   "id": "8c7cc72c-2ee9-4447-bcd1-a5adfcba442b",
   "metadata": {},
   "outputs": [
    {
     "name": "stdout",
     "output_type": "stream",
     "text": [
      "3\n"
     ]
    }
   ],
   "source": [
    "print(len(thisset))\n"
   ]
  },
  {
   "cell_type": "code",
   "execution_count": 3,
   "id": "332891f3-0c69-4821-84a9-50183b7475b9",
   "metadata": {},
   "outputs": [
    {
     "data": {
      "text/plain": [
       "{34, 40, True, 'abc', 'male'}"
      ]
     },
     "execution_count": 3,
     "metadata": {},
     "output_type": "execute_result"
    }
   ],
   "source": [
    "set1 = {\"abc\", 34, True, 40, \"male\"}\n",
    "set1"
   ]
  },
  {
   "cell_type": "code",
   "execution_count": 4,
   "id": "1176b199-adb5-484a-b90a-ede45b822c55",
   "metadata": {},
   "outputs": [
    {
     "data": {
      "text/plain": [
       "set"
      ]
     },
     "execution_count": 4,
     "metadata": {},
     "output_type": "execute_result"
    }
   ],
   "source": [
    "type(set1)"
   ]
  },
  {
   "cell_type": "code",
   "execution_count": null,
   "id": "75dd1122-5a27-45fd-8133-e4a1e201376a",
   "metadata": {},
   "outputs": [],
   "source": []
  }
 ],
 "metadata": {
  "kernelspec": {
   "display_name": "Python 3 (ipykernel)",
   "language": "python",
   "name": "python3"
  },
  "language_info": {
   "codemirror_mode": {
    "name": "ipython",
    "version": 3
   },
   "file_extension": ".py",
   "mimetype": "text/x-python",
   "name": "python",
   "nbconvert_exporter": "python",
   "pygments_lexer": "ipython3",
   "version": "3.11.7"
  }
 },
 "nbformat": 4,
 "nbformat_minor": 5
}
