{
 "cells": [
  {
   "cell_type": "markdown",
   "id": "0ab686a6-5c58-48e3-bd02-1df2ca1e2a31",
   "metadata": {},
   "source": [
    "# For loop\n",
    "A for loop is used for iterating over a sequence (that is either a list, a tuple, a dictionary, a set, or a string).\n",
    "\n",
    "This is less like the for keyword in other programming languages, and works more like an iterator method as found in other object-orientated programming languages.\n",
    "\n",
    "With the for loop we can execute a set of statements, once for each item in a list, tuple, set etc."
   ]
  },
  {
   "cell_type": "code",
   "execution_count": 1,
   "id": "7cc83972-d15b-43b9-9dc3-82c49931bda0",
   "metadata": {},
   "outputs": [
    {
     "name": "stdout",
     "output_type": "stream",
     "text": [
      "apple\n",
      "banana\n",
      "cherry\n"
     ]
    }
   ],
   "source": [
    "fruits = [\"apple\", \"banana\", \"cherry\"]\n",
    "for x in fruits:\n",
    "  print(x)\n"
   ]
  },
  {
   "cell_type": "code",
   "execution_count": 5,
   "id": "7e936ada-5c8c-4421-994e-efa318c1bb5b",
   "metadata": {},
   "outputs": [
    {
     "name": "stdout",
     "output_type": "stream",
     "text": [
      "apple\n"
     ]
    }
   ],
   "source": [
    "fruits = [\"apple\", \"banana\", \"cherry\"]\n",
    "for x in fruits:\n",
    "  if x == \"banana\":\n",
    "    break\n",
    "  print(x)"
   ]
  },
  {
   "cell_type": "code",
   "execution_count": 10,
   "id": "e114f922-e10e-4300-8574-d044467bcb33",
   "metadata": {},
   "outputs": [
    {
     "name": "stdin",
     "output_type": "stream",
     "text": [
      "enter name sneha\n"
     ]
    },
    {
     "name": "stdout",
     "output_type": "stream",
     "text": [
      "sneha\n",
      "neha\n",
      "eha\n",
      "ha\n",
      "a\n",
      "\n"
     ]
    }
   ],
   "source": [
    "s=input(\"enter name\")\n",
    "for x in range (0,len(s)+1):\n",
    "   print(s[x:])"
   ]
  },
  {
   "cell_type": "code",
   "execution_count": 11,
   "id": "59d05d44-88e9-4258-b01a-3080f4580533",
   "metadata": {},
   "outputs": [
    {
     "name": "stdin",
     "output_type": "stream",
     "text": [
      "enter name sneha\n"
     ]
    },
    {
     "name": "stdout",
     "output_type": "stream",
     "text": [
      "\n",
      "s\n",
      "sn\n",
      "sne\n",
      "sneh\n",
      "sneha\n"
     ]
    }
   ],
   "source": [
    "s=input(\"enter name\")\n",
    "for x in range (0,len(s)+1):\n",
    "   print(s[:x])"
   ]
  },
  {
   "cell_type": "code",
   "execution_count": 12,
   "id": "7776526f-34b1-4ca9-99e6-60d5af213864",
   "metadata": {},
   "outputs": [
    {
     "name": "stdout",
     "output_type": "stream",
     "text": [
      "2\n",
      "4\n",
      "6\n",
      "8\n",
      "10\n"
     ]
    }
   ],
   "source": [
    "num=(1,2,3,4,5)\n",
    "for i in num:\n",
    "    print(2*i)\n",
    "    "
   ]
  },
  {
   "cell_type": "code",
   "execution_count": 14,
   "id": "ea827485-5fe4-48e5-8b2e-8db49d5463cd",
   "metadata": {},
   "outputs": [
    {
     "name": "stdout",
     "output_type": "stream",
     "text": [
      "l\n",
      "a\n",
      "p\n",
      "t\n",
      "o\n",
      "p\n"
     ]
    }
   ],
   "source": [
    "d=\"laptop\"\n",
    "for x in d:\n",
    "   print(x)"
   ]
  },
  {
   "cell_type": "code",
   "execution_count": 15,
   "id": "31b19883-ee2a-410c-b910-3016f5edfe8c",
   "metadata": {},
   "outputs": [
    {
     "name": "stdout",
     "output_type": "stream",
     "text": [
      "25\n",
      "625\n",
      "15625\n",
      "390625\n",
      "9765625\n"
     ]
    }
   ],
   "source": [
    "s=(2,4,6,8,10)\n",
    "for i in s:\n",
    "    print(5**i)"
   ]
  },
  {
   "cell_type": "code",
   "execution_count": 16,
   "id": "62db88de-bbbe-4b42-8f7e-6541677d8f07",
   "metadata": {},
   "outputs": [
    {
     "name": "stdout",
     "output_type": "stream",
     "text": [
      "0\n",
      "1\n",
      "2\n",
      "3\n",
      "4\n",
      "5\n"
     ]
    }
   ],
   "source": [
    "for x in range(6):\n",
    "  print(x)"
   ]
  },
  {
   "cell_type": "code",
   "execution_count": 17,
   "id": "1c2b123a-4266-4786-b73b-b545049a842c",
   "metadata": {},
   "outputs": [
    {
     "name": "stdout",
     "output_type": "stream",
     "text": [
      "2\n",
      "3\n",
      "4\n",
      "5\n"
     ]
    }
   ],
   "source": [
    "for x in range(2, 6):\n",
    "  print(x)"
   ]
  },
  {
   "cell_type": "code",
   "execution_count": 18,
   "id": "0fb760d9-91a1-46d5-a740-58721cd74f40",
   "metadata": {},
   "outputs": [
    {
     "name": "stdout",
     "output_type": "stream",
     "text": [
      "2\n",
      "5\n",
      "8\n",
      "11\n",
      "14\n",
      "17\n",
      "20\n",
      "23\n",
      "26\n",
      "29\n"
     ]
    }
   ],
   "source": [
    "for x in range(2, 30, 3):\n",
    "  print(x)"
   ]
  },
  {
   "cell_type": "code",
   "execution_count": null,
   "id": "7160d288-6f17-43a1-a43d-413f3f07931e",
   "metadata": {},
   "outputs": [],
   "source": []
  }
 ],
 "metadata": {
  "kernelspec": {
   "display_name": "Python 3 (ipykernel)",
   "language": "python",
   "name": "python3"
  },
  "language_info": {
   "codemirror_mode": {
    "name": "ipython",
    "version": 3
   },
   "file_extension": ".py",
   "mimetype": "text/x-python",
   "name": "python",
   "nbconvert_exporter": "python",
   "pygments_lexer": "ipython3",
   "version": "3.11.7"
  }
 },
 "nbformat": 4,
 "nbformat_minor": 5
}
