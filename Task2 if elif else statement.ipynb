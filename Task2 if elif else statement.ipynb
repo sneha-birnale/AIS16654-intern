{
 "cells": [
  {
   "cell_type": "markdown",
   "id": "f30647d9-03ef-4e9c-8761-ae732627e822",
   "metadata": {},
   "source": [
    "# if elif else statement\n",
    "The if-elif-else statement is used to conditionally execute a statement or a block of statements. \n",
    "Conditions can be true or false, execute one thing when the condition is true, \n",
    "something else when the condition is false. Contents: if statement."
   ]
  },
  {
   "cell_type": "code",
   "execution_count": 2,
   "id": "6d558b99-dea7-4dc0-af00-10f37e141888",
   "metadata": {},
   "outputs": [
    {
     "name": "stdout",
     "output_type": "stream",
     "text": [
      "positive\n"
     ]
    }
   ],
   "source": [
    "num=10\n",
    "if num>0:\n",
    "    print(\"positive\")\n",
    "elif num==0:\n",
    "    print(\"zero\")\n",
    "else:\n",
    "     print(\"negative\")"
   ]
  },
  {
   "cell_type": "code",
   "execution_count": 3,
   "id": "40bdad84-9ca1-49d6-b533-3fa9ea7d7e67",
   "metadata": {},
   "outputs": [
    {
     "name": "stdout",
     "output_type": "stream",
     "text": [
      "grade B\n"
     ]
    }
   ],
   "source": [
    "score=80\n",
    "if score >=90:\n",
    "    print(\"grade A\")\n",
    "elif score >=70:\n",
    "    print(\"grade B\")\n",
    "else:\n",
    "    print(\"grade C \")"
   ]
  },
  {
   "cell_type": "code",
   "execution_count": 4,
   "id": "1f82bfbf-7f89-4061-b93a-3201fb0c7d60",
   "metadata": {},
   "outputs": [
    {
     "name": "stdout",
     "output_type": "stream",
     "text": [
      "adult\n"
     ]
    }
   ],
   "source": [
    "age=30\n",
    "if age<10:\n",
    "    print(\"child\")\n",
    "elif age < 18:\n",
    "    print(\"teenager\")\n",
    "else:\n",
    "    print(\"adult\")"
   ]
  },
  {
   "cell_type": "code",
   "execution_count": 5,
   "id": "febd40ec-603a-4b12-9d56-b5448bd447df",
   "metadata": {},
   "outputs": [
    {
     "name": "stdout",
     "output_type": "stream",
     "text": [
      "a and b are equal\n"
     ]
    }
   ],
   "source": [
    "a = 33\n",
    "b = 33\n",
    "if b > a:\n",
    "  print(\"b is greater than a\")\n",
    "elif a == b:\n",
    "  print(\"a and b are equal\")\n"
   ]
  },
  {
   "cell_type": "code",
   "execution_count": 6,
   "id": "63829a16-0011-413c-94a0-2c995566a4f7",
   "metadata": {},
   "outputs": [
    {
     "name": "stdout",
     "output_type": "stream",
     "text": [
      "a is greater than b\n"
     ]
    }
   ],
   "source": [
    "a = 200\n",
    "b = 33\n",
    "if b > a:\n",
    "  print(\"b is greater than a\")\n",
    "elif a == b:\n",
    "  print(\"a and b are equal\")\n",
    "else:\n",
    "  print(\"a is greater than b\")\n"
   ]
  },
  {
   "cell_type": "code",
   "execution_count": 7,
   "id": "8f65e307-b15c-47a1-b12b-0d4df7955dd9",
   "metadata": {},
   "outputs": [
    {
     "name": "stdout",
     "output_type": "stream",
     "text": [
      "cool\n"
     ]
    }
   ],
   "source": [
    "temp=75\n",
    "if temp>85:\n",
    "    print(\"hot\")\n",
    "elif temp < 65:\n",
    "    print(\"warm\")\n",
    "else:\n",
    "    print(\"cool\")"
   ]
  },
  {
   "cell_type": "code",
   "execution_count": 9,
   "id": "1ccda521-8b5d-4d22-ad7e-2fa599954f5f",
   "metadata": {},
   "outputs": [
    {
     "name": "stdout",
     "output_type": "stream",
     "text": [
      "b is greater than a\n"
     ]
    }
   ],
   "source": [
    "a = 500\n",
    "b = 20\n",
    "if a>b:\n",
    "  print(\"b is greater than a\")\n",
    "elif a == b:\n",
    "  print(\"a and b are equal\")\n",
    "else:\n",
    "  print(\"a is greater than b\")\n"
   ]
  },
  {
   "cell_type": "code",
   "execution_count": 10,
   "id": "348c3aa7-aa92-42e6-949c-0305da678bc8",
   "metadata": {},
   "outputs": [
    {
     "name": "stdout",
     "output_type": "stream",
     "text": [
      "complex\n"
     ]
    }
   ],
   "source": [
    "x=3+2J\n",
    "if x ==3:\n",
    "    print(\"numeric\")\n",
    "elif x==3.0:\n",
    "    print(\"float\")\n",
    "else:\n",
    "    print(\"complex\")"
   ]
  },
  {
   "cell_type": "code",
   "execution_count": 11,
   "id": "f0fa7ed0-e5fd-4ddc-aad6-8bb532fe9afa",
   "metadata": {},
   "outputs": [
    {
     "name": "stdout",
     "output_type": "stream",
     "text": [
      "numeric\n"
     ]
    }
   ],
   "source": [
    "x=3\n",
    "if x ==3:\n",
    "    print(\"numeric\")\n",
    "elif x==3.0:\n",
    "    print(\"float\")\n",
    "else:\n",
    "    print(\"complex\")"
   ]
  },
  {
   "cell_type": "code",
   "execution_count": 12,
   "id": "00a17e63-a34e-4d52-a640-80c7c3481e01",
   "metadata": {},
   "outputs": [
    {
     "name": "stdout",
     "output_type": "stream",
     "text": [
      "negative\n"
     ]
    }
   ],
   "source": [
    "num=-100\n",
    "if num>0:\n",
    "    print(\"positive\")\n",
    "elif num==0:\n",
    "    print(\"zero\")\n",
    "else:\n",
    "     print(\"negative\")"
   ]
  },
  {
   "cell_type": "code",
   "execution_count": null,
   "id": "b658303f-b5cf-458e-bb84-e14eb5caaa5a",
   "metadata": {},
   "outputs": [],
   "source": []
  }
 ],
 "metadata": {
  "kernelspec": {
   "display_name": "Python 3 (ipykernel)",
   "language": "python",
   "name": "python3"
  },
  "language_info": {
   "codemirror_mode": {
    "name": "ipython",
    "version": 3
   },
   "file_extension": ".py",
   "mimetype": "text/x-python",
   "name": "python",
   "nbconvert_exporter": "python",
   "pygments_lexer": "ipython3",
   "version": "3.11.7"
  }
 },
 "nbformat": 4,
 "nbformat_minor": 5
}
