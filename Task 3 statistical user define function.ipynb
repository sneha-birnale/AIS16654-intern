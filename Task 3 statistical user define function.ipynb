{
 "cells": [
  {
   "cell_type": "markdown",
   "id": "577e27fe-8c80-4f41-bf0e-036b57de52c2",
   "metadata": {},
   "source": [
    "# statistical user define function -\n",
    "In Python, a user-defined function's declaration begins with the keyword def and followed by. the function name.\n",
    "• The function may take arguments(s) as input within the opening and closing parentheses, just after the function name followed by a colon.\n",
    "creating a user defined statistical function that can calculate various statistical measures based on a given dataset ,statistical measures such as mean , median, variance and standard deviation ."
   ]
  },
  {
   "cell_type": "code",
   "execution_count": 12,
   "id": "86744f60-3cc3-4258-be8c-0509c029aa02",
   "metadata": {},
   "outputs": [
    {
     "name": "stdout",
     "output_type": "stream",
     "text": [
      "mean: 5.5\n"
     ]
    }
   ],
   "source": [
    "def calculate_mean(data):\n",
    "    data=[1,2,3,4,5,6,7,8,9,10]\n",
    "    return sum(data)/len(data)\n",
    "print(\"mean:\",calculate_mean(data))\n"
   ]
  },
  {
   "cell_type": "code",
   "execution_count": 12,
   "id": "b91f9c98-1e92-42e1-a293-b2101f32923b",
   "metadata": {},
   "outputs": [
    {
     "name": "stdout",
     "output_type": "stream",
     "text": [
      "median: 5.5\n"
     ]
    }
   ],
   "source": [
    "import statistics\n",
    "def calculate_median(data):\n",
    "    return statistics.median(data)\n",
    "data=[1,2,3,4,5,6,7,8,9,10]\n",
    "median_value=calculate_median(data)\n",
    "print(\"median:\",median_value)\n"
   ]
  },
  {
   "cell_type": "code",
   "execution_count": 13,
   "id": "6e2faf6f-dd85-4dcf-9404-62cd3e127700",
   "metadata": {},
   "outputs": [
    {
     "name": "stdout",
     "output_type": "stream",
     "text": [
      "median: 5.5\n"
     ]
    }
   ],
   "source": [
    "def calculate_mode(data):\n",
    "    return statistics.mode(data)\n",
    "    data=[1,2,3,4,5,6,7,8,9,10]\n",
    "mode_value =calculate_mode(data)\n",
    "print(\"median:\",median_value)\n"
   ]
  },
  {
   "cell_type": "code",
   "execution_count": 15,
   "id": "51f6aced-84cf-4877-a105-92be0eaa709c",
   "metadata": {},
   "outputs": [
    {
     "name": "stdout",
     "output_type": "stream",
     "text": [
      "std deviation: 3.0276503540974917\n"
     ]
    }
   ],
   "source": [
    "def calculate_std_deviation(data):\n",
    "    return statistics.stdev(data)\n",
    "    data=[1,2,3,4,5,6,7,8,9,10]\n",
    "std_deviation_value =calculate_std_deviation(data)\n",
    "print(\"std deviation:\",std_deviation_value)\n"
   ]
  },
  {
   "cell_type": "code",
   "execution_count": 16,
   "id": "437a5e8c-25c2-4b83-9904-29b9d337a992",
   "metadata": {},
   "outputs": [
    {
     "name": "stdout",
     "output_type": "stream",
     "text": [
      "variance: 9.166666666666666\n"
     ]
    }
   ],
   "source": [
    "def calculate_variance(data):\n",
    "    return statistics.variance(data)\n",
    "    data=[1,2,3,4,5,6,7,8,9,10]\n",
    "variance_value =calculate_variance(data)\n",
    "print(\"variance:\",variance_value)\n"
   ]
  },
  {
   "cell_type": "code",
   "execution_count": 21,
   "id": "1e9bf1be-a355-427a-b683-3327df798860",
   "metadata": {},
   "outputs": [
    {
     "name": "stdout",
     "output_type": "stream",
     "text": [
      "range: 9\n"
     ]
    }
   ],
   "source": [
    "def calculate_range(data):\n",
    "    return max(data)-min(data)\n",
    "data=[1,2,3,4,5,6,7,8,9,10]\n",
    "range_value =calculate_range(data)\n",
    "print(\"range:\",range_value)\n"
   ]
  },
  {
   "cell_type": "code",
   "execution_count": 22,
   "id": "fe31cf25-395a-4a9d-b037-d6d8f2e61ec6",
   "metadata": {},
   "outputs": [
    {
     "name": "stdout",
     "output_type": "stream",
     "text": [
      "Quartiles: [3.25 5.5  7.75]\n"
     ]
    }
   ],
   "source": [
    "import numpy as np\n",
    "def calculate_quartiles(data):\n",
    "    return np.percentile(data,[25,50,75])\n",
    "data=[1,2,3,4,5,6,7,8,9,10]\n",
    "quartiles =calculate_quartiles(data)\n",
    "print(\"Quartiles:\",quartiles)\n"
   ]
  },
  {
   "cell_type": "code",
   "execution_count": 26,
   "id": "5e38bb71-253d-492b-baad-60dcb7cb0c23",
   "metadata": {},
   "outputs": [
    {
     "name": "stdout",
     "output_type": "stream",
     "text": [
      "CV: 55.04818825631803\n"
     ]
    }
   ],
   "source": [
    "def calculate_coefficient_of_variation(data):\n",
    "   mean=statistics.mean(data)\n",
    "   std_dev=statistics.stdev(data)\n",
    "   return(std_dev/mean)*100 if mean!=0 else 0\n",
    "data=[1,2,3,4,5,6,7,8,9,10]\n",
    "cv_value=calculate_coefficient_of_variation(data)\n",
    "print(\"CV:\",cv_value)"
   ]
  },
  {
   "cell_type": "code",
   "execution_count": 29,
   "id": "98f0c432-400a-4a93-8638-c5cc411c21fc",
   "metadata": {},
   "outputs": [
    {
     "name": "stdout",
     "output_type": "stream",
     "text": [
      "skewness: 0.0\n"
     ]
    }
   ],
   "source": [
    "from scipy.stats import skew  \n",
    "def calculate_skewness(data):\n",
    "    return skew(data)\n",
    "data=[1,2,3,4,5,6,7,8,9,10]\n",
    "skewness_value=calculate_skewness(data)\n",
    "print(\"skewness:\",skewness_value)"
   ]
  },
  {
   "cell_type": "code",
   "execution_count": null,
   "id": "990b14d2-149e-4cfc-96cd-39a6b3cf491f",
   "metadata": {},
   "outputs": [],
   "source": []
  },
  {
   "cell_type": "code",
   "execution_count": null,
   "id": "44784c73-a5b6-4eba-8289-b1c22141c59f",
   "metadata": {},
   "outputs": [],
   "source": []
  }
 ],
 "metadata": {
  "kernelspec": {
   "display_name": "Python 3 (ipykernel)",
   "language": "python",
   "name": "python3"
  },
  "language_info": {
   "codemirror_mode": {
    "name": "ipython",
    "version": 3
   },
   "file_extension": ".py",
   "mimetype": "text/x-python",
   "name": "python",
   "nbconvert_exporter": "python",
   "pygments_lexer": "ipython3",
   "version": "3.11.7"
  }
 },
 "nbformat": 4,
 "nbformat_minor": 5
}
