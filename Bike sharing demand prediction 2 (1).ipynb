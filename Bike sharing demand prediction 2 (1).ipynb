{
 "cells": [
  {
   "cell_type": "code",
   "execution_count": 1,
   "id": "2d983ac8-3453-40bb-89e6-daec7659205f",
   "metadata": {},
   "outputs": [
    {
     "data": {
      "text/html": [
       "<div>\n",
       "<style scoped>\n",
       "    .dataframe tbody tr th:only-of-type {\n",
       "        vertical-align: middle;\n",
       "    }\n",
       "\n",
       "    .dataframe tbody tr th {\n",
       "        vertical-align: top;\n",
       "    }\n",
       "\n",
       "    .dataframe thead th {\n",
       "        text-align: right;\n",
       "    }\n",
       "</style>\n",
       "<table border=\"1\" class=\"dataframe\">\n",
       "  <thead>\n",
       "    <tr style=\"text-align: right;\">\n",
       "      <th></th>\n",
       "      <th>Date</th>\n",
       "      <th>Rented Bike Count</th>\n",
       "      <th>Hour</th>\n",
       "      <th>Temperature(°C)</th>\n",
       "      <th>Humidity(%)</th>\n",
       "      <th>Wind speed (m/s)</th>\n",
       "      <th>Visibility (10m)</th>\n",
       "      <th>Dew point temperature(°C)</th>\n",
       "      <th>Solar Radiation (MJ/m2)</th>\n",
       "      <th>Rainfall(mm)</th>\n",
       "      <th>Snowfall (cm)</th>\n",
       "      <th>Seasons</th>\n",
       "      <th>Holiday</th>\n",
       "      <th>Functioning Day</th>\n",
       "    </tr>\n",
       "  </thead>\n",
       "  <tbody>\n",
       "    <tr>\n",
       "      <th>0</th>\n",
       "      <td>1/12/2017</td>\n",
       "      <td>254</td>\n",
       "      <td>0</td>\n",
       "      <td>-5.2</td>\n",
       "      <td>37</td>\n",
       "      <td>2.2</td>\n",
       "      <td>2000</td>\n",
       "      <td>-17.6</td>\n",
       "      <td>0.0</td>\n",
       "      <td>0.0</td>\n",
       "      <td>0.0</td>\n",
       "      <td>Winter</td>\n",
       "      <td>No Holiday</td>\n",
       "      <td>Yes</td>\n",
       "    </tr>\n",
       "    <tr>\n",
       "      <th>1</th>\n",
       "      <td>1/12/2017</td>\n",
       "      <td>204</td>\n",
       "      <td>1</td>\n",
       "      <td>-5.5</td>\n",
       "      <td>38</td>\n",
       "      <td>0.8</td>\n",
       "      <td>2000</td>\n",
       "      <td>-17.6</td>\n",
       "      <td>0.0</td>\n",
       "      <td>0.0</td>\n",
       "      <td>0.0</td>\n",
       "      <td>Winter</td>\n",
       "      <td>No Holiday</td>\n",
       "      <td>Yes</td>\n",
       "    </tr>\n",
       "    <tr>\n",
       "      <th>2</th>\n",
       "      <td>1/12/2017</td>\n",
       "      <td>173</td>\n",
       "      <td>2</td>\n",
       "      <td>-6.0</td>\n",
       "      <td>39</td>\n",
       "      <td>1.0</td>\n",
       "      <td>2000</td>\n",
       "      <td>-17.7</td>\n",
       "      <td>0.0</td>\n",
       "      <td>0.0</td>\n",
       "      <td>0.0</td>\n",
       "      <td>Winter</td>\n",
       "      <td>No Holiday</td>\n",
       "      <td>Yes</td>\n",
       "    </tr>\n",
       "    <tr>\n",
       "      <th>3</th>\n",
       "      <td>1/12/2017</td>\n",
       "      <td>107</td>\n",
       "      <td>3</td>\n",
       "      <td>-6.2</td>\n",
       "      <td>40</td>\n",
       "      <td>0.9</td>\n",
       "      <td>2000</td>\n",
       "      <td>-17.6</td>\n",
       "      <td>0.0</td>\n",
       "      <td>0.0</td>\n",
       "      <td>0.0</td>\n",
       "      <td>Winter</td>\n",
       "      <td>No Holiday</td>\n",
       "      <td>Yes</td>\n",
       "    </tr>\n",
       "    <tr>\n",
       "      <th>4</th>\n",
       "      <td>1/12/2017</td>\n",
       "      <td>78</td>\n",
       "      <td>4</td>\n",
       "      <td>-6.0</td>\n",
       "      <td>36</td>\n",
       "      <td>2.3</td>\n",
       "      <td>2000</td>\n",
       "      <td>-18.6</td>\n",
       "      <td>0.0</td>\n",
       "      <td>0.0</td>\n",
       "      <td>0.0</td>\n",
       "      <td>Winter</td>\n",
       "      <td>No Holiday</td>\n",
       "      <td>Yes</td>\n",
       "    </tr>\n",
       "    <tr>\n",
       "      <th>...</th>\n",
       "      <td>...</td>\n",
       "      <td>...</td>\n",
       "      <td>...</td>\n",
       "      <td>...</td>\n",
       "      <td>...</td>\n",
       "      <td>...</td>\n",
       "      <td>...</td>\n",
       "      <td>...</td>\n",
       "      <td>...</td>\n",
       "      <td>...</td>\n",
       "      <td>...</td>\n",
       "      <td>...</td>\n",
       "      <td>...</td>\n",
       "      <td>...</td>\n",
       "    </tr>\n",
       "    <tr>\n",
       "      <th>8755</th>\n",
       "      <td>30/11/2018</td>\n",
       "      <td>1003</td>\n",
       "      <td>19</td>\n",
       "      <td>4.2</td>\n",
       "      <td>34</td>\n",
       "      <td>2.6</td>\n",
       "      <td>1894</td>\n",
       "      <td>-10.3</td>\n",
       "      <td>0.0</td>\n",
       "      <td>0.0</td>\n",
       "      <td>0.0</td>\n",
       "      <td>Autumn</td>\n",
       "      <td>No Holiday</td>\n",
       "      <td>Yes</td>\n",
       "    </tr>\n",
       "    <tr>\n",
       "      <th>8756</th>\n",
       "      <td>30/11/2018</td>\n",
       "      <td>764</td>\n",
       "      <td>20</td>\n",
       "      <td>3.4</td>\n",
       "      <td>37</td>\n",
       "      <td>2.3</td>\n",
       "      <td>2000</td>\n",
       "      <td>-9.9</td>\n",
       "      <td>0.0</td>\n",
       "      <td>0.0</td>\n",
       "      <td>0.0</td>\n",
       "      <td>Autumn</td>\n",
       "      <td>No Holiday</td>\n",
       "      <td>Yes</td>\n",
       "    </tr>\n",
       "    <tr>\n",
       "      <th>8757</th>\n",
       "      <td>30/11/2018</td>\n",
       "      <td>694</td>\n",
       "      <td>21</td>\n",
       "      <td>2.6</td>\n",
       "      <td>39</td>\n",
       "      <td>0.3</td>\n",
       "      <td>1968</td>\n",
       "      <td>-9.9</td>\n",
       "      <td>0.0</td>\n",
       "      <td>0.0</td>\n",
       "      <td>0.0</td>\n",
       "      <td>Autumn</td>\n",
       "      <td>No Holiday</td>\n",
       "      <td>Yes</td>\n",
       "    </tr>\n",
       "    <tr>\n",
       "      <th>8758</th>\n",
       "      <td>30/11/2018</td>\n",
       "      <td>712</td>\n",
       "      <td>22</td>\n",
       "      <td>2.1</td>\n",
       "      <td>41</td>\n",
       "      <td>1.0</td>\n",
       "      <td>1859</td>\n",
       "      <td>-9.8</td>\n",
       "      <td>0.0</td>\n",
       "      <td>0.0</td>\n",
       "      <td>0.0</td>\n",
       "      <td>Autumn</td>\n",
       "      <td>No Holiday</td>\n",
       "      <td>Yes</td>\n",
       "    </tr>\n",
       "    <tr>\n",
       "      <th>8759</th>\n",
       "      <td>30/11/2018</td>\n",
       "      <td>584</td>\n",
       "      <td>23</td>\n",
       "      <td>1.9</td>\n",
       "      <td>43</td>\n",
       "      <td>1.3</td>\n",
       "      <td>1909</td>\n",
       "      <td>-9.3</td>\n",
       "      <td>0.0</td>\n",
       "      <td>0.0</td>\n",
       "      <td>0.0</td>\n",
       "      <td>Autumn</td>\n",
       "      <td>No Holiday</td>\n",
       "      <td>Yes</td>\n",
       "    </tr>\n",
       "  </tbody>\n",
       "</table>\n",
       "<p>8760 rows × 14 columns</p>\n",
       "</div>"
      ],
      "text/plain": [
       "            Date  Rented Bike Count  Hour  Temperature(°C)  Humidity(%)  \\\n",
       "0      1/12/2017                254     0             -5.2           37   \n",
       "1      1/12/2017                204     1             -5.5           38   \n",
       "2      1/12/2017                173     2             -6.0           39   \n",
       "3      1/12/2017                107     3             -6.2           40   \n",
       "4      1/12/2017                 78     4             -6.0           36   \n",
       "...          ...                ...   ...              ...          ...   \n",
       "8755  30/11/2018               1003    19              4.2           34   \n",
       "8756  30/11/2018                764    20              3.4           37   \n",
       "8757  30/11/2018                694    21              2.6           39   \n",
       "8758  30/11/2018                712    22              2.1           41   \n",
       "8759  30/11/2018                584    23              1.9           43   \n",
       "\n",
       "      Wind speed (m/s)  Visibility (10m)  Dew point temperature(°C)  \\\n",
       "0                  2.2              2000                      -17.6   \n",
       "1                  0.8              2000                      -17.6   \n",
       "2                  1.0              2000                      -17.7   \n",
       "3                  0.9              2000                      -17.6   \n",
       "4                  2.3              2000                      -18.6   \n",
       "...                ...               ...                        ...   \n",
       "8755               2.6              1894                      -10.3   \n",
       "8756               2.3              2000                       -9.9   \n",
       "8757               0.3              1968                       -9.9   \n",
       "8758               1.0              1859                       -9.8   \n",
       "8759               1.3              1909                       -9.3   \n",
       "\n",
       "      Solar Radiation (MJ/m2)  Rainfall(mm)  Snowfall (cm) Seasons  \\\n",
       "0                         0.0           0.0            0.0  Winter   \n",
       "1                         0.0           0.0            0.0  Winter   \n",
       "2                         0.0           0.0            0.0  Winter   \n",
       "3                         0.0           0.0            0.0  Winter   \n",
       "4                         0.0           0.0            0.0  Winter   \n",
       "...                       ...           ...            ...     ...   \n",
       "8755                      0.0           0.0            0.0  Autumn   \n",
       "8756                      0.0           0.0            0.0  Autumn   \n",
       "8757                      0.0           0.0            0.0  Autumn   \n",
       "8758                      0.0           0.0            0.0  Autumn   \n",
       "8759                      0.0           0.0            0.0  Autumn   \n",
       "\n",
       "         Holiday Functioning Day  \n",
       "0     No Holiday             Yes  \n",
       "1     No Holiday             Yes  \n",
       "2     No Holiday             Yes  \n",
       "3     No Holiday             Yes  \n",
       "4     No Holiday             Yes  \n",
       "...          ...             ...  \n",
       "8755  No Holiday             Yes  \n",
       "8756  No Holiday             Yes  \n",
       "8757  No Holiday             Yes  \n",
       "8758  No Holiday             Yes  \n",
       "8759  No Holiday             Yes  \n",
       "\n",
       "[8760 rows x 14 columns]"
      ]
     },
     "execution_count": 1,
     "metadata": {},
     "output_type": "execute_result"
    }
   ],
   "source": [
    "import pandas as pd\n",
    "data=pd.read_csv(\"C:/Users/ADMIN/Desktop/Bike Data.csv\",encoding='latin1')\n",
    "data"
   ]
  },
  {
   "cell_type": "code",
   "execution_count": 2,
   "id": "554b301e-9add-4684-bc5a-165feed7c8bb",
   "metadata": {},
   "outputs": [
    {
     "data": {
      "text/html": [
       "<div>\n",
       "<style scoped>\n",
       "    .dataframe tbody tr th:only-of-type {\n",
       "        vertical-align: middle;\n",
       "    }\n",
       "\n",
       "    .dataframe tbody tr th {\n",
       "        vertical-align: top;\n",
       "    }\n",
       "\n",
       "    .dataframe thead th {\n",
       "        text-align: right;\n",
       "    }\n",
       "</style>\n",
       "<table border=\"1\" class=\"dataframe\">\n",
       "  <thead>\n",
       "    <tr style=\"text-align: right;\">\n",
       "      <th></th>\n",
       "      <th>Date</th>\n",
       "      <th>Rented Bike Count</th>\n",
       "      <th>Hour</th>\n",
       "      <th>Temperature(°C)</th>\n",
       "      <th>Humidity(%)</th>\n",
       "      <th>Wind speed (m/s)</th>\n",
       "      <th>Visibility (10m)</th>\n",
       "      <th>Dew point temperature(°C)</th>\n",
       "      <th>Solar Radiation (MJ/m2)</th>\n",
       "      <th>Rainfall(mm)</th>\n",
       "      <th>Snowfall (cm)</th>\n",
       "      <th>Seasons</th>\n",
       "      <th>Holiday</th>\n",
       "      <th>Functioning Day</th>\n",
       "    </tr>\n",
       "  </thead>\n",
       "  <tbody>\n",
       "    <tr>\n",
       "      <th>0</th>\n",
       "      <td>2017-01-12</td>\n",
       "      <td>254</td>\n",
       "      <td>0</td>\n",
       "      <td>-5.2</td>\n",
       "      <td>37</td>\n",
       "      <td>2.2</td>\n",
       "      <td>2000</td>\n",
       "      <td>-17.6</td>\n",
       "      <td>0.0</td>\n",
       "      <td>0.0</td>\n",
       "      <td>0.0</td>\n",
       "      <td>Winter</td>\n",
       "      <td>No Holiday</td>\n",
       "      <td>Yes</td>\n",
       "    </tr>\n",
       "    <tr>\n",
       "      <th>1</th>\n",
       "      <td>2017-01-12</td>\n",
       "      <td>204</td>\n",
       "      <td>1</td>\n",
       "      <td>-5.5</td>\n",
       "      <td>38</td>\n",
       "      <td>0.8</td>\n",
       "      <td>2000</td>\n",
       "      <td>-17.6</td>\n",
       "      <td>0.0</td>\n",
       "      <td>0.0</td>\n",
       "      <td>0.0</td>\n",
       "      <td>Winter</td>\n",
       "      <td>No Holiday</td>\n",
       "      <td>Yes</td>\n",
       "    </tr>\n",
       "    <tr>\n",
       "      <th>2</th>\n",
       "      <td>2017-01-12</td>\n",
       "      <td>173</td>\n",
       "      <td>2</td>\n",
       "      <td>-6.0</td>\n",
       "      <td>39</td>\n",
       "      <td>1.0</td>\n",
       "      <td>2000</td>\n",
       "      <td>-17.7</td>\n",
       "      <td>0.0</td>\n",
       "      <td>0.0</td>\n",
       "      <td>0.0</td>\n",
       "      <td>Winter</td>\n",
       "      <td>No Holiday</td>\n",
       "      <td>Yes</td>\n",
       "    </tr>\n",
       "    <tr>\n",
       "      <th>3</th>\n",
       "      <td>2017-01-12</td>\n",
       "      <td>107</td>\n",
       "      <td>3</td>\n",
       "      <td>-6.2</td>\n",
       "      <td>40</td>\n",
       "      <td>0.9</td>\n",
       "      <td>2000</td>\n",
       "      <td>-17.6</td>\n",
       "      <td>0.0</td>\n",
       "      <td>0.0</td>\n",
       "      <td>0.0</td>\n",
       "      <td>Winter</td>\n",
       "      <td>No Holiday</td>\n",
       "      <td>Yes</td>\n",
       "    </tr>\n",
       "    <tr>\n",
       "      <th>4</th>\n",
       "      <td>2017-01-12</td>\n",
       "      <td>78</td>\n",
       "      <td>4</td>\n",
       "      <td>-6.0</td>\n",
       "      <td>36</td>\n",
       "      <td>2.3</td>\n",
       "      <td>2000</td>\n",
       "      <td>-18.6</td>\n",
       "      <td>0.0</td>\n",
       "      <td>0.0</td>\n",
       "      <td>0.0</td>\n",
       "      <td>Winter</td>\n",
       "      <td>No Holiday</td>\n",
       "      <td>Yes</td>\n",
       "    </tr>\n",
       "    <tr>\n",
       "      <th>...</th>\n",
       "      <td>...</td>\n",
       "      <td>...</td>\n",
       "      <td>...</td>\n",
       "      <td>...</td>\n",
       "      <td>...</td>\n",
       "      <td>...</td>\n",
       "      <td>...</td>\n",
       "      <td>...</td>\n",
       "      <td>...</td>\n",
       "      <td>...</td>\n",
       "      <td>...</td>\n",
       "      <td>...</td>\n",
       "      <td>...</td>\n",
       "      <td>...</td>\n",
       "    </tr>\n",
       "    <tr>\n",
       "      <th>8755</th>\n",
       "      <td>2018-11-30</td>\n",
       "      <td>1003</td>\n",
       "      <td>19</td>\n",
       "      <td>4.2</td>\n",
       "      <td>34</td>\n",
       "      <td>2.6</td>\n",
       "      <td>1894</td>\n",
       "      <td>-10.3</td>\n",
       "      <td>0.0</td>\n",
       "      <td>0.0</td>\n",
       "      <td>0.0</td>\n",
       "      <td>Autumn</td>\n",
       "      <td>No Holiday</td>\n",
       "      <td>Yes</td>\n",
       "    </tr>\n",
       "    <tr>\n",
       "      <th>8756</th>\n",
       "      <td>2018-11-30</td>\n",
       "      <td>764</td>\n",
       "      <td>20</td>\n",
       "      <td>3.4</td>\n",
       "      <td>37</td>\n",
       "      <td>2.3</td>\n",
       "      <td>2000</td>\n",
       "      <td>-9.9</td>\n",
       "      <td>0.0</td>\n",
       "      <td>0.0</td>\n",
       "      <td>0.0</td>\n",
       "      <td>Autumn</td>\n",
       "      <td>No Holiday</td>\n",
       "      <td>Yes</td>\n",
       "    </tr>\n",
       "    <tr>\n",
       "      <th>8757</th>\n",
       "      <td>2018-11-30</td>\n",
       "      <td>694</td>\n",
       "      <td>21</td>\n",
       "      <td>2.6</td>\n",
       "      <td>39</td>\n",
       "      <td>0.3</td>\n",
       "      <td>1968</td>\n",
       "      <td>-9.9</td>\n",
       "      <td>0.0</td>\n",
       "      <td>0.0</td>\n",
       "      <td>0.0</td>\n",
       "      <td>Autumn</td>\n",
       "      <td>No Holiday</td>\n",
       "      <td>Yes</td>\n",
       "    </tr>\n",
       "    <tr>\n",
       "      <th>8758</th>\n",
       "      <td>2018-11-30</td>\n",
       "      <td>712</td>\n",
       "      <td>22</td>\n",
       "      <td>2.1</td>\n",
       "      <td>41</td>\n",
       "      <td>1.0</td>\n",
       "      <td>1859</td>\n",
       "      <td>-9.8</td>\n",
       "      <td>0.0</td>\n",
       "      <td>0.0</td>\n",
       "      <td>0.0</td>\n",
       "      <td>Autumn</td>\n",
       "      <td>No Holiday</td>\n",
       "      <td>Yes</td>\n",
       "    </tr>\n",
       "    <tr>\n",
       "      <th>8759</th>\n",
       "      <td>2018-11-30</td>\n",
       "      <td>584</td>\n",
       "      <td>23</td>\n",
       "      <td>1.9</td>\n",
       "      <td>43</td>\n",
       "      <td>1.3</td>\n",
       "      <td>1909</td>\n",
       "      <td>-9.3</td>\n",
       "      <td>0.0</td>\n",
       "      <td>0.0</td>\n",
       "      <td>0.0</td>\n",
       "      <td>Autumn</td>\n",
       "      <td>No Holiday</td>\n",
       "      <td>Yes</td>\n",
       "    </tr>\n",
       "  </tbody>\n",
       "</table>\n",
       "<p>8760 rows × 14 columns</p>\n",
       "</div>"
      ],
      "text/plain": [
       "           Date  Rented Bike Count  Hour  Temperature(°C)  Humidity(%)  \\\n",
       "0    2017-01-12                254     0             -5.2           37   \n",
       "1    2017-01-12                204     1             -5.5           38   \n",
       "2    2017-01-12                173     2             -6.0           39   \n",
       "3    2017-01-12                107     3             -6.2           40   \n",
       "4    2017-01-12                 78     4             -6.0           36   \n",
       "...         ...                ...   ...              ...          ...   \n",
       "8755 2018-11-30               1003    19              4.2           34   \n",
       "8756 2018-11-30                764    20              3.4           37   \n",
       "8757 2018-11-30                694    21              2.6           39   \n",
       "8758 2018-11-30                712    22              2.1           41   \n",
       "8759 2018-11-30                584    23              1.9           43   \n",
       "\n",
       "      Wind speed (m/s)  Visibility (10m)  Dew point temperature(°C)  \\\n",
       "0                  2.2              2000                      -17.6   \n",
       "1                  0.8              2000                      -17.6   \n",
       "2                  1.0              2000                      -17.7   \n",
       "3                  0.9              2000                      -17.6   \n",
       "4                  2.3              2000                      -18.6   \n",
       "...                ...               ...                        ...   \n",
       "8755               2.6              1894                      -10.3   \n",
       "8756               2.3              2000                       -9.9   \n",
       "8757               0.3              1968                       -9.9   \n",
       "8758               1.0              1859                       -9.8   \n",
       "8759               1.3              1909                       -9.3   \n",
       "\n",
       "      Solar Radiation (MJ/m2)  Rainfall(mm)  Snowfall (cm) Seasons  \\\n",
       "0                         0.0           0.0            0.0  Winter   \n",
       "1                         0.0           0.0            0.0  Winter   \n",
       "2                         0.0           0.0            0.0  Winter   \n",
       "3                         0.0           0.0            0.0  Winter   \n",
       "4                         0.0           0.0            0.0  Winter   \n",
       "...                       ...           ...            ...     ...   \n",
       "8755                      0.0           0.0            0.0  Autumn   \n",
       "8756                      0.0           0.0            0.0  Autumn   \n",
       "8757                      0.0           0.0            0.0  Autumn   \n",
       "8758                      0.0           0.0            0.0  Autumn   \n",
       "8759                      0.0           0.0            0.0  Autumn   \n",
       "\n",
       "         Holiday Functioning Day  \n",
       "0     No Holiday             Yes  \n",
       "1     No Holiday             Yes  \n",
       "2     No Holiday             Yes  \n",
       "3     No Holiday             Yes  \n",
       "4     No Holiday             Yes  \n",
       "...          ...             ...  \n",
       "8755  No Holiday             Yes  \n",
       "8756  No Holiday             Yes  \n",
       "8757  No Holiday             Yes  \n",
       "8758  No Holiday             Yes  \n",
       "8759  No Holiday             Yes  \n",
       "\n",
       "[8760 rows x 14 columns]"
      ]
     },
     "execution_count": 2,
     "metadata": {},
     "output_type": "execute_result"
    }
   ],
   "source": [
    "data[\"Date\"]=pd.to_datetime(data[\"Date\"],format=\"mixed\")\n",
    "data"
   ]
  },
  {
   "cell_type": "code",
   "execution_count": 3,
   "id": "f9ddec7e-ddbe-4e60-aa76-dd453b21e7cb",
   "metadata": {},
   "outputs": [],
   "source": [
    "data[\"Day\"]=data[\"Date\"].dt.day\n",
    "data[\"Month\"]=data[\"Date\"].dt.month\n",
    "data[\"Year\"]=data[\"Date\"].dt.year"
   ]
  },
  {
   "cell_type": "code",
   "execution_count": 4,
   "id": "0d763e9a-d8eb-4c97-9a85-2c75f02b9ce3",
   "metadata": {},
   "outputs": [
    {
     "data": {
      "text/html": [
       "<div>\n",
       "<style scoped>\n",
       "    .dataframe tbody tr th:only-of-type {\n",
       "        vertical-align: middle;\n",
       "    }\n",
       "\n",
       "    .dataframe tbody tr th {\n",
       "        vertical-align: top;\n",
       "    }\n",
       "\n",
       "    .dataframe thead th {\n",
       "        text-align: right;\n",
       "    }\n",
       "</style>\n",
       "<table border=\"1\" class=\"dataframe\">\n",
       "  <thead>\n",
       "    <tr style=\"text-align: right;\">\n",
       "      <th></th>\n",
       "      <th>Date</th>\n",
       "      <th>Rented Bike Count</th>\n",
       "      <th>Hour</th>\n",
       "      <th>Temperature(°C)</th>\n",
       "      <th>Humidity(%)</th>\n",
       "      <th>Wind speed (m/s)</th>\n",
       "      <th>Visibility (10m)</th>\n",
       "      <th>Dew point temperature(°C)</th>\n",
       "      <th>Solar Radiation (MJ/m2)</th>\n",
       "      <th>Rainfall(mm)</th>\n",
       "      <th>Snowfall (cm)</th>\n",
       "      <th>Seasons</th>\n",
       "      <th>Holiday</th>\n",
       "      <th>Functioning Day</th>\n",
       "      <th>Day</th>\n",
       "      <th>Month</th>\n",
       "      <th>Year</th>\n",
       "    </tr>\n",
       "  </thead>\n",
       "  <tbody>\n",
       "    <tr>\n",
       "      <th>0</th>\n",
       "      <td>2017-01-12</td>\n",
       "      <td>254</td>\n",
       "      <td>0</td>\n",
       "      <td>-5.2</td>\n",
       "      <td>37</td>\n",
       "      <td>2.2</td>\n",
       "      <td>2000</td>\n",
       "      <td>-17.6</td>\n",
       "      <td>0.0</td>\n",
       "      <td>0.0</td>\n",
       "      <td>0.0</td>\n",
       "      <td>Winter</td>\n",
       "      <td>No Holiday</td>\n",
       "      <td>Yes</td>\n",
       "      <td>12</td>\n",
       "      <td>1</td>\n",
       "      <td>2017</td>\n",
       "    </tr>\n",
       "    <tr>\n",
       "      <th>1</th>\n",
       "      <td>2017-01-12</td>\n",
       "      <td>204</td>\n",
       "      <td>1</td>\n",
       "      <td>-5.5</td>\n",
       "      <td>38</td>\n",
       "      <td>0.8</td>\n",
       "      <td>2000</td>\n",
       "      <td>-17.6</td>\n",
       "      <td>0.0</td>\n",
       "      <td>0.0</td>\n",
       "      <td>0.0</td>\n",
       "      <td>Winter</td>\n",
       "      <td>No Holiday</td>\n",
       "      <td>Yes</td>\n",
       "      <td>12</td>\n",
       "      <td>1</td>\n",
       "      <td>2017</td>\n",
       "    </tr>\n",
       "    <tr>\n",
       "      <th>2</th>\n",
       "      <td>2017-01-12</td>\n",
       "      <td>173</td>\n",
       "      <td>2</td>\n",
       "      <td>-6.0</td>\n",
       "      <td>39</td>\n",
       "      <td>1.0</td>\n",
       "      <td>2000</td>\n",
       "      <td>-17.7</td>\n",
       "      <td>0.0</td>\n",
       "      <td>0.0</td>\n",
       "      <td>0.0</td>\n",
       "      <td>Winter</td>\n",
       "      <td>No Holiday</td>\n",
       "      <td>Yes</td>\n",
       "      <td>12</td>\n",
       "      <td>1</td>\n",
       "      <td>2017</td>\n",
       "    </tr>\n",
       "    <tr>\n",
       "      <th>3</th>\n",
       "      <td>2017-01-12</td>\n",
       "      <td>107</td>\n",
       "      <td>3</td>\n",
       "      <td>-6.2</td>\n",
       "      <td>40</td>\n",
       "      <td>0.9</td>\n",
       "      <td>2000</td>\n",
       "      <td>-17.6</td>\n",
       "      <td>0.0</td>\n",
       "      <td>0.0</td>\n",
       "      <td>0.0</td>\n",
       "      <td>Winter</td>\n",
       "      <td>No Holiday</td>\n",
       "      <td>Yes</td>\n",
       "      <td>12</td>\n",
       "      <td>1</td>\n",
       "      <td>2017</td>\n",
       "    </tr>\n",
       "    <tr>\n",
       "      <th>4</th>\n",
       "      <td>2017-01-12</td>\n",
       "      <td>78</td>\n",
       "      <td>4</td>\n",
       "      <td>-6.0</td>\n",
       "      <td>36</td>\n",
       "      <td>2.3</td>\n",
       "      <td>2000</td>\n",
       "      <td>-18.6</td>\n",
       "      <td>0.0</td>\n",
       "      <td>0.0</td>\n",
       "      <td>0.0</td>\n",
       "      <td>Winter</td>\n",
       "      <td>No Holiday</td>\n",
       "      <td>Yes</td>\n",
       "      <td>12</td>\n",
       "      <td>1</td>\n",
       "      <td>2017</td>\n",
       "    </tr>\n",
       "    <tr>\n",
       "      <th>...</th>\n",
       "      <td>...</td>\n",
       "      <td>...</td>\n",
       "      <td>...</td>\n",
       "      <td>...</td>\n",
       "      <td>...</td>\n",
       "      <td>...</td>\n",
       "      <td>...</td>\n",
       "      <td>...</td>\n",
       "      <td>...</td>\n",
       "      <td>...</td>\n",
       "      <td>...</td>\n",
       "      <td>...</td>\n",
       "      <td>...</td>\n",
       "      <td>...</td>\n",
       "      <td>...</td>\n",
       "      <td>...</td>\n",
       "      <td>...</td>\n",
       "    </tr>\n",
       "    <tr>\n",
       "      <th>8755</th>\n",
       "      <td>2018-11-30</td>\n",
       "      <td>1003</td>\n",
       "      <td>19</td>\n",
       "      <td>4.2</td>\n",
       "      <td>34</td>\n",
       "      <td>2.6</td>\n",
       "      <td>1894</td>\n",
       "      <td>-10.3</td>\n",
       "      <td>0.0</td>\n",
       "      <td>0.0</td>\n",
       "      <td>0.0</td>\n",
       "      <td>Autumn</td>\n",
       "      <td>No Holiday</td>\n",
       "      <td>Yes</td>\n",
       "      <td>30</td>\n",
       "      <td>11</td>\n",
       "      <td>2018</td>\n",
       "    </tr>\n",
       "    <tr>\n",
       "      <th>8756</th>\n",
       "      <td>2018-11-30</td>\n",
       "      <td>764</td>\n",
       "      <td>20</td>\n",
       "      <td>3.4</td>\n",
       "      <td>37</td>\n",
       "      <td>2.3</td>\n",
       "      <td>2000</td>\n",
       "      <td>-9.9</td>\n",
       "      <td>0.0</td>\n",
       "      <td>0.0</td>\n",
       "      <td>0.0</td>\n",
       "      <td>Autumn</td>\n",
       "      <td>No Holiday</td>\n",
       "      <td>Yes</td>\n",
       "      <td>30</td>\n",
       "      <td>11</td>\n",
       "      <td>2018</td>\n",
       "    </tr>\n",
       "    <tr>\n",
       "      <th>8757</th>\n",
       "      <td>2018-11-30</td>\n",
       "      <td>694</td>\n",
       "      <td>21</td>\n",
       "      <td>2.6</td>\n",
       "      <td>39</td>\n",
       "      <td>0.3</td>\n",
       "      <td>1968</td>\n",
       "      <td>-9.9</td>\n",
       "      <td>0.0</td>\n",
       "      <td>0.0</td>\n",
       "      <td>0.0</td>\n",
       "      <td>Autumn</td>\n",
       "      <td>No Holiday</td>\n",
       "      <td>Yes</td>\n",
       "      <td>30</td>\n",
       "      <td>11</td>\n",
       "      <td>2018</td>\n",
       "    </tr>\n",
       "    <tr>\n",
       "      <th>8758</th>\n",
       "      <td>2018-11-30</td>\n",
       "      <td>712</td>\n",
       "      <td>22</td>\n",
       "      <td>2.1</td>\n",
       "      <td>41</td>\n",
       "      <td>1.0</td>\n",
       "      <td>1859</td>\n",
       "      <td>-9.8</td>\n",
       "      <td>0.0</td>\n",
       "      <td>0.0</td>\n",
       "      <td>0.0</td>\n",
       "      <td>Autumn</td>\n",
       "      <td>No Holiday</td>\n",
       "      <td>Yes</td>\n",
       "      <td>30</td>\n",
       "      <td>11</td>\n",
       "      <td>2018</td>\n",
       "    </tr>\n",
       "    <tr>\n",
       "      <th>8759</th>\n",
       "      <td>2018-11-30</td>\n",
       "      <td>584</td>\n",
       "      <td>23</td>\n",
       "      <td>1.9</td>\n",
       "      <td>43</td>\n",
       "      <td>1.3</td>\n",
       "      <td>1909</td>\n",
       "      <td>-9.3</td>\n",
       "      <td>0.0</td>\n",
       "      <td>0.0</td>\n",
       "      <td>0.0</td>\n",
       "      <td>Autumn</td>\n",
       "      <td>No Holiday</td>\n",
       "      <td>Yes</td>\n",
       "      <td>30</td>\n",
       "      <td>11</td>\n",
       "      <td>2018</td>\n",
       "    </tr>\n",
       "  </tbody>\n",
       "</table>\n",
       "<p>8760 rows × 17 columns</p>\n",
       "</div>"
      ],
      "text/plain": [
       "           Date  Rented Bike Count  Hour  Temperature(°C)  Humidity(%)  \\\n",
       "0    2017-01-12                254     0             -5.2           37   \n",
       "1    2017-01-12                204     1             -5.5           38   \n",
       "2    2017-01-12                173     2             -6.0           39   \n",
       "3    2017-01-12                107     3             -6.2           40   \n",
       "4    2017-01-12                 78     4             -6.0           36   \n",
       "...         ...                ...   ...              ...          ...   \n",
       "8755 2018-11-30               1003    19              4.2           34   \n",
       "8756 2018-11-30                764    20              3.4           37   \n",
       "8757 2018-11-30                694    21              2.6           39   \n",
       "8758 2018-11-30                712    22              2.1           41   \n",
       "8759 2018-11-30                584    23              1.9           43   \n",
       "\n",
       "      Wind speed (m/s)  Visibility (10m)  Dew point temperature(°C)  \\\n",
       "0                  2.2              2000                      -17.6   \n",
       "1                  0.8              2000                      -17.6   \n",
       "2                  1.0              2000                      -17.7   \n",
       "3                  0.9              2000                      -17.6   \n",
       "4                  2.3              2000                      -18.6   \n",
       "...                ...               ...                        ...   \n",
       "8755               2.6              1894                      -10.3   \n",
       "8756               2.3              2000                       -9.9   \n",
       "8757               0.3              1968                       -9.9   \n",
       "8758               1.0              1859                       -9.8   \n",
       "8759               1.3              1909                       -9.3   \n",
       "\n",
       "      Solar Radiation (MJ/m2)  Rainfall(mm)  Snowfall (cm) Seasons  \\\n",
       "0                         0.0           0.0            0.0  Winter   \n",
       "1                         0.0           0.0            0.0  Winter   \n",
       "2                         0.0           0.0            0.0  Winter   \n",
       "3                         0.0           0.0            0.0  Winter   \n",
       "4                         0.0           0.0            0.0  Winter   \n",
       "...                       ...           ...            ...     ...   \n",
       "8755                      0.0           0.0            0.0  Autumn   \n",
       "8756                      0.0           0.0            0.0  Autumn   \n",
       "8757                      0.0           0.0            0.0  Autumn   \n",
       "8758                      0.0           0.0            0.0  Autumn   \n",
       "8759                      0.0           0.0            0.0  Autumn   \n",
       "\n",
       "         Holiday Functioning Day  Day  Month  Year  \n",
       "0     No Holiday             Yes   12      1  2017  \n",
       "1     No Holiday             Yes   12      1  2017  \n",
       "2     No Holiday             Yes   12      1  2017  \n",
       "3     No Holiday             Yes   12      1  2017  \n",
       "4     No Holiday             Yes   12      1  2017  \n",
       "...          ...             ...  ...    ...   ...  \n",
       "8755  No Holiday             Yes   30     11  2018  \n",
       "8756  No Holiday             Yes   30     11  2018  \n",
       "8757  No Holiday             Yes   30     11  2018  \n",
       "8758  No Holiday             Yes   30     11  2018  \n",
       "8759  No Holiday             Yes   30     11  2018  \n",
       "\n",
       "[8760 rows x 17 columns]"
      ]
     },
     "execution_count": 4,
     "metadata": {},
     "output_type": "execute_result"
    }
   ],
   "source": [
    "data"
   ]
  },
  {
   "cell_type": "code",
   "execution_count": 5,
   "id": "b596f3e4-7f24-4680-96dc-0e9ce9a25a5a",
   "metadata": {},
   "outputs": [
    {
     "data": {
      "text/html": [
       "<div>\n",
       "<style scoped>\n",
       "    .dataframe tbody tr th:only-of-type {\n",
       "        vertical-align: middle;\n",
       "    }\n",
       "\n",
       "    .dataframe tbody tr th {\n",
       "        vertical-align: top;\n",
       "    }\n",
       "\n",
       "    .dataframe thead th {\n",
       "        text-align: right;\n",
       "    }\n",
       "</style>\n",
       "<table border=\"1\" class=\"dataframe\">\n",
       "  <thead>\n",
       "    <tr style=\"text-align: right;\">\n",
       "      <th></th>\n",
       "      <th>Rented Bike Count</th>\n",
       "      <th>Hour</th>\n",
       "      <th>Temperature(°C)</th>\n",
       "      <th>Humidity(%)</th>\n",
       "      <th>Wind speed (m/s)</th>\n",
       "      <th>Visibility (10m)</th>\n",
       "      <th>Dew point temperature(°C)</th>\n",
       "      <th>Solar Radiation (MJ/m2)</th>\n",
       "      <th>Rainfall(mm)</th>\n",
       "      <th>Snowfall (cm)</th>\n",
       "      <th>Seasons</th>\n",
       "      <th>Holiday</th>\n",
       "      <th>Functioning Day</th>\n",
       "      <th>Day</th>\n",
       "      <th>Month</th>\n",
       "      <th>Year</th>\n",
       "    </tr>\n",
       "  </thead>\n",
       "  <tbody>\n",
       "    <tr>\n",
       "      <th>0</th>\n",
       "      <td>254</td>\n",
       "      <td>0</td>\n",
       "      <td>-5.2</td>\n",
       "      <td>37</td>\n",
       "      <td>2.2</td>\n",
       "      <td>2000</td>\n",
       "      <td>-17.6</td>\n",
       "      <td>0.0</td>\n",
       "      <td>0.0</td>\n",
       "      <td>0.0</td>\n",
       "      <td>Winter</td>\n",
       "      <td>No Holiday</td>\n",
       "      <td>Yes</td>\n",
       "      <td>12</td>\n",
       "      <td>1</td>\n",
       "      <td>2017</td>\n",
       "    </tr>\n",
       "    <tr>\n",
       "      <th>1</th>\n",
       "      <td>204</td>\n",
       "      <td>1</td>\n",
       "      <td>-5.5</td>\n",
       "      <td>38</td>\n",
       "      <td>0.8</td>\n",
       "      <td>2000</td>\n",
       "      <td>-17.6</td>\n",
       "      <td>0.0</td>\n",
       "      <td>0.0</td>\n",
       "      <td>0.0</td>\n",
       "      <td>Winter</td>\n",
       "      <td>No Holiday</td>\n",
       "      <td>Yes</td>\n",
       "      <td>12</td>\n",
       "      <td>1</td>\n",
       "      <td>2017</td>\n",
       "    </tr>\n",
       "    <tr>\n",
       "      <th>2</th>\n",
       "      <td>173</td>\n",
       "      <td>2</td>\n",
       "      <td>-6.0</td>\n",
       "      <td>39</td>\n",
       "      <td>1.0</td>\n",
       "      <td>2000</td>\n",
       "      <td>-17.7</td>\n",
       "      <td>0.0</td>\n",
       "      <td>0.0</td>\n",
       "      <td>0.0</td>\n",
       "      <td>Winter</td>\n",
       "      <td>No Holiday</td>\n",
       "      <td>Yes</td>\n",
       "      <td>12</td>\n",
       "      <td>1</td>\n",
       "      <td>2017</td>\n",
       "    </tr>\n",
       "    <tr>\n",
       "      <th>3</th>\n",
       "      <td>107</td>\n",
       "      <td>3</td>\n",
       "      <td>-6.2</td>\n",
       "      <td>40</td>\n",
       "      <td>0.9</td>\n",
       "      <td>2000</td>\n",
       "      <td>-17.6</td>\n",
       "      <td>0.0</td>\n",
       "      <td>0.0</td>\n",
       "      <td>0.0</td>\n",
       "      <td>Winter</td>\n",
       "      <td>No Holiday</td>\n",
       "      <td>Yes</td>\n",
       "      <td>12</td>\n",
       "      <td>1</td>\n",
       "      <td>2017</td>\n",
       "    </tr>\n",
       "    <tr>\n",
       "      <th>4</th>\n",
       "      <td>78</td>\n",
       "      <td>4</td>\n",
       "      <td>-6.0</td>\n",
       "      <td>36</td>\n",
       "      <td>2.3</td>\n",
       "      <td>2000</td>\n",
       "      <td>-18.6</td>\n",
       "      <td>0.0</td>\n",
       "      <td>0.0</td>\n",
       "      <td>0.0</td>\n",
       "      <td>Winter</td>\n",
       "      <td>No Holiday</td>\n",
       "      <td>Yes</td>\n",
       "      <td>12</td>\n",
       "      <td>1</td>\n",
       "      <td>2017</td>\n",
       "    </tr>\n",
       "    <tr>\n",
       "      <th>...</th>\n",
       "      <td>...</td>\n",
       "      <td>...</td>\n",
       "      <td>...</td>\n",
       "      <td>...</td>\n",
       "      <td>...</td>\n",
       "      <td>...</td>\n",
       "      <td>...</td>\n",
       "      <td>...</td>\n",
       "      <td>...</td>\n",
       "      <td>...</td>\n",
       "      <td>...</td>\n",
       "      <td>...</td>\n",
       "      <td>...</td>\n",
       "      <td>...</td>\n",
       "      <td>...</td>\n",
       "      <td>...</td>\n",
       "    </tr>\n",
       "    <tr>\n",
       "      <th>8755</th>\n",
       "      <td>1003</td>\n",
       "      <td>19</td>\n",
       "      <td>4.2</td>\n",
       "      <td>34</td>\n",
       "      <td>2.6</td>\n",
       "      <td>1894</td>\n",
       "      <td>-10.3</td>\n",
       "      <td>0.0</td>\n",
       "      <td>0.0</td>\n",
       "      <td>0.0</td>\n",
       "      <td>Autumn</td>\n",
       "      <td>No Holiday</td>\n",
       "      <td>Yes</td>\n",
       "      <td>30</td>\n",
       "      <td>11</td>\n",
       "      <td>2018</td>\n",
       "    </tr>\n",
       "    <tr>\n",
       "      <th>8756</th>\n",
       "      <td>764</td>\n",
       "      <td>20</td>\n",
       "      <td>3.4</td>\n",
       "      <td>37</td>\n",
       "      <td>2.3</td>\n",
       "      <td>2000</td>\n",
       "      <td>-9.9</td>\n",
       "      <td>0.0</td>\n",
       "      <td>0.0</td>\n",
       "      <td>0.0</td>\n",
       "      <td>Autumn</td>\n",
       "      <td>No Holiday</td>\n",
       "      <td>Yes</td>\n",
       "      <td>30</td>\n",
       "      <td>11</td>\n",
       "      <td>2018</td>\n",
       "    </tr>\n",
       "    <tr>\n",
       "      <th>8757</th>\n",
       "      <td>694</td>\n",
       "      <td>21</td>\n",
       "      <td>2.6</td>\n",
       "      <td>39</td>\n",
       "      <td>0.3</td>\n",
       "      <td>1968</td>\n",
       "      <td>-9.9</td>\n",
       "      <td>0.0</td>\n",
       "      <td>0.0</td>\n",
       "      <td>0.0</td>\n",
       "      <td>Autumn</td>\n",
       "      <td>No Holiday</td>\n",
       "      <td>Yes</td>\n",
       "      <td>30</td>\n",
       "      <td>11</td>\n",
       "      <td>2018</td>\n",
       "    </tr>\n",
       "    <tr>\n",
       "      <th>8758</th>\n",
       "      <td>712</td>\n",
       "      <td>22</td>\n",
       "      <td>2.1</td>\n",
       "      <td>41</td>\n",
       "      <td>1.0</td>\n",
       "      <td>1859</td>\n",
       "      <td>-9.8</td>\n",
       "      <td>0.0</td>\n",
       "      <td>0.0</td>\n",
       "      <td>0.0</td>\n",
       "      <td>Autumn</td>\n",
       "      <td>No Holiday</td>\n",
       "      <td>Yes</td>\n",
       "      <td>30</td>\n",
       "      <td>11</td>\n",
       "      <td>2018</td>\n",
       "    </tr>\n",
       "    <tr>\n",
       "      <th>8759</th>\n",
       "      <td>584</td>\n",
       "      <td>23</td>\n",
       "      <td>1.9</td>\n",
       "      <td>43</td>\n",
       "      <td>1.3</td>\n",
       "      <td>1909</td>\n",
       "      <td>-9.3</td>\n",
       "      <td>0.0</td>\n",
       "      <td>0.0</td>\n",
       "      <td>0.0</td>\n",
       "      <td>Autumn</td>\n",
       "      <td>No Holiday</td>\n",
       "      <td>Yes</td>\n",
       "      <td>30</td>\n",
       "      <td>11</td>\n",
       "      <td>2018</td>\n",
       "    </tr>\n",
       "  </tbody>\n",
       "</table>\n",
       "<p>8760 rows × 16 columns</p>\n",
       "</div>"
      ],
      "text/plain": [
       "      Rented Bike Count  Hour  Temperature(°C)  Humidity(%)  Wind speed (m/s)  \\\n",
       "0                   254     0             -5.2           37               2.2   \n",
       "1                   204     1             -5.5           38               0.8   \n",
       "2                   173     2             -6.0           39               1.0   \n",
       "3                   107     3             -6.2           40               0.9   \n",
       "4                    78     4             -6.0           36               2.3   \n",
       "...                 ...   ...              ...          ...               ...   \n",
       "8755               1003    19              4.2           34               2.6   \n",
       "8756                764    20              3.4           37               2.3   \n",
       "8757                694    21              2.6           39               0.3   \n",
       "8758                712    22              2.1           41               1.0   \n",
       "8759                584    23              1.9           43               1.3   \n",
       "\n",
       "      Visibility (10m)  Dew point temperature(°C)  Solar Radiation (MJ/m2)  \\\n",
       "0                 2000                      -17.6                      0.0   \n",
       "1                 2000                      -17.6                      0.0   \n",
       "2                 2000                      -17.7                      0.0   \n",
       "3                 2000                      -17.6                      0.0   \n",
       "4                 2000                      -18.6                      0.0   \n",
       "...                ...                        ...                      ...   \n",
       "8755              1894                      -10.3                      0.0   \n",
       "8756              2000                       -9.9                      0.0   \n",
       "8757              1968                       -9.9                      0.0   \n",
       "8758              1859                       -9.8                      0.0   \n",
       "8759              1909                       -9.3                      0.0   \n",
       "\n",
       "      Rainfall(mm)  Snowfall (cm) Seasons     Holiday Functioning Day  Day  \\\n",
       "0              0.0            0.0  Winter  No Holiday             Yes   12   \n",
       "1              0.0            0.0  Winter  No Holiday             Yes   12   \n",
       "2              0.0            0.0  Winter  No Holiday             Yes   12   \n",
       "3              0.0            0.0  Winter  No Holiday             Yes   12   \n",
       "4              0.0            0.0  Winter  No Holiday             Yes   12   \n",
       "...            ...            ...     ...         ...             ...  ...   \n",
       "8755           0.0            0.0  Autumn  No Holiday             Yes   30   \n",
       "8756           0.0            0.0  Autumn  No Holiday             Yes   30   \n",
       "8757           0.0            0.0  Autumn  No Holiday             Yes   30   \n",
       "8758           0.0            0.0  Autumn  No Holiday             Yes   30   \n",
       "8759           0.0            0.0  Autumn  No Holiday             Yes   30   \n",
       "\n",
       "      Month  Year  \n",
       "0         1  2017  \n",
       "1         1  2017  \n",
       "2         1  2017  \n",
       "3         1  2017  \n",
       "4         1  2017  \n",
       "...     ...   ...  \n",
       "8755     11  2018  \n",
       "8756     11  2018  \n",
       "8757     11  2018  \n",
       "8758     11  2018  \n",
       "8759     11  2018  \n",
       "\n",
       "[8760 rows x 16 columns]"
      ]
     },
     "execution_count": 5,
     "metadata": {},
     "output_type": "execute_result"
    }
   ],
   "source": [
    "df=data.drop(\"Date\",axis=1)\n",
    "df"
   ]
  },
  {
   "cell_type": "code",
   "execution_count": 6,
   "id": "89acccbe-0e33-4838-af3c-d9ee8aa009f0",
   "metadata": {},
   "outputs": [
    {
     "data": {
      "text/html": [
       "<div>\n",
       "<style scoped>\n",
       "    .dataframe tbody tr th:only-of-type {\n",
       "        vertical-align: middle;\n",
       "    }\n",
       "\n",
       "    .dataframe tbody tr th {\n",
       "        vertical-align: top;\n",
       "    }\n",
       "\n",
       "    .dataframe thead th {\n",
       "        text-align: right;\n",
       "    }\n",
       "</style>\n",
       "<table border=\"1\" class=\"dataframe\">\n",
       "  <thead>\n",
       "    <tr style=\"text-align: right;\">\n",
       "      <th></th>\n",
       "      <th>Month</th>\n",
       "      <th>Rented Bike Count</th>\n",
       "      <th>Hour</th>\n",
       "      <th>Temperature(°C)</th>\n",
       "      <th>Humidity(%)</th>\n",
       "      <th>Wind speed (m/s)</th>\n",
       "      <th>Visibility (10m)</th>\n",
       "      <th>Dew point temperature(°C)</th>\n",
       "      <th>Solar Radiation (MJ/m2)</th>\n",
       "      <th>Rainfall(mm)</th>\n",
       "      <th>Snowfall (cm)</th>\n",
       "      <th>Seasons</th>\n",
       "      <th>Holiday</th>\n",
       "      <th>Functioning Day</th>\n",
       "      <th>Day</th>\n",
       "      <th>Year</th>\n",
       "    </tr>\n",
       "  </thead>\n",
       "  <tbody>\n",
       "    <tr>\n",
       "      <th>0</th>\n",
       "      <td>1</td>\n",
       "      <td>287244</td>\n",
       "      <td>8556</td>\n",
       "      <td>2025.8</td>\n",
       "      <td>39381</td>\n",
       "      <td>1348.9</td>\n",
       "      <td>1036252</td>\n",
       "      <td>-4909.7</td>\n",
       "      <td>264.25</td>\n",
       "      <td>90.3</td>\n",
       "      <td>186.2</td>\n",
       "      <td>WinterWinterWinterWinterWinterWinterWinterWint...</td>\n",
       "      <td>No HolidayNo HolidayNo HolidayNo HolidayNo Hol...</td>\n",
       "      <td>YesYesYesYesYesYesYesYesYesYesYesYesYesYesYesY...</td>\n",
       "      <td>11904</td>\n",
       "      <td>1501368</td>\n",
       "    </tr>\n",
       "    <tr>\n",
       "      <th>1</th>\n",
       "      <td>2</td>\n",
       "      <td>264112</td>\n",
       "      <td>7728</td>\n",
       "      <td>4357.5</td>\n",
       "      <td>34800</td>\n",
       "      <td>1235.4</td>\n",
       "      <td>975610</td>\n",
       "      <td>-2575.2</td>\n",
       "      <td>343.27</td>\n",
       "      <td>100.6</td>\n",
       "      <td>44.7</td>\n",
       "      <td>WinterWinterWinterWinterWinterWinterWinterWint...</td>\n",
       "      <td>No HolidayNo HolidayNo HolidayNo HolidayNo Hol...</td>\n",
       "      <td>YesYesYesYesYesYesYesYesYesYesYesYesYesYesYesY...</td>\n",
       "      <td>9744</td>\n",
       "      <td>1356072</td>\n",
       "    </tr>\n",
       "    <tr>\n",
       "      <th>2</th>\n",
       "      <td>3</td>\n",
       "      <td>455037</td>\n",
       "      <td>8556</td>\n",
       "      <td>8508.9</td>\n",
       "      <td>44513</td>\n",
       "      <td>1423.9</td>\n",
       "      <td>923982</td>\n",
       "      <td>2309.8</td>\n",
       "      <td>442.98</td>\n",
       "      <td>70.1</td>\n",
       "      <td>2.2</td>\n",
       "      <td>WinterWinterWinterWinterWinterWinterWinterWint...</td>\n",
       "      <td>No HolidayNo HolidayNo HolidayNo HolidayNo Hol...</td>\n",
       "      <td>YesYesYesYesYesYesYesYesYesYesYesYesYesYesYesY...</td>\n",
       "      <td>11904</td>\n",
       "      <td>1501368</td>\n",
       "    </tr>\n",
       "    <tr>\n",
       "      <th>3</th>\n",
       "      <td>4</td>\n",
       "      <td>556219</td>\n",
       "      <td>8280</td>\n",
       "      <td>9872.1</td>\n",
       "      <td>38614</td>\n",
       "      <td>1333.9</td>\n",
       "      <td>1037184</td>\n",
       "      <td>2296.0</td>\n",
       "      <td>528.24</td>\n",
       "      <td>107.7</td>\n",
       "      <td>0.0</td>\n",
       "      <td>WinterWinterWinterWinterWinterWinterWinterWint...</td>\n",
       "      <td>No HolidayNo HolidayNo HolidayNo HolidayNo Hol...</td>\n",
       "      <td>YesYesYesYesYesYesYesYesYesYesYesYesYesYesYesY...</td>\n",
       "      <td>11160</td>\n",
       "      <td>1452936</td>\n",
       "    </tr>\n",
       "    <tr>\n",
       "      <th>4</th>\n",
       "      <td>5</td>\n",
       "      <td>665948</td>\n",
       "      <td>8556</td>\n",
       "      <td>12365.5</td>\n",
       "      <td>45191</td>\n",
       "      <td>1309.0</td>\n",
       "      <td>1003308</td>\n",
       "      <td>6171.2</td>\n",
       "      <td>512.55</td>\n",
       "      <td>216.0</td>\n",
       "      <td>0.0</td>\n",
       "      <td>WinterWinterWinterWinterWinterWinterWinterWint...</td>\n",
       "      <td>No HolidayNo HolidayNo HolidayNo HolidayNo Hol...</td>\n",
       "      <td>YesYesYesYesYesYesYesYesYesYesYesYesYesYesYesY...</td>\n",
       "      <td>11904</td>\n",
       "      <td>1501368</td>\n",
       "    </tr>\n",
       "    <tr>\n",
       "      <th>5</th>\n",
       "      <td>6</td>\n",
       "      <td>706728</td>\n",
       "      <td>8280</td>\n",
       "      <td>13678.7</td>\n",
       "      <td>47259</td>\n",
       "      <td>1220.1</td>\n",
       "      <td>861503</td>\n",
       "      <td>8445.6</td>\n",
       "      <td>488.00</td>\n",
       "      <td>258.8</td>\n",
       "      <td>8.6</td>\n",
       "      <td>WinterWinterWinterWinterWinterWinterWinterWint...</td>\n",
       "      <td>No HolidayNo HolidayNo HolidayNo HolidayNo Hol...</td>\n",
       "      <td>YesYesYesYesYesYesYesYesYesYesYesYesYesYesYesY...</td>\n",
       "      <td>11160</td>\n",
       "      <td>1452936</td>\n",
       "    </tr>\n",
       "    <tr>\n",
       "      <th>6</th>\n",
       "      <td>7</td>\n",
       "      <td>691339</td>\n",
       "      <td>8556</td>\n",
       "      <td>17205.3</td>\n",
       "      <td>45076</td>\n",
       "      <td>1238.7</td>\n",
       "      <td>1136429</td>\n",
       "      <td>10786.1</td>\n",
       "      <td>578.33</td>\n",
       "      <td>11.2</td>\n",
       "      <td>10.4</td>\n",
       "      <td>WinterWinterWinterWinterWinterWinterWinterWint...</td>\n",
       "      <td>No HolidayNo HolidayNo HolidayNo HolidayNo Hol...</td>\n",
       "      <td>YesYesYesYesYesYesYesYesYesYesYesYesYesYesYesY...</td>\n",
       "      <td>11904</td>\n",
       "      <td>1501368</td>\n",
       "    </tr>\n",
       "    <tr>\n",
       "      <th>7</th>\n",
       "      <td>8</td>\n",
       "      <td>614190</td>\n",
       "      <td>8556</td>\n",
       "      <td>15816.8</td>\n",
       "      <td>46871</td>\n",
       "      <td>1247.8</td>\n",
       "      <td>1233584</td>\n",
       "      <td>9798.4</td>\n",
       "      <td>450.34</td>\n",
       "      <td>241.5</td>\n",
       "      <td>4.5</td>\n",
       "      <td>WinterWinterWinterWinterWinterWinterWinterWint...</td>\n",
       "      <td>No HolidayNo HolidayNo HolidayNo HolidayNo Hol...</td>\n",
       "      <td>YesYesYesYesYesYesYesYesYesYesYesYesYesYesYesY...</td>\n",
       "      <td>11904</td>\n",
       "      <td>1501368</td>\n",
       "    </tr>\n",
       "    <tr>\n",
       "      <th>8</th>\n",
       "      <td>9</td>\n",
       "      <td>499326</td>\n",
       "      <td>8280</td>\n",
       "      <td>12291.7</td>\n",
       "      <td>43756</td>\n",
       "      <td>1092.2</td>\n",
       "      <td>1210456</td>\n",
       "      <td>6317.6</td>\n",
       "      <td>401.69</td>\n",
       "      <td>62.5</td>\n",
       "      <td>10.8</td>\n",
       "      <td>WinterWinterWinterWinterWinterWinterWinterWint...</td>\n",
       "      <td>No HolidayNo HolidayNo HolidayNo HolidayNo Hol...</td>\n",
       "      <td>YesYesYesYesYesYesYesYesYesYesYesYesYesYesYesY...</td>\n",
       "      <td>11160</td>\n",
       "      <td>1452936</td>\n",
       "    </tr>\n",
       "    <tr>\n",
       "      <th>9</th>\n",
       "      <td>10</td>\n",
       "      <td>626988</td>\n",
       "      <td>8556</td>\n",
       "      <td>9008.3</td>\n",
       "      <td>44629</td>\n",
       "      <td>1233.6</td>\n",
       "      <td>1128786</td>\n",
       "      <td>2842.0</td>\n",
       "      <td>402.93</td>\n",
       "      <td>60.4</td>\n",
       "      <td>42.7</td>\n",
       "      <td>WinterWinterWinterWinterWinterWinterWinterWint...</td>\n",
       "      <td>No HolidayNo HolidayNo HolidayNo HolidayNo Hol...</td>\n",
       "      <td>YesYesYesYesYesYesYesYesYesYesYesYesYesYesYesY...</td>\n",
       "      <td>11904</td>\n",
       "      <td>1501368</td>\n",
       "    </tr>\n",
       "    <tr>\n",
       "      <th>10</th>\n",
       "      <td>11</td>\n",
       "      <td>493412</td>\n",
       "      <td>8280</td>\n",
       "      <td>5606.8</td>\n",
       "      <td>38670</td>\n",
       "      <td>1191.1</td>\n",
       "      <td>1001977</td>\n",
       "      <td>-1361.4</td>\n",
       "      <td>315.96</td>\n",
       "      <td>19.6</td>\n",
       "      <td>123.0</td>\n",
       "      <td>WinterWinterWinterWinterWinterWinterWinterWint...</td>\n",
       "      <td>No HolidayNo HolidayNo HolidayNo HolidayNo Hol...</td>\n",
       "      <td>YesYesYesYesYesYesYesYesYesYesYesYesYesYesYesY...</td>\n",
       "      <td>11160</td>\n",
       "      <td>1452936</td>\n",
       "    </tr>\n",
       "    <tr>\n",
       "      <th>11</th>\n",
       "      <td>12</td>\n",
       "      <td>311771</td>\n",
       "      <td>8556</td>\n",
       "      <td>2117.0</td>\n",
       "      <td>41302</td>\n",
       "      <td>1235.6</td>\n",
       "      <td>1037523</td>\n",
       "      <td>-4433.8</td>\n",
       "      <td>256.87</td>\n",
       "      <td>63.8</td>\n",
       "      <td>224.5</td>\n",
       "      <td>WinterWinterWinterWinterWinterWinterWinterWint...</td>\n",
       "      <td>No HolidayNo HolidayNo HolidayNo HolidayNo Hol...</td>\n",
       "      <td>YesYesYesYesYesYesYesYesYesYesYesYesYesYesYesY...</td>\n",
       "      <td>11904</td>\n",
       "      <td>1500912</td>\n",
       "    </tr>\n",
       "  </tbody>\n",
       "</table>\n",
       "</div>"
      ],
      "text/plain": [
       "    Month  Rented Bike Count  Hour  Temperature(°C)  Humidity(%)  \\\n",
       "0       1             287244  8556           2025.8        39381   \n",
       "1       2             264112  7728           4357.5        34800   \n",
       "2       3             455037  8556           8508.9        44513   \n",
       "3       4             556219  8280           9872.1        38614   \n",
       "4       5             665948  8556          12365.5        45191   \n",
       "5       6             706728  8280          13678.7        47259   \n",
       "6       7             691339  8556          17205.3        45076   \n",
       "7       8             614190  8556          15816.8        46871   \n",
       "8       9             499326  8280          12291.7        43756   \n",
       "9      10             626988  8556           9008.3        44629   \n",
       "10     11             493412  8280           5606.8        38670   \n",
       "11     12             311771  8556           2117.0        41302   \n",
       "\n",
       "    Wind speed (m/s)  Visibility (10m)  Dew point temperature(°C)  \\\n",
       "0             1348.9           1036252                    -4909.7   \n",
       "1             1235.4            975610                    -2575.2   \n",
       "2             1423.9            923982                     2309.8   \n",
       "3             1333.9           1037184                     2296.0   \n",
       "4             1309.0           1003308                     6171.2   \n",
       "5             1220.1            861503                     8445.6   \n",
       "6             1238.7           1136429                    10786.1   \n",
       "7             1247.8           1233584                     9798.4   \n",
       "8             1092.2           1210456                     6317.6   \n",
       "9             1233.6           1128786                     2842.0   \n",
       "10            1191.1           1001977                    -1361.4   \n",
       "11            1235.6           1037523                    -4433.8   \n",
       "\n",
       "    Solar Radiation (MJ/m2)  Rainfall(mm)  Snowfall (cm)  \\\n",
       "0                    264.25          90.3          186.2   \n",
       "1                    343.27         100.6           44.7   \n",
       "2                    442.98          70.1            2.2   \n",
       "3                    528.24         107.7            0.0   \n",
       "4                    512.55         216.0            0.0   \n",
       "5                    488.00         258.8            8.6   \n",
       "6                    578.33          11.2           10.4   \n",
       "7                    450.34         241.5            4.5   \n",
       "8                    401.69          62.5           10.8   \n",
       "9                    402.93          60.4           42.7   \n",
       "10                   315.96          19.6          123.0   \n",
       "11                   256.87          63.8          224.5   \n",
       "\n",
       "                                              Seasons  \\\n",
       "0   WinterWinterWinterWinterWinterWinterWinterWint...   \n",
       "1   WinterWinterWinterWinterWinterWinterWinterWint...   \n",
       "2   WinterWinterWinterWinterWinterWinterWinterWint...   \n",
       "3   WinterWinterWinterWinterWinterWinterWinterWint...   \n",
       "4   WinterWinterWinterWinterWinterWinterWinterWint...   \n",
       "5   WinterWinterWinterWinterWinterWinterWinterWint...   \n",
       "6   WinterWinterWinterWinterWinterWinterWinterWint...   \n",
       "7   WinterWinterWinterWinterWinterWinterWinterWint...   \n",
       "8   WinterWinterWinterWinterWinterWinterWinterWint...   \n",
       "9   WinterWinterWinterWinterWinterWinterWinterWint...   \n",
       "10  WinterWinterWinterWinterWinterWinterWinterWint...   \n",
       "11  WinterWinterWinterWinterWinterWinterWinterWint...   \n",
       "\n",
       "                                              Holiday  \\\n",
       "0   No HolidayNo HolidayNo HolidayNo HolidayNo Hol...   \n",
       "1   No HolidayNo HolidayNo HolidayNo HolidayNo Hol...   \n",
       "2   No HolidayNo HolidayNo HolidayNo HolidayNo Hol...   \n",
       "3   No HolidayNo HolidayNo HolidayNo HolidayNo Hol...   \n",
       "4   No HolidayNo HolidayNo HolidayNo HolidayNo Hol...   \n",
       "5   No HolidayNo HolidayNo HolidayNo HolidayNo Hol...   \n",
       "6   No HolidayNo HolidayNo HolidayNo HolidayNo Hol...   \n",
       "7   No HolidayNo HolidayNo HolidayNo HolidayNo Hol...   \n",
       "8   No HolidayNo HolidayNo HolidayNo HolidayNo Hol...   \n",
       "9   No HolidayNo HolidayNo HolidayNo HolidayNo Hol...   \n",
       "10  No HolidayNo HolidayNo HolidayNo HolidayNo Hol...   \n",
       "11  No HolidayNo HolidayNo HolidayNo HolidayNo Hol...   \n",
       "\n",
       "                                      Functioning Day    Day     Year  \n",
       "0   YesYesYesYesYesYesYesYesYesYesYesYesYesYesYesY...  11904  1501368  \n",
       "1   YesYesYesYesYesYesYesYesYesYesYesYesYesYesYesY...   9744  1356072  \n",
       "2   YesYesYesYesYesYesYesYesYesYesYesYesYesYesYesY...  11904  1501368  \n",
       "3   YesYesYesYesYesYesYesYesYesYesYesYesYesYesYesY...  11160  1452936  \n",
       "4   YesYesYesYesYesYesYesYesYesYesYesYesYesYesYesY...  11904  1501368  \n",
       "5   YesYesYesYesYesYesYesYesYesYesYesYesYesYesYesY...  11160  1452936  \n",
       "6   YesYesYesYesYesYesYesYesYesYesYesYesYesYesYesY...  11904  1501368  \n",
       "7   YesYesYesYesYesYesYesYesYesYesYesYesYesYesYesY...  11904  1501368  \n",
       "8   YesYesYesYesYesYesYesYesYesYesYesYesYesYesYesY...  11160  1452936  \n",
       "9   YesYesYesYesYesYesYesYesYesYesYesYesYesYesYesY...  11904  1501368  \n",
       "10  YesYesYesYesYesYesYesYesYesYesYesYesYesYesYesY...  11160  1452936  \n",
       "11  YesYesYesYesYesYesYesYesYesYesYesYesYesYesYesY...  11904  1500912  "
      ]
     },
     "execution_count": 6,
     "metadata": {},
     "output_type": "execute_result"
    }
   ],
   "source": [
    "Month=df.groupby(\"Month\").sum().reset_index()\n",
    "Month"
   ]
  },
  {
   "cell_type": "code",
   "execution_count": 7,
   "id": "062a1fe7-c809-4d2b-94d0-35a0a8de8c6f",
   "metadata": {},
   "outputs": [],
   "source": [
    "q1=data[\"Rented Bike Count\"].quantile(0.25)\n",
    "q3=data[\"Rented Bike Count\"].quantile(0.75)\n",
    "iqr=q3-q1"
   ]
  },
  {
   "cell_type": "code",
   "execution_count": 8,
   "id": "18cebc76-b20d-40f5-8823-d597ec6755ac",
   "metadata": {},
   "outputs": [
    {
     "data": {
      "text/plain": [
       "(191.0, 1065.25, 874.25)"
      ]
     },
     "execution_count": 8,
     "metadata": {},
     "output_type": "execute_result"
    }
   ],
   "source": [
    "q1,q3,iqr"
   ]
  },
  {
   "cell_type": "code",
   "execution_count": 9,
   "id": "00d2136e-0a78-4db6-9409-40c072bed076",
   "metadata": {},
   "outputs": [
    {
     "data": {
      "text/plain": [
       "(-1120.375, 2376.625)"
      ]
     },
     "execution_count": 9,
     "metadata": {},
     "output_type": "execute_result"
    }
   ],
   "source": [
    "upper_limit=q3+(1.5*iqr)\n",
    "lower_limit=q1-(1.5*iqr)\n",
    "lower_limit,upper_limit"
   ]
  },
  {
   "cell_type": "code",
   "execution_count": 10,
   "id": "b676c436-afc0-4c8e-8c85-d967994886d8",
   "metadata": {},
   "outputs": [
    {
     "name": "stdout",
     "output_type": "stream",
     "text": [
      "before removing outliers: 8760\n",
      "after removing outliers: 8602\n",
      "outliers: 158\n"
     ]
    }
   ],
   "source": [
    "new_data=data.loc[(data[\"Rented Bike Count\"]<upper_limit) & (data[\"Rented Bike Count\"]>lower_limit)]\n",
    "print('before removing outliers:',len(data))\n",
    "print('after removing outliers:',len(new_data))\n",
    "print('outliers:',len(data)-len(new_data))"
   ]
  },
  {
   "cell_type": "code",
   "execution_count": 11,
   "id": "ab130612-34c4-4d41-920c-97d3f4bd4abd",
   "metadata": {},
   "outputs": [],
   "source": [
    "q1=new_data[\"Solar Radiation (MJ/m2)\"].quantile(0.25)\n",
    "q3=new_data[\"Solar Radiation (MJ/m2)\"].quantile(0.75)\n",
    "iqr=q3-q1"
   ]
  },
  {
   "cell_type": "code",
   "execution_count": 12,
   "id": "ed42cc73-6a65-42fe-8b69-e1eaca138584",
   "metadata": {},
   "outputs": [
    {
     "data": {
      "text/plain": [
       "(0.0, 0.93, 0.93)"
      ]
     },
     "execution_count": 12,
     "metadata": {},
     "output_type": "execute_result"
    }
   ],
   "source": [
    "q1,q3,iqr"
   ]
  },
  {
   "cell_type": "code",
   "execution_count": 13,
   "id": "3f7d1e30-ba3b-4e3a-8af1-747d9020b3e2",
   "metadata": {},
   "outputs": [
    {
     "data": {
      "text/plain": [
       "(-1.395, 2.325)"
      ]
     },
     "execution_count": 13,
     "metadata": {},
     "output_type": "execute_result"
    }
   ],
   "source": [
    "upper_limit=q3+(1.5*iqr)\n",
    "lower_limit=q1-(1.5*iqr)\n",
    "lower_limit,upper_limit"
   ]
  },
  {
   "cell_type": "code",
   "execution_count": 14,
   "id": "f81e4d46-5820-4a9e-9e43-ae8a31343bbe",
   "metadata": {},
   "outputs": [
    {
     "name": "stdout",
     "output_type": "stream",
     "text": [
      "before removing outliers: 8602\n",
      "after removing outliers: 7962\n",
      "outliers: 640\n"
     ]
    }
   ],
   "source": [
    "new_data1=new_data.loc[(new_data[\"Solar Radiation (MJ/m2)\"]<upper_limit) & (new_data[\"Solar Radiation (MJ/m2)\"]>lower_limit)]\n",
    "print('before removing outliers:',len(new_data))\n",
    "print('after removing outliers:',len(new_data1))\n",
    "print('outliers:',len(new_data)-len(new_data1))"
   ]
  },
  {
   "cell_type": "code",
   "execution_count": 15,
   "id": "2346d6ea-7ec6-42ab-85d2-a85826a87f3f",
   "metadata": {},
   "outputs": [
    {
     "data": {
      "text/html": [
       "<div>\n",
       "<style scoped>\n",
       "    .dataframe tbody tr th:only-of-type {\n",
       "        vertical-align: middle;\n",
       "    }\n",
       "\n",
       "    .dataframe tbody tr th {\n",
       "        vertical-align: top;\n",
       "    }\n",
       "\n",
       "    .dataframe thead th {\n",
       "        text-align: right;\n",
       "    }\n",
       "</style>\n",
       "<table border=\"1\" class=\"dataframe\">\n",
       "  <thead>\n",
       "    <tr style=\"text-align: right;\">\n",
       "      <th></th>\n",
       "      <th>Date</th>\n",
       "      <th>Rented Bike Count</th>\n",
       "      <th>Hour</th>\n",
       "      <th>Temperature(°C)</th>\n",
       "      <th>Humidity(%)</th>\n",
       "      <th>Wind speed (m/s)</th>\n",
       "      <th>Visibility (10m)</th>\n",
       "      <th>Dew point temperature(°C)</th>\n",
       "      <th>Solar Radiation (MJ/m2)</th>\n",
       "      <th>Rainfall(mm)</th>\n",
       "      <th>Snowfall (cm)</th>\n",
       "      <th>Seasons</th>\n",
       "      <th>Holiday</th>\n",
       "      <th>Functioning Day</th>\n",
       "      <th>Day</th>\n",
       "      <th>Month</th>\n",
       "      <th>Year</th>\n",
       "    </tr>\n",
       "  </thead>\n",
       "  <tbody>\n",
       "    <tr>\n",
       "      <th>54</th>\n",
       "      <td>2017-03-12</td>\n",
       "      <td>13</td>\n",
       "      <td>6</td>\n",
       "      <td>3.4</td>\n",
       "      <td>86</td>\n",
       "      <td>2.5</td>\n",
       "      <td>278</td>\n",
       "      <td>1.2</td>\n",
       "      <td>0.00</td>\n",
       "      <td>1.0</td>\n",
       "      <td>0.0</td>\n",
       "      <td>Winter</td>\n",
       "      <td>No Holiday</td>\n",
       "      <td>Yes</td>\n",
       "      <td>12</td>\n",
       "      <td>3</td>\n",
       "      <td>2017</td>\n",
       "    </tr>\n",
       "    <tr>\n",
       "      <th>57</th>\n",
       "      <td>2017-03-12</td>\n",
       "      <td>152</td>\n",
       "      <td>9</td>\n",
       "      <td>3.5</td>\n",
       "      <td>91</td>\n",
       "      <td>1.8</td>\n",
       "      <td>231</td>\n",
       "      <td>2.1</td>\n",
       "      <td>0.02</td>\n",
       "      <td>2.5</td>\n",
       "      <td>0.0</td>\n",
       "      <td>Winter</td>\n",
       "      <td>No Holiday</td>\n",
       "      <td>Yes</td>\n",
       "      <td>12</td>\n",
       "      <td>3</td>\n",
       "      <td>2017</td>\n",
       "    </tr>\n",
       "    <tr>\n",
       "      <th>141</th>\n",
       "      <td>2017-06-12</td>\n",
       "      <td>165</td>\n",
       "      <td>21</td>\n",
       "      <td>1.1</td>\n",
       "      <td>92</td>\n",
       "      <td>0.5</td>\n",
       "      <td>235</td>\n",
       "      <td>0.0</td>\n",
       "      <td>0.00</td>\n",
       "      <td>0.7</td>\n",
       "      <td>1.0</td>\n",
       "      <td>Winter</td>\n",
       "      <td>No Holiday</td>\n",
       "      <td>Yes</td>\n",
       "      <td>12</td>\n",
       "      <td>6</td>\n",
       "      <td>2017</td>\n",
       "    </tr>\n",
       "    <tr>\n",
       "      <th>222</th>\n",
       "      <td>2017-10-12</td>\n",
       "      <td>9</td>\n",
       "      <td>6</td>\n",
       "      <td>-0.5</td>\n",
       "      <td>90</td>\n",
       "      <td>0.9</td>\n",
       "      <td>91</td>\n",
       "      <td>-1.9</td>\n",
       "      <td>0.00</td>\n",
       "      <td>2.5</td>\n",
       "      <td>2.7</td>\n",
       "      <td>Winter</td>\n",
       "      <td>No Holiday</td>\n",
       "      <td>Yes</td>\n",
       "      <td>12</td>\n",
       "      <td>10</td>\n",
       "      <td>2017</td>\n",
       "    </tr>\n",
       "    <tr>\n",
       "      <th>225</th>\n",
       "      <td>2017-10-12</td>\n",
       "      <td>31</td>\n",
       "      <td>9</td>\n",
       "      <td>0.2</td>\n",
       "      <td>90</td>\n",
       "      <td>1.0</td>\n",
       "      <td>305</td>\n",
       "      <td>-1.2</td>\n",
       "      <td>0.00</td>\n",
       "      <td>1.6</td>\n",
       "      <td>4.3</td>\n",
       "      <td>Winter</td>\n",
       "      <td>No Holiday</td>\n",
       "      <td>Yes</td>\n",
       "      <td>12</td>\n",
       "      <td>10</td>\n",
       "      <td>2017</td>\n",
       "    </tr>\n",
       "    <tr>\n",
       "      <th>...</th>\n",
       "      <td>...</td>\n",
       "      <td>...</td>\n",
       "      <td>...</td>\n",
       "      <td>...</td>\n",
       "      <td>...</td>\n",
       "      <td>...</td>\n",
       "      <td>...</td>\n",
       "      <td>...</td>\n",
       "      <td>...</td>\n",
       "      <td>...</td>\n",
       "      <td>...</td>\n",
       "      <td>...</td>\n",
       "      <td>...</td>\n",
       "      <td>...</td>\n",
       "      <td>...</td>\n",
       "      <td>...</td>\n",
       "      <td>...</td>\n",
       "    </tr>\n",
       "    <tr>\n",
       "      <th>8229</th>\n",
       "      <td>2018-08-11</td>\n",
       "      <td>21</td>\n",
       "      <td>21</td>\n",
       "      <td>14.0</td>\n",
       "      <td>96</td>\n",
       "      <td>4.1</td>\n",
       "      <td>292</td>\n",
       "      <td>13.3</td>\n",
       "      <td>0.00</td>\n",
       "      <td>18.0</td>\n",
       "      <td>0.0</td>\n",
       "      <td>Autumn</td>\n",
       "      <td>No Holiday</td>\n",
       "      <td>Yes</td>\n",
       "      <td>11</td>\n",
       "      <td>8</td>\n",
       "      <td>2018</td>\n",
       "    </tr>\n",
       "    <tr>\n",
       "      <th>8232</th>\n",
       "      <td>2018-09-11</td>\n",
       "      <td>0</td>\n",
       "      <td>0</td>\n",
       "      <td>12.0</td>\n",
       "      <td>96</td>\n",
       "      <td>3.1</td>\n",
       "      <td>1185</td>\n",
       "      <td>11.3</td>\n",
       "      <td>0.00</td>\n",
       "      <td>18.0</td>\n",
       "      <td>0.0</td>\n",
       "      <td>Autumn</td>\n",
       "      <td>No Holiday</td>\n",
       "      <td>No</td>\n",
       "      <td>11</td>\n",
       "      <td>9</td>\n",
       "      <td>2018</td>\n",
       "    </tr>\n",
       "    <tr>\n",
       "      <th>8523</th>\n",
       "      <td>2018-11-21</td>\n",
       "      <td>112</td>\n",
       "      <td>3</td>\n",
       "      <td>6.5</td>\n",
       "      <td>87</td>\n",
       "      <td>1.0</td>\n",
       "      <td>710</td>\n",
       "      <td>4.4</td>\n",
       "      <td>0.00</td>\n",
       "      <td>1.0</td>\n",
       "      <td>0.0</td>\n",
       "      <td>Autumn</td>\n",
       "      <td>No Holiday</td>\n",
       "      <td>Yes</td>\n",
       "      <td>21</td>\n",
       "      <td>11</td>\n",
       "      <td>2018</td>\n",
       "    </tr>\n",
       "    <tr>\n",
       "      <th>8601</th>\n",
       "      <td>2018-11-24</td>\n",
       "      <td>24</td>\n",
       "      <td>9</td>\n",
       "      <td>0.3</td>\n",
       "      <td>97</td>\n",
       "      <td>3.0</td>\n",
       "      <td>34</td>\n",
       "      <td>-0.1</td>\n",
       "      <td>0.00</td>\n",
       "      <td>9.1</td>\n",
       "      <td>7.1</td>\n",
       "      <td>Autumn</td>\n",
       "      <td>No Holiday</td>\n",
       "      <td>Yes</td>\n",
       "      <td>24</td>\n",
       "      <td>11</td>\n",
       "      <td>2018</td>\n",
       "    </tr>\n",
       "    <tr>\n",
       "      <th>8604</th>\n",
       "      <td>2018-11-24</td>\n",
       "      <td>167</td>\n",
       "      <td>12</td>\n",
       "      <td>2.5</td>\n",
       "      <td>84</td>\n",
       "      <td>1.9</td>\n",
       "      <td>1538</td>\n",
       "      <td>0.0</td>\n",
       "      <td>0.40</td>\n",
       "      <td>1.8</td>\n",
       "      <td>7.0</td>\n",
       "      <td>Autumn</td>\n",
       "      <td>No Holiday</td>\n",
       "      <td>Yes</td>\n",
       "      <td>24</td>\n",
       "      <td>11</td>\n",
       "      <td>2018</td>\n",
       "    </tr>\n",
       "  </tbody>\n",
       "</table>\n",
       "<p>321 rows × 17 columns</p>\n",
       "</div>"
      ],
      "text/plain": [
       "           Date  Rented Bike Count  Hour  Temperature(°C)  Humidity(%)  \\\n",
       "54   2017-03-12                 13     6              3.4           86   \n",
       "57   2017-03-12                152     9              3.5           91   \n",
       "141  2017-06-12                165    21              1.1           92   \n",
       "222  2017-10-12                  9     6             -0.5           90   \n",
       "225  2017-10-12                 31     9              0.2           90   \n",
       "...         ...                ...   ...              ...          ...   \n",
       "8229 2018-08-11                 21    21             14.0           96   \n",
       "8232 2018-09-11                  0     0             12.0           96   \n",
       "8523 2018-11-21                112     3              6.5           87   \n",
       "8601 2018-11-24                 24     9              0.3           97   \n",
       "8604 2018-11-24                167    12              2.5           84   \n",
       "\n",
       "      Wind speed (m/s)  Visibility (10m)  Dew point temperature(°C)  \\\n",
       "54                 2.5               278                        1.2   \n",
       "57                 1.8               231                        2.1   \n",
       "141                0.5               235                        0.0   \n",
       "222                0.9                91                       -1.9   \n",
       "225                1.0               305                       -1.2   \n",
       "...                ...               ...                        ...   \n",
       "8229               4.1               292                       13.3   \n",
       "8232               3.1              1185                       11.3   \n",
       "8523               1.0               710                        4.4   \n",
       "8601               3.0                34                       -0.1   \n",
       "8604               1.9              1538                        0.0   \n",
       "\n",
       "      Solar Radiation (MJ/m2)  Rainfall(mm)  Snowfall (cm) Seasons  \\\n",
       "54                       0.00           1.0            0.0  Winter   \n",
       "57                       0.02           2.5            0.0  Winter   \n",
       "141                      0.00           0.7            1.0  Winter   \n",
       "222                      0.00           2.5            2.7  Winter   \n",
       "225                      0.00           1.6            4.3  Winter   \n",
       "...                       ...           ...            ...     ...   \n",
       "8229                     0.00          18.0            0.0  Autumn   \n",
       "8232                     0.00          18.0            0.0  Autumn   \n",
       "8523                     0.00           1.0            0.0  Autumn   \n",
       "8601                     0.00           9.1            7.1  Autumn   \n",
       "8604                     0.40           1.8            7.0  Autumn   \n",
       "\n",
       "         Holiday Functioning Day  Day  Month  Year  \n",
       "54    No Holiday             Yes   12      3  2017  \n",
       "57    No Holiday             Yes   12      3  2017  \n",
       "141   No Holiday             Yes   12      6  2017  \n",
       "222   No Holiday             Yes   12     10  2017  \n",
       "225   No Holiday             Yes   12     10  2017  \n",
       "...          ...             ...  ...    ...   ...  \n",
       "8229  No Holiday             Yes   11      8  2018  \n",
       "8232  No Holiday              No   11      9  2018  \n",
       "8523  No Holiday             Yes   21     11  2018  \n",
       "8601  No Holiday             Yes   24     11  2018  \n",
       "8604  No Holiday             Yes   24     11  2018  \n",
       "\n",
       "[321 rows x 17 columns]"
      ]
     },
     "execution_count": 15,
     "metadata": {},
     "output_type": "execute_result"
    }
   ],
   "source": [
    "incontrol=new_data1[(new_data1[\"Rainfall(mm)\"]>(3*0.15*1.13)) | (new_data1[\"Rainfall(mm)\"]<-(3*0.15*1.13)) ]\n",
    "o=pd.DataFrame(incontrol)\n",
    "o"
   ]
  },
  {
   "cell_type": "code",
   "execution_count": 16,
   "id": "c26399d0-035f-4247-961d-badf2ed35126",
   "metadata": {},
   "outputs": [
    {
     "data": {
      "text/plain": [
       "[54,\n",
       " 57,\n",
       " 141,\n",
       " 222,\n",
       " 225,\n",
       " 417,\n",
       " 420,\n",
       " 561,\n",
       " 564,\n",
       " 567,\n",
       " 723,\n",
       " 933,\n",
       " 1266,\n",
       " 1458,\n",
       " 1461,\n",
       " 2019,\n",
       " 2151,\n",
       " 2154,\n",
       " 2157,\n",
       " 2160,\n",
       " 2253,\n",
       " 2256,\n",
       " 2259,\n",
       " 2262,\n",
       " 2331,\n",
       " 2334,\n",
       " 2502,\n",
       " 2505,\n",
       " 2508,\n",
       " 2978,\n",
       " 2979,\n",
       " 2980,\n",
       " 2981,\n",
       " 2982,\n",
       " 3007,\n",
       " 3008,\n",
       " 3016,\n",
       " 3017,\n",
       " 3019,\n",
       " 3021,\n",
       " 3026,\n",
       " 3027,\n",
       " 3028,\n",
       " 3090,\n",
       " 3091,\n",
       " 3142,\n",
       " 3143,\n",
       " 3220,\n",
       " 3222,\n",
       " 3223,\n",
       " 3224,\n",
       " 3225,\n",
       " 3226,\n",
       " 3425,\n",
       " 3428,\n",
       " 3429,\n",
       " 3430,\n",
       " 3431,\n",
       " 3432,\n",
       " 3434,\n",
       " 3436,\n",
       " 3437,\n",
       " 3438,\n",
       " 3439,\n",
       " 3440,\n",
       " 3441,\n",
       " 3442,\n",
       " 3443,\n",
       " 3444,\n",
       " 3445,\n",
       " 3446,\n",
       " 3447,\n",
       " 3448,\n",
       " 3450,\n",
       " 3451,\n",
       " 3452,\n",
       " 3453,\n",
       " 3459,\n",
       " 3655,\n",
       " 3660,\n",
       " 3661,\n",
       " 3669,\n",
       " 3671,\n",
       " 3747,\n",
       " 3748,\n",
       " 3749,\n",
       " 3750,\n",
       " 3751,\n",
       " 3752,\n",
       " 3753,\n",
       " 3754,\n",
       " 3755,\n",
       " 3756,\n",
       " 3896,\n",
       " 3897,\n",
       " 3898,\n",
       " 3899,\n",
       " 3900,\n",
       " 3901,\n",
       " 3902,\n",
       " 3903,\n",
       " 3904,\n",
       " 3905,\n",
       " 3906,\n",
       " 3907,\n",
       " 3908,\n",
       " 3910,\n",
       " 3911,\n",
       " 3987,\n",
       " 3990,\n",
       " 3993,\n",
       " 3994,\n",
       " 3997,\n",
       " 4010,\n",
       " 4011,\n",
       " 4012,\n",
       " 4016,\n",
       " 4017,\n",
       " 4018,\n",
       " 4019,\n",
       " 4020,\n",
       " 4025,\n",
       " 4026,\n",
       " 4028,\n",
       " 4029,\n",
       " 4030,\n",
       " 4031,\n",
       " 4032,\n",
       " 4033,\n",
       " 4035,\n",
       " 4036,\n",
       " 4145,\n",
       " 4146,\n",
       " 4147,\n",
       " 4151,\n",
       " 4152,\n",
       " 4153,\n",
       " 4154,\n",
       " 4316,\n",
       " 4631,\n",
       " 4632,\n",
       " 4686,\n",
       " 4687,\n",
       " 4688,\n",
       " 4689,\n",
       " 4690,\n",
       " 4707,\n",
       " 4708,\n",
       " 4975,\n",
       " 4976,\n",
       " 4977,\n",
       " 4978,\n",
       " 4979,\n",
       " 4980,\n",
       " 4981,\n",
       " 4982,\n",
       " 4983,\n",
       " 4984,\n",
       " 4985,\n",
       " 4986,\n",
       " 4987,\n",
       " 4989,\n",
       " 5033,\n",
       " 5034,\n",
       " 5045,\n",
       " 5046,\n",
       " 5076,\n",
       " 5077,\n",
       " 5083,\n",
       " 5096,\n",
       " 5097,\n",
       " 5098,\n",
       " 5099,\n",
       " 5100,\n",
       " 5101,\n",
       " 5102,\n",
       " 5103,\n",
       " 5104,\n",
       " 5105,\n",
       " 5106,\n",
       " 5107,\n",
       " 5108,\n",
       " 5109,\n",
       " 5110,\n",
       " 5111,\n",
       " 5112,\n",
       " 5113,\n",
       " 5114,\n",
       " 5115,\n",
       " 5116,\n",
       " 5118,\n",
       " 5120,\n",
       " 5121,\n",
       " 5122,\n",
       " 5123,\n",
       " 5131,\n",
       " 5132,\n",
       " 5133,\n",
       " 5134,\n",
       " 5296,\n",
       " 5297,\n",
       " 5300,\n",
       " 5301,\n",
       " 5303,\n",
       " 5304,\n",
       " 5305,\n",
       " 5306,\n",
       " 5751,\n",
       " 5936,\n",
       " 5961,\n",
       " 5975,\n",
       " 6041,\n",
       " 6115,\n",
       " 6116,\n",
       " 6121,\n",
       " 6187,\n",
       " 6317,\n",
       " 6318,\n",
       " 6319,\n",
       " 6382,\n",
       " 6386,\n",
       " 6387,\n",
       " 6388,\n",
       " 6398,\n",
       " 6402,\n",
       " 6454,\n",
       " 6457,\n",
       " 6458,\n",
       " 6459,\n",
       " 6460,\n",
       " 6461,\n",
       " 6462,\n",
       " 6463,\n",
       " 6466,\n",
       " 6468,\n",
       " 6492,\n",
       " 6493,\n",
       " 6494,\n",
       " 6496,\n",
       " 6497,\n",
       " 6498,\n",
       " 6499,\n",
       " 6500,\n",
       " 6501,\n",
       " 6503,\n",
       " 6504,\n",
       " 6521,\n",
       " 6522,\n",
       " 6523,\n",
       " 6524,\n",
       " 6525,\n",
       " 6526,\n",
       " 6527,\n",
       " 6530,\n",
       " 6531,\n",
       " 6633,\n",
       " 6640,\n",
       " 6641,\n",
       " 6642,\n",
       " 6643,\n",
       " 6720,\n",
       " 6953,\n",
       " 7039,\n",
       " 7041,\n",
       " 7059,\n",
       " 7060,\n",
       " 7062,\n",
       " 7063,\n",
       " 7064,\n",
       " 7065,\n",
       " 7066,\n",
       " 7085,\n",
       " 7401,\n",
       " 7402,\n",
       " 7403,\n",
       " 7404,\n",
       " 7405,\n",
       " 7406,\n",
       " 7407,\n",
       " 7408,\n",
       " 7409,\n",
       " 7410,\n",
       " 7411,\n",
       " 7412,\n",
       " 7413,\n",
       " 7414,\n",
       " 7416,\n",
       " 7417,\n",
       " 7418,\n",
       " 7419,\n",
       " 7420,\n",
       " 7421,\n",
       " 7422,\n",
       " 7423,\n",
       " 7424,\n",
       " 7425,\n",
       " 7426,\n",
       " 7427,\n",
       " 7428,\n",
       " 7514,\n",
       " 7515,\n",
       " 7836,\n",
       " 7907,\n",
       " 7908,\n",
       " 7909,\n",
       " 7910,\n",
       " 7911,\n",
       " 7950,\n",
       " 7953,\n",
       " 7961,\n",
       " 8190,\n",
       " 8214,\n",
       " 8217,\n",
       " 8220,\n",
       " 8223,\n",
       " 8226,\n",
       " 8229,\n",
       " 8232,\n",
       " 8523,\n",
       " 8601,\n",
       " 8604]"
      ]
     },
     "execution_count": 16,
     "metadata": {},
     "output_type": "execute_result"
    }
   ],
   "source": [
    "index=o.index.tolist()\n",
    "index"
   ]
  },
  {
   "cell_type": "code",
   "execution_count": 17,
   "id": "aa5e7699-f969-4b00-a1a3-3d198777596d",
   "metadata": {},
   "outputs": [
    {
     "data": {
      "text/html": [
       "<div>\n",
       "<style scoped>\n",
       "    .dataframe tbody tr th:only-of-type {\n",
       "        vertical-align: middle;\n",
       "    }\n",
       "\n",
       "    .dataframe tbody tr th {\n",
       "        vertical-align: top;\n",
       "    }\n",
       "\n",
       "    .dataframe thead th {\n",
       "        text-align: right;\n",
       "    }\n",
       "</style>\n",
       "<table border=\"1\" class=\"dataframe\">\n",
       "  <thead>\n",
       "    <tr style=\"text-align: right;\">\n",
       "      <th></th>\n",
       "      <th>Date</th>\n",
       "      <th>Rented Bike Count</th>\n",
       "      <th>Hour</th>\n",
       "      <th>Temperature(°C)</th>\n",
       "      <th>Humidity(%)</th>\n",
       "      <th>Wind speed (m/s)</th>\n",
       "      <th>Visibility (10m)</th>\n",
       "      <th>Dew point temperature(°C)</th>\n",
       "      <th>Solar Radiation (MJ/m2)</th>\n",
       "      <th>Rainfall(mm)</th>\n",
       "      <th>Snowfall (cm)</th>\n",
       "      <th>Seasons</th>\n",
       "      <th>Holiday</th>\n",
       "      <th>Functioning Day</th>\n",
       "      <th>Day</th>\n",
       "      <th>Month</th>\n",
       "      <th>Year</th>\n",
       "    </tr>\n",
       "  </thead>\n",
       "  <tbody>\n",
       "    <tr>\n",
       "      <th>0</th>\n",
       "      <td>2017-01-12</td>\n",
       "      <td>254</td>\n",
       "      <td>0</td>\n",
       "      <td>-5.2</td>\n",
       "      <td>37</td>\n",
       "      <td>2.2</td>\n",
       "      <td>2000</td>\n",
       "      <td>-17.6</td>\n",
       "      <td>0.0</td>\n",
       "      <td>0.0</td>\n",
       "      <td>0.0</td>\n",
       "      <td>Winter</td>\n",
       "      <td>No Holiday</td>\n",
       "      <td>Yes</td>\n",
       "      <td>12</td>\n",
       "      <td>1</td>\n",
       "      <td>2017</td>\n",
       "    </tr>\n",
       "    <tr>\n",
       "      <th>1</th>\n",
       "      <td>2017-01-12</td>\n",
       "      <td>204</td>\n",
       "      <td>1</td>\n",
       "      <td>-5.5</td>\n",
       "      <td>38</td>\n",
       "      <td>0.8</td>\n",
       "      <td>2000</td>\n",
       "      <td>-17.6</td>\n",
       "      <td>0.0</td>\n",
       "      <td>0.0</td>\n",
       "      <td>0.0</td>\n",
       "      <td>Winter</td>\n",
       "      <td>No Holiday</td>\n",
       "      <td>Yes</td>\n",
       "      <td>12</td>\n",
       "      <td>1</td>\n",
       "      <td>2017</td>\n",
       "    </tr>\n",
       "    <tr>\n",
       "      <th>2</th>\n",
       "      <td>2017-01-12</td>\n",
       "      <td>173</td>\n",
       "      <td>2</td>\n",
       "      <td>-6.0</td>\n",
       "      <td>39</td>\n",
       "      <td>1.0</td>\n",
       "      <td>2000</td>\n",
       "      <td>-17.7</td>\n",
       "      <td>0.0</td>\n",
       "      <td>0.0</td>\n",
       "      <td>0.0</td>\n",
       "      <td>Winter</td>\n",
       "      <td>No Holiday</td>\n",
       "      <td>Yes</td>\n",
       "      <td>12</td>\n",
       "      <td>1</td>\n",
       "      <td>2017</td>\n",
       "    </tr>\n",
       "    <tr>\n",
       "      <th>3</th>\n",
       "      <td>2017-01-12</td>\n",
       "      <td>107</td>\n",
       "      <td>3</td>\n",
       "      <td>-6.2</td>\n",
       "      <td>40</td>\n",
       "      <td>0.9</td>\n",
       "      <td>2000</td>\n",
       "      <td>-17.6</td>\n",
       "      <td>0.0</td>\n",
       "      <td>0.0</td>\n",
       "      <td>0.0</td>\n",
       "      <td>Winter</td>\n",
       "      <td>No Holiday</td>\n",
       "      <td>Yes</td>\n",
       "      <td>12</td>\n",
       "      <td>1</td>\n",
       "      <td>2017</td>\n",
       "    </tr>\n",
       "    <tr>\n",
       "      <th>4</th>\n",
       "      <td>2017-01-12</td>\n",
       "      <td>78</td>\n",
       "      <td>4</td>\n",
       "      <td>-6.0</td>\n",
       "      <td>36</td>\n",
       "      <td>2.3</td>\n",
       "      <td>2000</td>\n",
       "      <td>-18.6</td>\n",
       "      <td>0.0</td>\n",
       "      <td>0.0</td>\n",
       "      <td>0.0</td>\n",
       "      <td>Winter</td>\n",
       "      <td>No Holiday</td>\n",
       "      <td>Yes</td>\n",
       "      <td>12</td>\n",
       "      <td>1</td>\n",
       "      <td>2017</td>\n",
       "    </tr>\n",
       "    <tr>\n",
       "      <th>...</th>\n",
       "      <td>...</td>\n",
       "      <td>...</td>\n",
       "      <td>...</td>\n",
       "      <td>...</td>\n",
       "      <td>...</td>\n",
       "      <td>...</td>\n",
       "      <td>...</td>\n",
       "      <td>...</td>\n",
       "      <td>...</td>\n",
       "      <td>...</td>\n",
       "      <td>...</td>\n",
       "      <td>...</td>\n",
       "      <td>...</td>\n",
       "      <td>...</td>\n",
       "      <td>...</td>\n",
       "      <td>...</td>\n",
       "      <td>...</td>\n",
       "    </tr>\n",
       "    <tr>\n",
       "      <th>8755</th>\n",
       "      <td>2018-11-30</td>\n",
       "      <td>1003</td>\n",
       "      <td>19</td>\n",
       "      <td>4.2</td>\n",
       "      <td>34</td>\n",
       "      <td>2.6</td>\n",
       "      <td>1894</td>\n",
       "      <td>-10.3</td>\n",
       "      <td>0.0</td>\n",
       "      <td>0.0</td>\n",
       "      <td>0.0</td>\n",
       "      <td>Autumn</td>\n",
       "      <td>No Holiday</td>\n",
       "      <td>Yes</td>\n",
       "      <td>30</td>\n",
       "      <td>11</td>\n",
       "      <td>2018</td>\n",
       "    </tr>\n",
       "    <tr>\n",
       "      <th>8756</th>\n",
       "      <td>2018-11-30</td>\n",
       "      <td>764</td>\n",
       "      <td>20</td>\n",
       "      <td>3.4</td>\n",
       "      <td>37</td>\n",
       "      <td>2.3</td>\n",
       "      <td>2000</td>\n",
       "      <td>-9.9</td>\n",
       "      <td>0.0</td>\n",
       "      <td>0.0</td>\n",
       "      <td>0.0</td>\n",
       "      <td>Autumn</td>\n",
       "      <td>No Holiday</td>\n",
       "      <td>Yes</td>\n",
       "      <td>30</td>\n",
       "      <td>11</td>\n",
       "      <td>2018</td>\n",
       "    </tr>\n",
       "    <tr>\n",
       "      <th>8757</th>\n",
       "      <td>2018-11-30</td>\n",
       "      <td>694</td>\n",
       "      <td>21</td>\n",
       "      <td>2.6</td>\n",
       "      <td>39</td>\n",
       "      <td>0.3</td>\n",
       "      <td>1968</td>\n",
       "      <td>-9.9</td>\n",
       "      <td>0.0</td>\n",
       "      <td>0.0</td>\n",
       "      <td>0.0</td>\n",
       "      <td>Autumn</td>\n",
       "      <td>No Holiday</td>\n",
       "      <td>Yes</td>\n",
       "      <td>30</td>\n",
       "      <td>11</td>\n",
       "      <td>2018</td>\n",
       "    </tr>\n",
       "    <tr>\n",
       "      <th>8758</th>\n",
       "      <td>2018-11-30</td>\n",
       "      <td>712</td>\n",
       "      <td>22</td>\n",
       "      <td>2.1</td>\n",
       "      <td>41</td>\n",
       "      <td>1.0</td>\n",
       "      <td>1859</td>\n",
       "      <td>-9.8</td>\n",
       "      <td>0.0</td>\n",
       "      <td>0.0</td>\n",
       "      <td>0.0</td>\n",
       "      <td>Autumn</td>\n",
       "      <td>No Holiday</td>\n",
       "      <td>Yes</td>\n",
       "      <td>30</td>\n",
       "      <td>11</td>\n",
       "      <td>2018</td>\n",
       "    </tr>\n",
       "    <tr>\n",
       "      <th>8759</th>\n",
       "      <td>2018-11-30</td>\n",
       "      <td>584</td>\n",
       "      <td>23</td>\n",
       "      <td>1.9</td>\n",
       "      <td>43</td>\n",
       "      <td>1.3</td>\n",
       "      <td>1909</td>\n",
       "      <td>-9.3</td>\n",
       "      <td>0.0</td>\n",
       "      <td>0.0</td>\n",
       "      <td>0.0</td>\n",
       "      <td>Autumn</td>\n",
       "      <td>No Holiday</td>\n",
       "      <td>Yes</td>\n",
       "      <td>30</td>\n",
       "      <td>11</td>\n",
       "      <td>2018</td>\n",
       "    </tr>\n",
       "  </tbody>\n",
       "</table>\n",
       "<p>7641 rows × 17 columns</p>\n",
       "</div>"
      ],
      "text/plain": [
       "           Date  Rented Bike Count  Hour  Temperature(°C)  Humidity(%)  \\\n",
       "0    2017-01-12                254     0             -5.2           37   \n",
       "1    2017-01-12                204     1             -5.5           38   \n",
       "2    2017-01-12                173     2             -6.0           39   \n",
       "3    2017-01-12                107     3             -6.2           40   \n",
       "4    2017-01-12                 78     4             -6.0           36   \n",
       "...         ...                ...   ...              ...          ...   \n",
       "8755 2018-11-30               1003    19              4.2           34   \n",
       "8756 2018-11-30                764    20              3.4           37   \n",
       "8757 2018-11-30                694    21              2.6           39   \n",
       "8758 2018-11-30                712    22              2.1           41   \n",
       "8759 2018-11-30                584    23              1.9           43   \n",
       "\n",
       "      Wind speed (m/s)  Visibility (10m)  Dew point temperature(°C)  \\\n",
       "0                  2.2              2000                      -17.6   \n",
       "1                  0.8              2000                      -17.6   \n",
       "2                  1.0              2000                      -17.7   \n",
       "3                  0.9              2000                      -17.6   \n",
       "4                  2.3              2000                      -18.6   \n",
       "...                ...               ...                        ...   \n",
       "8755               2.6              1894                      -10.3   \n",
       "8756               2.3              2000                       -9.9   \n",
       "8757               0.3              1968                       -9.9   \n",
       "8758               1.0              1859                       -9.8   \n",
       "8759               1.3              1909                       -9.3   \n",
       "\n",
       "      Solar Radiation (MJ/m2)  Rainfall(mm)  Snowfall (cm) Seasons  \\\n",
       "0                         0.0           0.0            0.0  Winter   \n",
       "1                         0.0           0.0            0.0  Winter   \n",
       "2                         0.0           0.0            0.0  Winter   \n",
       "3                         0.0           0.0            0.0  Winter   \n",
       "4                         0.0           0.0            0.0  Winter   \n",
       "...                       ...           ...            ...     ...   \n",
       "8755                      0.0           0.0            0.0  Autumn   \n",
       "8756                      0.0           0.0            0.0  Autumn   \n",
       "8757                      0.0           0.0            0.0  Autumn   \n",
       "8758                      0.0           0.0            0.0  Autumn   \n",
       "8759                      0.0           0.0            0.0  Autumn   \n",
       "\n",
       "         Holiday Functioning Day  Day  Month  Year  \n",
       "0     No Holiday             Yes   12      1  2017  \n",
       "1     No Holiday             Yes   12      1  2017  \n",
       "2     No Holiday             Yes   12      1  2017  \n",
       "3     No Holiday             Yes   12      1  2017  \n",
       "4     No Holiday             Yes   12      1  2017  \n",
       "...          ...             ...  ...    ...   ...  \n",
       "8755  No Holiday             Yes   30     11  2018  \n",
       "8756  No Holiday             Yes   30     11  2018  \n",
       "8757  No Holiday             Yes   30     11  2018  \n",
       "8758  No Holiday             Yes   30     11  2018  \n",
       "8759  No Holiday             Yes   30     11  2018  \n",
       "\n",
       "[7641 rows x 17 columns]"
      ]
     },
     "execution_count": 17,
     "metadata": {},
     "output_type": "execute_result"
    }
   ],
   "source": [
    "final_data=new_data1.drop(index)\n",
    "final_data"
   ]
  },
  {
   "cell_type": "code",
   "execution_count": 18,
   "id": "ad6a1ea3-6550-4aa6-ac62-0102fbc1ec9d",
   "metadata": {},
   "outputs": [
    {
     "name": "stdout",
     "output_type": "stream",
     "text": [
      "           Date  Rented Bike Count  Hour  Temperature(°C)  Humidity(%)  \\\n",
      "0    2017-01-12                254     0             -5.2           37   \n",
      "1    2017-01-12                204     1             -5.5           38   \n",
      "2    2017-01-12                173     2             -6.0           39   \n",
      "3    2017-01-12                107     3             -6.2           40   \n",
      "4    2017-01-12                 78     4             -6.0           36   \n",
      "...         ...                ...   ...              ...          ...   \n",
      "8755 2018-11-30               1003    19              4.2           34   \n",
      "8756 2018-11-30                764    20              3.4           37   \n",
      "8757 2018-11-30                694    21              2.6           39   \n",
      "8758 2018-11-30                712    22              2.1           41   \n",
      "8759 2018-11-30                584    23              1.9           43   \n",
      "\n",
      "      Wind speed (m/s)  Visibility (10m)  Dew point temperature(°C)  \\\n",
      "0                  2.2              2000                      -17.6   \n",
      "1                  0.8              2000                      -17.6   \n",
      "2                  1.0              2000                      -17.7   \n",
      "3                  0.9              2000                      -17.6   \n",
      "4                  2.3              2000                      -18.6   \n",
      "...                ...               ...                        ...   \n",
      "8755               2.6              1894                      -10.3   \n",
      "8756               2.3              2000                       -9.9   \n",
      "8757               0.3              1968                       -9.9   \n",
      "8758               1.0              1859                       -9.8   \n",
      "8759               1.3              1909                       -9.3   \n",
      "\n",
      "      Solar Radiation (MJ/m2)  Rainfall(mm)  Snowfall (cm)  Seasons  Holiday  \\\n",
      "0                         0.0           0.0            0.0        3        1   \n",
      "1                         0.0           0.0            0.0        3        1   \n",
      "2                         0.0           0.0            0.0        3        1   \n",
      "3                         0.0           0.0            0.0        3        1   \n",
      "4                         0.0           0.0            0.0        3        1   \n",
      "...                       ...           ...            ...      ...      ...   \n",
      "8755                      0.0           0.0            0.0        0        1   \n",
      "8756                      0.0           0.0            0.0        0        1   \n",
      "8757                      0.0           0.0            0.0        0        1   \n",
      "8758                      0.0           0.0            0.0        0        1   \n",
      "8759                      0.0           0.0            0.0        0        1   \n",
      "\n",
      "      Functioning Day  Day  Month  Year  \n",
      "0                   1   12      1  2017  \n",
      "1                   1   12      1  2017  \n",
      "2                   1   12      1  2017  \n",
      "3                   1   12      1  2017  \n",
      "4                   1   12      1  2017  \n",
      "...               ...  ...    ...   ...  \n",
      "8755                1   30     11  2018  \n",
      "8756                1   30     11  2018  \n",
      "8757                1   30     11  2018  \n",
      "8758                1   30     11  2018  \n",
      "8759                1   30     11  2018  \n",
      "\n",
      "[7641 rows x 17 columns]\n"
     ]
    },
    {
     "data": {
      "text/html": [
       "<div>\n",
       "<style scoped>\n",
       "    .dataframe tbody tr th:only-of-type {\n",
       "        vertical-align: middle;\n",
       "    }\n",
       "\n",
       "    .dataframe tbody tr th {\n",
       "        vertical-align: top;\n",
       "    }\n",
       "\n",
       "    .dataframe thead th {\n",
       "        text-align: right;\n",
       "    }\n",
       "</style>\n",
       "<table border=\"1\" class=\"dataframe\">\n",
       "  <thead>\n",
       "    <tr style=\"text-align: right;\">\n",
       "      <th></th>\n",
       "      <th>Date</th>\n",
       "      <th>Rented Bike Count</th>\n",
       "      <th>Hour</th>\n",
       "      <th>Temperature(°C)</th>\n",
       "      <th>Humidity(%)</th>\n",
       "      <th>Wind speed (m/s)</th>\n",
       "      <th>Visibility (10m)</th>\n",
       "      <th>Dew point temperature(°C)</th>\n",
       "      <th>Solar Radiation (MJ/m2)</th>\n",
       "      <th>Rainfall(mm)</th>\n",
       "      <th>Snowfall (cm)</th>\n",
       "      <th>Seasons</th>\n",
       "      <th>Holiday</th>\n",
       "      <th>Functioning Day</th>\n",
       "      <th>Day</th>\n",
       "      <th>Month</th>\n",
       "      <th>Year</th>\n",
       "    </tr>\n",
       "  </thead>\n",
       "  <tbody>\n",
       "    <tr>\n",
       "      <th>0</th>\n",
       "      <td>2017-01-12</td>\n",
       "      <td>254</td>\n",
       "      <td>0</td>\n",
       "      <td>-5.2</td>\n",
       "      <td>37</td>\n",
       "      <td>2.2</td>\n",
       "      <td>2000</td>\n",
       "      <td>-17.6</td>\n",
       "      <td>0.0</td>\n",
       "      <td>0.0</td>\n",
       "      <td>0.0</td>\n",
       "      <td>3</td>\n",
       "      <td>1</td>\n",
       "      <td>1</td>\n",
       "      <td>12</td>\n",
       "      <td>1</td>\n",
       "      <td>2017</td>\n",
       "    </tr>\n",
       "    <tr>\n",
       "      <th>1</th>\n",
       "      <td>2017-01-12</td>\n",
       "      <td>204</td>\n",
       "      <td>1</td>\n",
       "      <td>-5.5</td>\n",
       "      <td>38</td>\n",
       "      <td>0.8</td>\n",
       "      <td>2000</td>\n",
       "      <td>-17.6</td>\n",
       "      <td>0.0</td>\n",
       "      <td>0.0</td>\n",
       "      <td>0.0</td>\n",
       "      <td>3</td>\n",
       "      <td>1</td>\n",
       "      <td>1</td>\n",
       "      <td>12</td>\n",
       "      <td>1</td>\n",
       "      <td>2017</td>\n",
       "    </tr>\n",
       "    <tr>\n",
       "      <th>2</th>\n",
       "      <td>2017-01-12</td>\n",
       "      <td>173</td>\n",
       "      <td>2</td>\n",
       "      <td>-6.0</td>\n",
       "      <td>39</td>\n",
       "      <td>1.0</td>\n",
       "      <td>2000</td>\n",
       "      <td>-17.7</td>\n",
       "      <td>0.0</td>\n",
       "      <td>0.0</td>\n",
       "      <td>0.0</td>\n",
       "      <td>3</td>\n",
       "      <td>1</td>\n",
       "      <td>1</td>\n",
       "      <td>12</td>\n",
       "      <td>1</td>\n",
       "      <td>2017</td>\n",
       "    </tr>\n",
       "    <tr>\n",
       "      <th>3</th>\n",
       "      <td>2017-01-12</td>\n",
       "      <td>107</td>\n",
       "      <td>3</td>\n",
       "      <td>-6.2</td>\n",
       "      <td>40</td>\n",
       "      <td>0.9</td>\n",
       "      <td>2000</td>\n",
       "      <td>-17.6</td>\n",
       "      <td>0.0</td>\n",
       "      <td>0.0</td>\n",
       "      <td>0.0</td>\n",
       "      <td>3</td>\n",
       "      <td>1</td>\n",
       "      <td>1</td>\n",
       "      <td>12</td>\n",
       "      <td>1</td>\n",
       "      <td>2017</td>\n",
       "    </tr>\n",
       "    <tr>\n",
       "      <th>4</th>\n",
       "      <td>2017-01-12</td>\n",
       "      <td>78</td>\n",
       "      <td>4</td>\n",
       "      <td>-6.0</td>\n",
       "      <td>36</td>\n",
       "      <td>2.3</td>\n",
       "      <td>2000</td>\n",
       "      <td>-18.6</td>\n",
       "      <td>0.0</td>\n",
       "      <td>0.0</td>\n",
       "      <td>0.0</td>\n",
       "      <td>3</td>\n",
       "      <td>1</td>\n",
       "      <td>1</td>\n",
       "      <td>12</td>\n",
       "      <td>1</td>\n",
       "      <td>2017</td>\n",
       "    </tr>\n",
       "    <tr>\n",
       "      <th>...</th>\n",
       "      <td>...</td>\n",
       "      <td>...</td>\n",
       "      <td>...</td>\n",
       "      <td>...</td>\n",
       "      <td>...</td>\n",
       "      <td>...</td>\n",
       "      <td>...</td>\n",
       "      <td>...</td>\n",
       "      <td>...</td>\n",
       "      <td>...</td>\n",
       "      <td>...</td>\n",
       "      <td>...</td>\n",
       "      <td>...</td>\n",
       "      <td>...</td>\n",
       "      <td>...</td>\n",
       "      <td>...</td>\n",
       "      <td>...</td>\n",
       "    </tr>\n",
       "    <tr>\n",
       "      <th>8755</th>\n",
       "      <td>2018-11-30</td>\n",
       "      <td>1003</td>\n",
       "      <td>19</td>\n",
       "      <td>4.2</td>\n",
       "      <td>34</td>\n",
       "      <td>2.6</td>\n",
       "      <td>1894</td>\n",
       "      <td>-10.3</td>\n",
       "      <td>0.0</td>\n",
       "      <td>0.0</td>\n",
       "      <td>0.0</td>\n",
       "      <td>0</td>\n",
       "      <td>1</td>\n",
       "      <td>1</td>\n",
       "      <td>30</td>\n",
       "      <td>11</td>\n",
       "      <td>2018</td>\n",
       "    </tr>\n",
       "    <tr>\n",
       "      <th>8756</th>\n",
       "      <td>2018-11-30</td>\n",
       "      <td>764</td>\n",
       "      <td>20</td>\n",
       "      <td>3.4</td>\n",
       "      <td>37</td>\n",
       "      <td>2.3</td>\n",
       "      <td>2000</td>\n",
       "      <td>-9.9</td>\n",
       "      <td>0.0</td>\n",
       "      <td>0.0</td>\n",
       "      <td>0.0</td>\n",
       "      <td>0</td>\n",
       "      <td>1</td>\n",
       "      <td>1</td>\n",
       "      <td>30</td>\n",
       "      <td>11</td>\n",
       "      <td>2018</td>\n",
       "    </tr>\n",
       "    <tr>\n",
       "      <th>8757</th>\n",
       "      <td>2018-11-30</td>\n",
       "      <td>694</td>\n",
       "      <td>21</td>\n",
       "      <td>2.6</td>\n",
       "      <td>39</td>\n",
       "      <td>0.3</td>\n",
       "      <td>1968</td>\n",
       "      <td>-9.9</td>\n",
       "      <td>0.0</td>\n",
       "      <td>0.0</td>\n",
       "      <td>0.0</td>\n",
       "      <td>0</td>\n",
       "      <td>1</td>\n",
       "      <td>1</td>\n",
       "      <td>30</td>\n",
       "      <td>11</td>\n",
       "      <td>2018</td>\n",
       "    </tr>\n",
       "    <tr>\n",
       "      <th>8758</th>\n",
       "      <td>2018-11-30</td>\n",
       "      <td>712</td>\n",
       "      <td>22</td>\n",
       "      <td>2.1</td>\n",
       "      <td>41</td>\n",
       "      <td>1.0</td>\n",
       "      <td>1859</td>\n",
       "      <td>-9.8</td>\n",
       "      <td>0.0</td>\n",
       "      <td>0.0</td>\n",
       "      <td>0.0</td>\n",
       "      <td>0</td>\n",
       "      <td>1</td>\n",
       "      <td>1</td>\n",
       "      <td>30</td>\n",
       "      <td>11</td>\n",
       "      <td>2018</td>\n",
       "    </tr>\n",
       "    <tr>\n",
       "      <th>8759</th>\n",
       "      <td>2018-11-30</td>\n",
       "      <td>584</td>\n",
       "      <td>23</td>\n",
       "      <td>1.9</td>\n",
       "      <td>43</td>\n",
       "      <td>1.3</td>\n",
       "      <td>1909</td>\n",
       "      <td>-9.3</td>\n",
       "      <td>0.0</td>\n",
       "      <td>0.0</td>\n",
       "      <td>0.0</td>\n",
       "      <td>0</td>\n",
       "      <td>1</td>\n",
       "      <td>1</td>\n",
       "      <td>30</td>\n",
       "      <td>11</td>\n",
       "      <td>2018</td>\n",
       "    </tr>\n",
       "  </tbody>\n",
       "</table>\n",
       "<p>7641 rows × 17 columns</p>\n",
       "</div>"
      ],
      "text/plain": [
       "           Date  Rented Bike Count  Hour  Temperature(°C)  Humidity(%)  \\\n",
       "0    2017-01-12                254     0             -5.2           37   \n",
       "1    2017-01-12                204     1             -5.5           38   \n",
       "2    2017-01-12                173     2             -6.0           39   \n",
       "3    2017-01-12                107     3             -6.2           40   \n",
       "4    2017-01-12                 78     4             -6.0           36   \n",
       "...         ...                ...   ...              ...          ...   \n",
       "8755 2018-11-30               1003    19              4.2           34   \n",
       "8756 2018-11-30                764    20              3.4           37   \n",
       "8757 2018-11-30                694    21              2.6           39   \n",
       "8758 2018-11-30                712    22              2.1           41   \n",
       "8759 2018-11-30                584    23              1.9           43   \n",
       "\n",
       "      Wind speed (m/s)  Visibility (10m)  Dew point temperature(°C)  \\\n",
       "0                  2.2              2000                      -17.6   \n",
       "1                  0.8              2000                      -17.6   \n",
       "2                  1.0              2000                      -17.7   \n",
       "3                  0.9              2000                      -17.6   \n",
       "4                  2.3              2000                      -18.6   \n",
       "...                ...               ...                        ...   \n",
       "8755               2.6              1894                      -10.3   \n",
       "8756               2.3              2000                       -9.9   \n",
       "8757               0.3              1968                       -9.9   \n",
       "8758               1.0              1859                       -9.8   \n",
       "8759               1.3              1909                       -9.3   \n",
       "\n",
       "      Solar Radiation (MJ/m2)  Rainfall(mm)  Snowfall (cm)  Seasons  Holiday  \\\n",
       "0                         0.0           0.0            0.0        3        1   \n",
       "1                         0.0           0.0            0.0        3        1   \n",
       "2                         0.0           0.0            0.0        3        1   \n",
       "3                         0.0           0.0            0.0        3        1   \n",
       "4                         0.0           0.0            0.0        3        1   \n",
       "...                       ...           ...            ...      ...      ...   \n",
       "8755                      0.0           0.0            0.0        0        1   \n",
       "8756                      0.0           0.0            0.0        0        1   \n",
       "8757                      0.0           0.0            0.0        0        1   \n",
       "8758                      0.0           0.0            0.0        0        1   \n",
       "8759                      0.0           0.0            0.0        0        1   \n",
       "\n",
       "      Functioning Day  Day  Month  Year  \n",
       "0                   1   12      1  2017  \n",
       "1                   1   12      1  2017  \n",
       "2                   1   12      1  2017  \n",
       "3                   1   12      1  2017  \n",
       "4                   1   12      1  2017  \n",
       "...               ...  ...    ...   ...  \n",
       "8755                1   30     11  2018  \n",
       "8756                1   30     11  2018  \n",
       "8757                1   30     11  2018  \n",
       "8758                1   30     11  2018  \n",
       "8759                1   30     11  2018  \n",
       "\n",
       "[7641 rows x 17 columns]"
      ]
     },
     "execution_count": 18,
     "metadata": {},
     "output_type": "execute_result"
    }
   ],
   "source": [
    "from sklearn.preprocessing import LabelEncoder\n",
    "import pandas as pd \n",
    "label_encoder=LabelEncoder()\n",
    "final_data[\"Seasons\"]=label_encoder.fit_transform(final_data[\"Seasons\"])\n",
    "final_data[\"Holiday\"]=label_encoder.fit_transform(final_data[\"Holiday\"])\n",
    "final_data[\"Functioning Day\"]=label_encoder.fit_transform(final_data[\"Functioning Day\"])\n",
    "print(final_data)\n",
    "pd.DataFrame(final_data)"
   ]
  },
  {
   "cell_type": "code",
   "execution_count": 19,
   "id": "d73e3d0b-6d6b-45c0-b589-81093127e74e",
   "metadata": {},
   "outputs": [
    {
     "data": {
      "text/html": [
       "<div>\n",
       "<style scoped>\n",
       "    .dataframe tbody tr th:only-of-type {\n",
       "        vertical-align: middle;\n",
       "    }\n",
       "\n",
       "    .dataframe tbody tr th {\n",
       "        vertical-align: top;\n",
       "    }\n",
       "\n",
       "    .dataframe thead th {\n",
       "        text-align: right;\n",
       "    }\n",
       "</style>\n",
       "<table border=\"1\" class=\"dataframe\">\n",
       "  <thead>\n",
       "    <tr style=\"text-align: right;\">\n",
       "      <th></th>\n",
       "      <th>Rented Bike Count</th>\n",
       "      <th>Hour</th>\n",
       "      <th>Temperature(°C)</th>\n",
       "      <th>Humidity(%)</th>\n",
       "      <th>Wind speed (m/s)</th>\n",
       "      <th>Visibility (10m)</th>\n",
       "      <th>Dew point temperature(°C)</th>\n",
       "      <th>Solar Radiation (MJ/m2)</th>\n",
       "      <th>Rainfall(mm)</th>\n",
       "      <th>Snowfall (cm)</th>\n",
       "      <th>Seasons</th>\n",
       "      <th>Holiday</th>\n",
       "      <th>Functioning Day</th>\n",
       "      <th>Day</th>\n",
       "      <th>Month</th>\n",
       "      <th>Year</th>\n",
       "    </tr>\n",
       "  </thead>\n",
       "  <tbody>\n",
       "    <tr>\n",
       "      <th>0</th>\n",
       "      <td>254</td>\n",
       "      <td>0</td>\n",
       "      <td>-5.2</td>\n",
       "      <td>37</td>\n",
       "      <td>2.2</td>\n",
       "      <td>2000</td>\n",
       "      <td>-17.6</td>\n",
       "      <td>0.0</td>\n",
       "      <td>0.0</td>\n",
       "      <td>0.0</td>\n",
       "      <td>3</td>\n",
       "      <td>1</td>\n",
       "      <td>1</td>\n",
       "      <td>12</td>\n",
       "      <td>1</td>\n",
       "      <td>2017</td>\n",
       "    </tr>\n",
       "    <tr>\n",
       "      <th>1</th>\n",
       "      <td>204</td>\n",
       "      <td>1</td>\n",
       "      <td>-5.5</td>\n",
       "      <td>38</td>\n",
       "      <td>0.8</td>\n",
       "      <td>2000</td>\n",
       "      <td>-17.6</td>\n",
       "      <td>0.0</td>\n",
       "      <td>0.0</td>\n",
       "      <td>0.0</td>\n",
       "      <td>3</td>\n",
       "      <td>1</td>\n",
       "      <td>1</td>\n",
       "      <td>12</td>\n",
       "      <td>1</td>\n",
       "      <td>2017</td>\n",
       "    </tr>\n",
       "    <tr>\n",
       "      <th>2</th>\n",
       "      <td>173</td>\n",
       "      <td>2</td>\n",
       "      <td>-6.0</td>\n",
       "      <td>39</td>\n",
       "      <td>1.0</td>\n",
       "      <td>2000</td>\n",
       "      <td>-17.7</td>\n",
       "      <td>0.0</td>\n",
       "      <td>0.0</td>\n",
       "      <td>0.0</td>\n",
       "      <td>3</td>\n",
       "      <td>1</td>\n",
       "      <td>1</td>\n",
       "      <td>12</td>\n",
       "      <td>1</td>\n",
       "      <td>2017</td>\n",
       "    </tr>\n",
       "    <tr>\n",
       "      <th>3</th>\n",
       "      <td>107</td>\n",
       "      <td>3</td>\n",
       "      <td>-6.2</td>\n",
       "      <td>40</td>\n",
       "      <td>0.9</td>\n",
       "      <td>2000</td>\n",
       "      <td>-17.6</td>\n",
       "      <td>0.0</td>\n",
       "      <td>0.0</td>\n",
       "      <td>0.0</td>\n",
       "      <td>3</td>\n",
       "      <td>1</td>\n",
       "      <td>1</td>\n",
       "      <td>12</td>\n",
       "      <td>1</td>\n",
       "      <td>2017</td>\n",
       "    </tr>\n",
       "    <tr>\n",
       "      <th>4</th>\n",
       "      <td>78</td>\n",
       "      <td>4</td>\n",
       "      <td>-6.0</td>\n",
       "      <td>36</td>\n",
       "      <td>2.3</td>\n",
       "      <td>2000</td>\n",
       "      <td>-18.6</td>\n",
       "      <td>0.0</td>\n",
       "      <td>0.0</td>\n",
       "      <td>0.0</td>\n",
       "      <td>3</td>\n",
       "      <td>1</td>\n",
       "      <td>1</td>\n",
       "      <td>12</td>\n",
       "      <td>1</td>\n",
       "      <td>2017</td>\n",
       "    </tr>\n",
       "    <tr>\n",
       "      <th>...</th>\n",
       "      <td>...</td>\n",
       "      <td>...</td>\n",
       "      <td>...</td>\n",
       "      <td>...</td>\n",
       "      <td>...</td>\n",
       "      <td>...</td>\n",
       "      <td>...</td>\n",
       "      <td>...</td>\n",
       "      <td>...</td>\n",
       "      <td>...</td>\n",
       "      <td>...</td>\n",
       "      <td>...</td>\n",
       "      <td>...</td>\n",
       "      <td>...</td>\n",
       "      <td>...</td>\n",
       "      <td>...</td>\n",
       "    </tr>\n",
       "    <tr>\n",
       "      <th>8755</th>\n",
       "      <td>1003</td>\n",
       "      <td>19</td>\n",
       "      <td>4.2</td>\n",
       "      <td>34</td>\n",
       "      <td>2.6</td>\n",
       "      <td>1894</td>\n",
       "      <td>-10.3</td>\n",
       "      <td>0.0</td>\n",
       "      <td>0.0</td>\n",
       "      <td>0.0</td>\n",
       "      <td>0</td>\n",
       "      <td>1</td>\n",
       "      <td>1</td>\n",
       "      <td>30</td>\n",
       "      <td>11</td>\n",
       "      <td>2018</td>\n",
       "    </tr>\n",
       "    <tr>\n",
       "      <th>8756</th>\n",
       "      <td>764</td>\n",
       "      <td>20</td>\n",
       "      <td>3.4</td>\n",
       "      <td>37</td>\n",
       "      <td>2.3</td>\n",
       "      <td>2000</td>\n",
       "      <td>-9.9</td>\n",
       "      <td>0.0</td>\n",
       "      <td>0.0</td>\n",
       "      <td>0.0</td>\n",
       "      <td>0</td>\n",
       "      <td>1</td>\n",
       "      <td>1</td>\n",
       "      <td>30</td>\n",
       "      <td>11</td>\n",
       "      <td>2018</td>\n",
       "    </tr>\n",
       "    <tr>\n",
       "      <th>8757</th>\n",
       "      <td>694</td>\n",
       "      <td>21</td>\n",
       "      <td>2.6</td>\n",
       "      <td>39</td>\n",
       "      <td>0.3</td>\n",
       "      <td>1968</td>\n",
       "      <td>-9.9</td>\n",
       "      <td>0.0</td>\n",
       "      <td>0.0</td>\n",
       "      <td>0.0</td>\n",
       "      <td>0</td>\n",
       "      <td>1</td>\n",
       "      <td>1</td>\n",
       "      <td>30</td>\n",
       "      <td>11</td>\n",
       "      <td>2018</td>\n",
       "    </tr>\n",
       "    <tr>\n",
       "      <th>8758</th>\n",
       "      <td>712</td>\n",
       "      <td>22</td>\n",
       "      <td>2.1</td>\n",
       "      <td>41</td>\n",
       "      <td>1.0</td>\n",
       "      <td>1859</td>\n",
       "      <td>-9.8</td>\n",
       "      <td>0.0</td>\n",
       "      <td>0.0</td>\n",
       "      <td>0.0</td>\n",
       "      <td>0</td>\n",
       "      <td>1</td>\n",
       "      <td>1</td>\n",
       "      <td>30</td>\n",
       "      <td>11</td>\n",
       "      <td>2018</td>\n",
       "    </tr>\n",
       "    <tr>\n",
       "      <th>8759</th>\n",
       "      <td>584</td>\n",
       "      <td>23</td>\n",
       "      <td>1.9</td>\n",
       "      <td>43</td>\n",
       "      <td>1.3</td>\n",
       "      <td>1909</td>\n",
       "      <td>-9.3</td>\n",
       "      <td>0.0</td>\n",
       "      <td>0.0</td>\n",
       "      <td>0.0</td>\n",
       "      <td>0</td>\n",
       "      <td>1</td>\n",
       "      <td>1</td>\n",
       "      <td>30</td>\n",
       "      <td>11</td>\n",
       "      <td>2018</td>\n",
       "    </tr>\n",
       "  </tbody>\n",
       "</table>\n",
       "<p>7641 rows × 16 columns</p>\n",
       "</div>"
      ],
      "text/plain": [
       "      Rented Bike Count  Hour  Temperature(°C)  Humidity(%)  Wind speed (m/s)  \\\n",
       "0                   254     0             -5.2           37               2.2   \n",
       "1                   204     1             -5.5           38               0.8   \n",
       "2                   173     2             -6.0           39               1.0   \n",
       "3                   107     3             -6.2           40               0.9   \n",
       "4                    78     4             -6.0           36               2.3   \n",
       "...                 ...   ...              ...          ...               ...   \n",
       "8755               1003    19              4.2           34               2.6   \n",
       "8756                764    20              3.4           37               2.3   \n",
       "8757                694    21              2.6           39               0.3   \n",
       "8758                712    22              2.1           41               1.0   \n",
       "8759                584    23              1.9           43               1.3   \n",
       "\n",
       "      Visibility (10m)  Dew point temperature(°C)  Solar Radiation (MJ/m2)  \\\n",
       "0                 2000                      -17.6                      0.0   \n",
       "1                 2000                      -17.6                      0.0   \n",
       "2                 2000                      -17.7                      0.0   \n",
       "3                 2000                      -17.6                      0.0   \n",
       "4                 2000                      -18.6                      0.0   \n",
       "...                ...                        ...                      ...   \n",
       "8755              1894                      -10.3                      0.0   \n",
       "8756              2000                       -9.9                      0.0   \n",
       "8757              1968                       -9.9                      0.0   \n",
       "8758              1859                       -9.8                      0.0   \n",
       "8759              1909                       -9.3                      0.0   \n",
       "\n",
       "      Rainfall(mm)  Snowfall (cm)  Seasons  Holiday  Functioning Day  Day  \\\n",
       "0              0.0            0.0        3        1                1   12   \n",
       "1              0.0            0.0        3        1                1   12   \n",
       "2              0.0            0.0        3        1                1   12   \n",
       "3              0.0            0.0        3        1                1   12   \n",
       "4              0.0            0.0        3        1                1   12   \n",
       "...            ...            ...      ...      ...              ...  ...   \n",
       "8755           0.0            0.0        0        1                1   30   \n",
       "8756           0.0            0.0        0        1                1   30   \n",
       "8757           0.0            0.0        0        1                1   30   \n",
       "8758           0.0            0.0        0        1                1   30   \n",
       "8759           0.0            0.0        0        1                1   30   \n",
       "\n",
       "      Month  Year  \n",
       "0         1  2017  \n",
       "1         1  2017  \n",
       "2         1  2017  \n",
       "3         1  2017  \n",
       "4         1  2017  \n",
       "...     ...   ...  \n",
       "8755     11  2018  \n",
       "8756     11  2018  \n",
       "8757     11  2018  \n",
       "8758     11  2018  \n",
       "8759     11  2018  \n",
       "\n",
       "[7641 rows x 16 columns]"
      ]
     },
     "execution_count": 19,
     "metadata": {},
     "output_type": "execute_result"
    }
   ],
   "source": [
    "df2=final_data.drop(\"Date\",axis=1)\n",
    "df2"
   ]
  },
  {
   "cell_type": "code",
   "execution_count": 20,
   "id": "39f013ad-6f1f-4d1a-b945-7a981c88c070",
   "metadata": {},
   "outputs": [
    {
     "data": {
      "text/html": [
       "<div>\n",
       "<style scoped>\n",
       "    .dataframe tbody tr th:only-of-type {\n",
       "        vertical-align: middle;\n",
       "    }\n",
       "\n",
       "    .dataframe tbody tr th {\n",
       "        vertical-align: top;\n",
       "    }\n",
       "\n",
       "    .dataframe thead th {\n",
       "        text-align: right;\n",
       "    }\n",
       "</style>\n",
       "<table border=\"1\" class=\"dataframe\">\n",
       "  <thead>\n",
       "    <tr style=\"text-align: right;\">\n",
       "      <th></th>\n",
       "      <th>Hour</th>\n",
       "      <th>Temperature(°C)</th>\n",
       "      <th>Functioning Day</th>\n",
       "      <th>Solar Radiation (MJ/m2)</th>\n",
       "      <th>Humidity(%)</th>\n",
       "      <th>Seasons</th>\n",
       "    </tr>\n",
       "  </thead>\n",
       "  <tbody>\n",
       "    <tr>\n",
       "      <th>0</th>\n",
       "      <td>0</td>\n",
       "      <td>-5.2</td>\n",
       "      <td>1</td>\n",
       "      <td>0.0</td>\n",
       "      <td>37</td>\n",
       "      <td>3</td>\n",
       "    </tr>\n",
       "    <tr>\n",
       "      <th>1</th>\n",
       "      <td>1</td>\n",
       "      <td>-5.5</td>\n",
       "      <td>1</td>\n",
       "      <td>0.0</td>\n",
       "      <td>38</td>\n",
       "      <td>3</td>\n",
       "    </tr>\n",
       "    <tr>\n",
       "      <th>2</th>\n",
       "      <td>2</td>\n",
       "      <td>-6.0</td>\n",
       "      <td>1</td>\n",
       "      <td>0.0</td>\n",
       "      <td>39</td>\n",
       "      <td>3</td>\n",
       "    </tr>\n",
       "    <tr>\n",
       "      <th>3</th>\n",
       "      <td>3</td>\n",
       "      <td>-6.2</td>\n",
       "      <td>1</td>\n",
       "      <td>0.0</td>\n",
       "      <td>40</td>\n",
       "      <td>3</td>\n",
       "    </tr>\n",
       "    <tr>\n",
       "      <th>4</th>\n",
       "      <td>4</td>\n",
       "      <td>-6.0</td>\n",
       "      <td>1</td>\n",
       "      <td>0.0</td>\n",
       "      <td>36</td>\n",
       "      <td>3</td>\n",
       "    </tr>\n",
       "    <tr>\n",
       "      <th>...</th>\n",
       "      <td>...</td>\n",
       "      <td>...</td>\n",
       "      <td>...</td>\n",
       "      <td>...</td>\n",
       "      <td>...</td>\n",
       "      <td>...</td>\n",
       "    </tr>\n",
       "    <tr>\n",
       "      <th>8755</th>\n",
       "      <td>19</td>\n",
       "      <td>4.2</td>\n",
       "      <td>1</td>\n",
       "      <td>0.0</td>\n",
       "      <td>34</td>\n",
       "      <td>0</td>\n",
       "    </tr>\n",
       "    <tr>\n",
       "      <th>8756</th>\n",
       "      <td>20</td>\n",
       "      <td>3.4</td>\n",
       "      <td>1</td>\n",
       "      <td>0.0</td>\n",
       "      <td>37</td>\n",
       "      <td>0</td>\n",
       "    </tr>\n",
       "    <tr>\n",
       "      <th>8757</th>\n",
       "      <td>21</td>\n",
       "      <td>2.6</td>\n",
       "      <td>1</td>\n",
       "      <td>0.0</td>\n",
       "      <td>39</td>\n",
       "      <td>0</td>\n",
       "    </tr>\n",
       "    <tr>\n",
       "      <th>8758</th>\n",
       "      <td>22</td>\n",
       "      <td>2.1</td>\n",
       "      <td>1</td>\n",
       "      <td>0.0</td>\n",
       "      <td>41</td>\n",
       "      <td>0</td>\n",
       "    </tr>\n",
       "    <tr>\n",
       "      <th>8759</th>\n",
       "      <td>23</td>\n",
       "      <td>1.9</td>\n",
       "      <td>1</td>\n",
       "      <td>0.0</td>\n",
       "      <td>43</td>\n",
       "      <td>0</td>\n",
       "    </tr>\n",
       "  </tbody>\n",
       "</table>\n",
       "<p>7641 rows × 6 columns</p>\n",
       "</div>"
      ],
      "text/plain": [
       "      Hour  Temperature(°C)  Functioning Day  Solar Radiation (MJ/m2)  \\\n",
       "0        0             -5.2                1                      0.0   \n",
       "1        1             -5.5                1                      0.0   \n",
       "2        2             -6.0                1                      0.0   \n",
       "3        3             -6.2                1                      0.0   \n",
       "4        4             -6.0                1                      0.0   \n",
       "...    ...              ...              ...                      ...   \n",
       "8755    19              4.2                1                      0.0   \n",
       "8756    20              3.4                1                      0.0   \n",
       "8757    21              2.6                1                      0.0   \n",
       "8758    22              2.1                1                      0.0   \n",
       "8759    23              1.9                1                      0.0   \n",
       "\n",
       "      Humidity(%)  Seasons  \n",
       "0              37        3  \n",
       "1              38        3  \n",
       "2              39        3  \n",
       "3              40        3  \n",
       "4              36        3  \n",
       "...           ...      ...  \n",
       "8755           34        0  \n",
       "8756           37        0  \n",
       "8757           39        0  \n",
       "8758           41        0  \n",
       "8759           43        0  \n",
       "\n",
       "[7641 rows x 6 columns]"
      ]
     },
     "execution_count": 20,
     "metadata": {},
     "output_type": "execute_result"
    }
   ],
   "source": [
    "x=df2[[\"Hour\",\"Temperature(°C)\",\"Functioning Day\",\"Solar Radiation (MJ/m2)\",\"Humidity(%)\",\"Seasons\"]]\n",
    "x"
   ]
  },
  {
   "cell_type": "code",
   "execution_count": 21,
   "id": "7abbcb03-c163-4fe9-b32e-07731a21e367",
   "metadata": {},
   "outputs": [
    {
     "data": {
      "text/plain": [
       "0        254\n",
       "1        204\n",
       "2        173\n",
       "3        107\n",
       "4         78\n",
       "        ... \n",
       "8755    1003\n",
       "8756     764\n",
       "8757     694\n",
       "8758     712\n",
       "8759     584\n",
       "Name: Rented Bike Count, Length: 7641, dtype: int64"
      ]
     },
     "execution_count": 21,
     "metadata": {},
     "output_type": "execute_result"
    }
   ],
   "source": [
    "y=df2[\"Rented Bike Count\"]\n",
    "y"
   ]
  },
  {
   "cell_type": "code",
   "execution_count": 22,
   "id": "58988ec5-7966-4649-a817-6669c5b86fae",
   "metadata": {},
   "outputs": [],
   "source": [
    "import pandas as pd \n",
    "from sklearn.model_selection import train_test_split"
   ]
  },
  {
   "cell_type": "code",
   "execution_count": 23,
   "id": "ae9ba6ad-b5bc-4b21-9dff-94fbe341042f",
   "metadata": {},
   "outputs": [
    {
     "data": {
      "text/plain": [
       "(6112, 6)"
      ]
     },
     "execution_count": 23,
     "metadata": {},
     "output_type": "execute_result"
    }
   ],
   "source": [
    "x_train,x_test,y_train,y_test=train_test_split(x,y,test_size=0.2,random_state=42)\n",
    "x_train.shape   "
   ]
  },
  {
   "cell_type": "code",
   "execution_count": 24,
   "id": "6048c9b5-4ceb-49e0-9275-4167ea40770f",
   "metadata": {},
   "outputs": [
    {
     "data": {
      "text/plain": [
       "(6112, 6)"
      ]
     },
     "execution_count": 24,
     "metadata": {},
     "output_type": "execute_result"
    }
   ],
   "source": [
    "x_train.shape"
   ]
  },
  {
   "cell_type": "code",
   "execution_count": 25,
   "id": "3aa005ff-0c83-4d09-998a-ddbc29c4fe0d",
   "metadata": {},
   "outputs": [
    {
     "data": {
      "text/plain": [
       "(1529, 6)"
      ]
     },
     "execution_count": 25,
     "metadata": {},
     "output_type": "execute_result"
    }
   ],
   "source": [
    "x_test.shape"
   ]
  },
  {
   "cell_type": "code",
   "execution_count": 26,
   "id": "67555a03-3877-435c-9d4f-f0c5e6b188c8",
   "metadata": {},
   "outputs": [
    {
     "data": {
      "text/plain": [
       "(6112,)"
      ]
     },
     "execution_count": 26,
     "metadata": {},
     "output_type": "execute_result"
    }
   ],
   "source": [
    "y_train.shape"
   ]
  },
  {
   "cell_type": "code",
   "execution_count": 27,
   "id": "1c1127a4-3cbe-432e-9e75-debd29a0c3a1",
   "metadata": {},
   "outputs": [
    {
     "data": {
      "text/plain": [
       "(1529,)"
      ]
     },
     "execution_count": 27,
     "metadata": {},
     "output_type": "execute_result"
    }
   ],
   "source": [
    "y_test.shape"
   ]
  },
  {
   "cell_type": "code",
   "execution_count": null,
   "id": "d0c80d32-7389-4d61-8fa8-7f761e751565",
   "metadata": {},
   "outputs": [],
   "source": [
    "1) Linear Regression"
   ]
  },
  {
   "cell_type": "code",
   "execution_count": 28,
   "id": "223eb7b3-0e32-412b-8527-6d1799b9e023",
   "metadata": {},
   "outputs": [],
   "source": [
    "from sklearn.linear_model import LinearRegression\n",
    "from sklearn.metrics import mean_squared_error,r2_score"
   ]
  },
  {
   "cell_type": "code",
   "execution_count": 29,
   "id": "8fd17b0c-8842-4653-8165-09d57afde998",
   "metadata": {},
   "outputs": [],
   "source": [
    "model=LinearRegression()"
   ]
  },
  {
   "cell_type": "code",
   "execution_count": 30,
   "id": "8517e89b-fcf6-47c3-8e9e-ebc0e91ecc8b",
   "metadata": {},
   "outputs": [
    {
     "data": {
      "text/html": [
       "<style>#sk-container-id-1 {color: black;background-color: white;}#sk-container-id-1 pre{padding: 0;}#sk-container-id-1 div.sk-toggleable {background-color: white;}#sk-container-id-1 label.sk-toggleable__label {cursor: pointer;display: block;width: 100%;margin-bottom: 0;padding: 0.3em;box-sizing: border-box;text-align: center;}#sk-container-id-1 label.sk-toggleable__label-arrow:before {content: \"▸\";float: left;margin-right: 0.25em;color: #696969;}#sk-container-id-1 label.sk-toggleable__label-arrow:hover:before {color: black;}#sk-container-id-1 div.sk-estimator:hover label.sk-toggleable__label-arrow:before {color: black;}#sk-container-id-1 div.sk-toggleable__content {max-height: 0;max-width: 0;overflow: hidden;text-align: left;background-color: #f0f8ff;}#sk-container-id-1 div.sk-toggleable__content pre {margin: 0.2em;color: black;border-radius: 0.25em;background-color: #f0f8ff;}#sk-container-id-1 input.sk-toggleable__control:checked~div.sk-toggleable__content {max-height: 200px;max-width: 100%;overflow: auto;}#sk-container-id-1 input.sk-toggleable__control:checked~label.sk-toggleable__label-arrow:before {content: \"▾\";}#sk-container-id-1 div.sk-estimator input.sk-toggleable__control:checked~label.sk-toggleable__label {background-color: #d4ebff;}#sk-container-id-1 div.sk-label input.sk-toggleable__control:checked~label.sk-toggleable__label {background-color: #d4ebff;}#sk-container-id-1 input.sk-hidden--visually {border: 0;clip: rect(1px 1px 1px 1px);clip: rect(1px, 1px, 1px, 1px);height: 1px;margin: -1px;overflow: hidden;padding: 0;position: absolute;width: 1px;}#sk-container-id-1 div.sk-estimator {font-family: monospace;background-color: #f0f8ff;border: 1px dotted black;border-radius: 0.25em;box-sizing: border-box;margin-bottom: 0.5em;}#sk-container-id-1 div.sk-estimator:hover {background-color: #d4ebff;}#sk-container-id-1 div.sk-parallel-item::after {content: \"\";width: 100%;border-bottom: 1px solid gray;flex-grow: 1;}#sk-container-id-1 div.sk-label:hover label.sk-toggleable__label {background-color: #d4ebff;}#sk-container-id-1 div.sk-serial::before {content: \"\";position: absolute;border-left: 1px solid gray;box-sizing: border-box;top: 0;bottom: 0;left: 50%;z-index: 0;}#sk-container-id-1 div.sk-serial {display: flex;flex-direction: column;align-items: center;background-color: white;padding-right: 0.2em;padding-left: 0.2em;position: relative;}#sk-container-id-1 div.sk-item {position: relative;z-index: 1;}#sk-container-id-1 div.sk-parallel {display: flex;align-items: stretch;justify-content: center;background-color: white;position: relative;}#sk-container-id-1 div.sk-item::before, #sk-container-id-1 div.sk-parallel-item::before {content: \"\";position: absolute;border-left: 1px solid gray;box-sizing: border-box;top: 0;bottom: 0;left: 50%;z-index: -1;}#sk-container-id-1 div.sk-parallel-item {display: flex;flex-direction: column;z-index: 1;position: relative;background-color: white;}#sk-container-id-1 div.sk-parallel-item:first-child::after {align-self: flex-end;width: 50%;}#sk-container-id-1 div.sk-parallel-item:last-child::after {align-self: flex-start;width: 50%;}#sk-container-id-1 div.sk-parallel-item:only-child::after {width: 0;}#sk-container-id-1 div.sk-dashed-wrapped {border: 1px dashed gray;margin: 0 0.4em 0.5em 0.4em;box-sizing: border-box;padding-bottom: 0.4em;background-color: white;}#sk-container-id-1 div.sk-label label {font-family: monospace;font-weight: bold;display: inline-block;line-height: 1.2em;}#sk-container-id-1 div.sk-label-container {text-align: center;}#sk-container-id-1 div.sk-container {/* jupyter's `normalize.less` sets `[hidden] { display: none; }` but bootstrap.min.css set `[hidden] { display: none !important; }` so we also need the `!important` here to be able to override the default hidden behavior on the sphinx rendered scikit-learn.org. See: https://github.com/scikit-learn/scikit-learn/issues/21755 */display: inline-block !important;position: relative;}#sk-container-id-1 div.sk-text-repr-fallback {display: none;}</style><div id=\"sk-container-id-1\" class=\"sk-top-container\"><div class=\"sk-text-repr-fallback\"><pre>LinearRegression()</pre><b>In a Jupyter environment, please rerun this cell to show the HTML representation or trust the notebook. <br />On GitHub, the HTML representation is unable to render, please try loading this page with nbviewer.org.</b></div><div class=\"sk-container\" hidden><div class=\"sk-item\"><div class=\"sk-estimator sk-toggleable\"><input class=\"sk-toggleable__control sk-hidden--visually\" id=\"sk-estimator-id-1\" type=\"checkbox\" checked><label for=\"sk-estimator-id-1\" class=\"sk-toggleable__label sk-toggleable__label-arrow\">LinearRegression</label><div class=\"sk-toggleable__content\"><pre>LinearRegression()</pre></div></div></div></div></div>"
      ],
      "text/plain": [
       "LinearRegression()"
      ]
     },
     "execution_count": 30,
     "metadata": {},
     "output_type": "execute_result"
    }
   ],
   "source": [
    "model.fit(x_train,y_train)"
   ]
  },
  {
   "cell_type": "code",
   "execution_count": 31,
   "id": "c2354962-ab9e-4978-a9bb-08cc20443a14",
   "metadata": {},
   "outputs": [
    {
     "data": {
      "text/plain": [
       "array([ 423.44645269,  442.57552714,  389.27077035, ...,  626.29550141,\n",
       "         77.10082937, 1154.88058027])"
      ]
     },
     "execution_count": 31,
     "metadata": {},
     "output_type": "execute_result"
    }
   ],
   "source": [
    "y_pred_linear=model.predict(x_test)\n",
    "y_pred_linear"
   ]
  },
  {
   "cell_type": "code",
   "execution_count": 32,
   "id": "7e3a33ec-0b87-4707-aa15-dd48cbccad63",
   "metadata": {},
   "outputs": [
    {
     "data": {
      "text/plain": [
       "153630.60379829397"
      ]
     },
     "execution_count": 32,
     "metadata": {},
     "output_type": "execute_result"
    }
   ],
   "source": [
    "mse_linear=mean_squared_error(y_test,y_pred_linear)\n",
    "mse_linear"
   ]
  },
  {
   "cell_type": "code",
   "execution_count": 33,
   "id": "27ae2a77-22ab-4294-8d50-e7f34b3e6170",
   "metadata": {},
   "outputs": [
    {
     "data": {
      "text/plain": [
       "391.95740048925467"
      ]
     },
     "execution_count": 33,
     "metadata": {},
     "output_type": "execute_result"
    }
   ],
   "source": [
    "import numpy as np\n",
    "rmse_linear=np.sqrt(mse_linear)\n",
    "rmse_linear"
   ]
  },
  {
   "cell_type": "code",
   "execution_count": 34,
   "id": "51a4c50f-79c0-4a8b-ad79-a20260220fc6",
   "metadata": {},
   "outputs": [
    {
     "data": {
      "text/plain": [
       "0.5719554071620723"
      ]
     },
     "execution_count": 34,
     "metadata": {},
     "output_type": "execute_result"
    }
   ],
   "source": [
    "r2_linear=r2_score(y_test,y_pred_linear)\n",
    "r2_linear"
   ]
  },
  {
   "cell_type": "code",
   "execution_count": 35,
   "id": "ca89f654-6d5e-4717-96e5-ad4dc5f03128",
   "metadata": {},
   "outputs": [],
   "source": [
    "var_sel_rmse={}"
   ]
  },
  {
   "cell_type": "code",
   "execution_count": 36,
   "id": "894371c0-ac2a-4ccc-8f71-b76523a983ba",
   "metadata": {},
   "outputs": [],
   "source": [
    "var_sel_Rsq={}"
   ]
  },
  {
   "cell_type": "code",
   "execution_count": 37,
   "id": "73bbca1c-0a30-4267-8c1f-161ae943b6b8",
   "metadata": {},
   "outputs": [
    {
     "data": {
      "text/plain": [
       "{'LR': 391.95740048925467}"
      ]
     },
     "execution_count": 37,
     "metadata": {},
     "output_type": "execute_result"
    }
   ],
   "source": [
    "var_sel_rmse[\"LR\"]=rmse_linear\n",
    "var_sel_rmse"
   ]
  },
  {
   "cell_type": "code",
   "execution_count": 38,
   "id": "22240a24-84b6-4b37-b170-bd128c3a0d27",
   "metadata": {},
   "outputs": [
    {
     "data": {
      "text/plain": [
       "{'LR': 0.5719554071620723}"
      ]
     },
     "execution_count": 38,
     "metadata": {},
     "output_type": "execute_result"
    }
   ],
   "source": [
    "var_sel_Rsq[\"LR\"]=r2_linear\n",
    "var_sel_Rsq"
   ]
  },
  {
   "cell_type": "markdown",
   "id": "3d773c8e-1937-42b3-b358-fc362afd8688",
   "metadata": {},
   "source": [
    "2) Ridge regression"
   ]
  },
  {
   "cell_type": "code",
   "execution_count": 39,
   "id": "4f77cd42-0259-41d7-8a2a-e4fa8cedab54",
   "metadata": {},
   "outputs": [
    {
     "data": {
      "text/html": [
       "<style>#sk-container-id-2 {color: black;background-color: white;}#sk-container-id-2 pre{padding: 0;}#sk-container-id-2 div.sk-toggleable {background-color: white;}#sk-container-id-2 label.sk-toggleable__label {cursor: pointer;display: block;width: 100%;margin-bottom: 0;padding: 0.3em;box-sizing: border-box;text-align: center;}#sk-container-id-2 label.sk-toggleable__label-arrow:before {content: \"▸\";float: left;margin-right: 0.25em;color: #696969;}#sk-container-id-2 label.sk-toggleable__label-arrow:hover:before {color: black;}#sk-container-id-2 div.sk-estimator:hover label.sk-toggleable__label-arrow:before {color: black;}#sk-container-id-2 div.sk-toggleable__content {max-height: 0;max-width: 0;overflow: hidden;text-align: left;background-color: #f0f8ff;}#sk-container-id-2 div.sk-toggleable__content pre {margin: 0.2em;color: black;border-radius: 0.25em;background-color: #f0f8ff;}#sk-container-id-2 input.sk-toggleable__control:checked~div.sk-toggleable__content {max-height: 200px;max-width: 100%;overflow: auto;}#sk-container-id-2 input.sk-toggleable__control:checked~label.sk-toggleable__label-arrow:before {content: \"▾\";}#sk-container-id-2 div.sk-estimator input.sk-toggleable__control:checked~label.sk-toggleable__label {background-color: #d4ebff;}#sk-container-id-2 div.sk-label input.sk-toggleable__control:checked~label.sk-toggleable__label {background-color: #d4ebff;}#sk-container-id-2 input.sk-hidden--visually {border: 0;clip: rect(1px 1px 1px 1px);clip: rect(1px, 1px, 1px, 1px);height: 1px;margin: -1px;overflow: hidden;padding: 0;position: absolute;width: 1px;}#sk-container-id-2 div.sk-estimator {font-family: monospace;background-color: #f0f8ff;border: 1px dotted black;border-radius: 0.25em;box-sizing: border-box;margin-bottom: 0.5em;}#sk-container-id-2 div.sk-estimator:hover {background-color: #d4ebff;}#sk-container-id-2 div.sk-parallel-item::after {content: \"\";width: 100%;border-bottom: 1px solid gray;flex-grow: 1;}#sk-container-id-2 div.sk-label:hover label.sk-toggleable__label {background-color: #d4ebff;}#sk-container-id-2 div.sk-serial::before {content: \"\";position: absolute;border-left: 1px solid gray;box-sizing: border-box;top: 0;bottom: 0;left: 50%;z-index: 0;}#sk-container-id-2 div.sk-serial {display: flex;flex-direction: column;align-items: center;background-color: white;padding-right: 0.2em;padding-left: 0.2em;position: relative;}#sk-container-id-2 div.sk-item {position: relative;z-index: 1;}#sk-container-id-2 div.sk-parallel {display: flex;align-items: stretch;justify-content: center;background-color: white;position: relative;}#sk-container-id-2 div.sk-item::before, #sk-container-id-2 div.sk-parallel-item::before {content: \"\";position: absolute;border-left: 1px solid gray;box-sizing: border-box;top: 0;bottom: 0;left: 50%;z-index: -1;}#sk-container-id-2 div.sk-parallel-item {display: flex;flex-direction: column;z-index: 1;position: relative;background-color: white;}#sk-container-id-2 div.sk-parallel-item:first-child::after {align-self: flex-end;width: 50%;}#sk-container-id-2 div.sk-parallel-item:last-child::after {align-self: flex-start;width: 50%;}#sk-container-id-2 div.sk-parallel-item:only-child::after {width: 0;}#sk-container-id-2 div.sk-dashed-wrapped {border: 1px dashed gray;margin: 0 0.4em 0.5em 0.4em;box-sizing: border-box;padding-bottom: 0.4em;background-color: white;}#sk-container-id-2 div.sk-label label {font-family: monospace;font-weight: bold;display: inline-block;line-height: 1.2em;}#sk-container-id-2 div.sk-label-container {text-align: center;}#sk-container-id-2 div.sk-container {/* jupyter's `normalize.less` sets `[hidden] { display: none; }` but bootstrap.min.css set `[hidden] { display: none !important; }` so we also need the `!important` here to be able to override the default hidden behavior on the sphinx rendered scikit-learn.org. See: https://github.com/scikit-learn/scikit-learn/issues/21755 */display: inline-block !important;position: relative;}#sk-container-id-2 div.sk-text-repr-fallback {display: none;}</style><div id=\"sk-container-id-2\" class=\"sk-top-container\"><div class=\"sk-text-repr-fallback\"><pre>Ridge()</pre><b>In a Jupyter environment, please rerun this cell to show the HTML representation or trust the notebook. <br />On GitHub, the HTML representation is unable to render, please try loading this page with nbviewer.org.</b></div><div class=\"sk-container\" hidden><div class=\"sk-item\"><div class=\"sk-estimator sk-toggleable\"><input class=\"sk-toggleable__control sk-hidden--visually\" id=\"sk-estimator-id-2\" type=\"checkbox\" checked><label for=\"sk-estimator-id-2\" class=\"sk-toggleable__label sk-toggleable__label-arrow\">Ridge</label><div class=\"sk-toggleable__content\"><pre>Ridge()</pre></div></div></div></div></div>"
      ],
      "text/plain": [
       "Ridge()"
      ]
     },
     "execution_count": 39,
     "metadata": {},
     "output_type": "execute_result"
    }
   ],
   "source": [
    "from sklearn.metrics import mean_absolute_error, mean_squared_error, r2_score\n",
    "from sklearn.linear_model import Ridge\n",
    "ridge_model=Ridge(alpha=1.0)\n",
    "ridge_model.fit(x_train,y_train)"
   ]
  },
  {
   "cell_type": "code",
   "execution_count": 40,
   "id": "cb505a21-b88e-450c-bef4-c661963b89eb",
   "metadata": {},
   "outputs": [
    {
     "data": {
      "text/plain": [
       "array([ 423.54961466,  446.95506876,  388.99997049, ...,  626.38363093,\n",
       "         77.20709921, 1154.82437773])"
      ]
     },
     "execution_count": 40,
     "metadata": {},
     "output_type": "execute_result"
    }
   ],
   "source": [
    "y_pred_ridge = ridge_model.predict(x_test)\n",
    "y_pred_ridge"
   ]
  },
  {
   "cell_type": "code",
   "execution_count": 41,
   "id": "8bc13816-acf1-4172-973b-327734e1e864",
   "metadata": {},
   "outputs": [
    {
     "data": {
      "text/plain": [
       "391.95696591871194"
      ]
     },
     "execution_count": 41,
     "metadata": {},
     "output_type": "execute_result"
    }
   ],
   "source": [
    "mse_ridge= mean_absolute_error(y_test, y_pred_ridge)\n",
    "mse_ridge= mean_squared_error(y_test, y_pred_ridge)\n",
    "rmse_ridge=np.sqrt(mse_ridge)\n",
    "rmse_ridge"
   ]
  },
  {
   "cell_type": "code",
   "execution_count": 42,
   "id": "5a268f6d-4cd6-4375-8c4d-22daefed0f86",
   "metadata": {},
   "outputs": [
    {
     "data": {
      "text/plain": [
       "0.5719563563237294"
      ]
     },
     "execution_count": 42,
     "metadata": {},
     "output_type": "execute_result"
    }
   ],
   "source": [
    "r2_ridge = r2_score(y_test, y_pred_ridge)\n",
    "r2_ridge"
   ]
  },
  {
   "cell_type": "code",
   "execution_count": 43,
   "id": "41b048f2-0ea0-45e7-aade-294a25a69769",
   "metadata": {},
   "outputs": [
    {
     "data": {
      "text/plain": [
       "{'LR': 391.95740048925467, 'RR': 391.95696591871194}"
      ]
     },
     "execution_count": 43,
     "metadata": {},
     "output_type": "execute_result"
    }
   ],
   "source": [
    "var_sel_rmse[\"RR\"]=rmse_ridge\n",
    "var_sel_rmse"
   ]
  },
  {
   "cell_type": "code",
   "execution_count": 44,
   "id": "ed7c2e21-e04d-4845-bc6f-32f103a28dd0",
   "metadata": {},
   "outputs": [
    {
     "data": {
      "text/plain": [
       "{'LR': 0.5719554071620723, 'RR': 0.5719563563237294}"
      ]
     },
     "execution_count": 44,
     "metadata": {},
     "output_type": "execute_result"
    }
   ],
   "source": [
    "var_sel_Rsq[\"RR\"]=r2_ridge\n",
    "var_sel_Rsq"
   ]
  },
  {
   "cell_type": "markdown",
   "id": "b4af81f7-5be3-4c13-943e-138d180fc7de",
   "metadata": {},
   "source": [
    "3) Elastic Net REgression"
   ]
  },
  {
   "cell_type": "code",
   "execution_count": 45,
   "id": "88e85d24-a5b8-483f-b8bd-f8f8acf06ea2",
   "metadata": {},
   "outputs": [],
   "source": [
    "from sklearn.linear_model import ElasticNet"
   ]
  },
  {
   "cell_type": "code",
   "execution_count": 46,
   "id": "97b9a90d-fc64-428a-ad79-cd0de6614535",
   "metadata": {},
   "outputs": [
    {
     "data": {
      "text/html": [
       "<style>#sk-container-id-3 {color: black;background-color: white;}#sk-container-id-3 pre{padding: 0;}#sk-container-id-3 div.sk-toggleable {background-color: white;}#sk-container-id-3 label.sk-toggleable__label {cursor: pointer;display: block;width: 100%;margin-bottom: 0;padding: 0.3em;box-sizing: border-box;text-align: center;}#sk-container-id-3 label.sk-toggleable__label-arrow:before {content: \"▸\";float: left;margin-right: 0.25em;color: #696969;}#sk-container-id-3 label.sk-toggleable__label-arrow:hover:before {color: black;}#sk-container-id-3 div.sk-estimator:hover label.sk-toggleable__label-arrow:before {color: black;}#sk-container-id-3 div.sk-toggleable__content {max-height: 0;max-width: 0;overflow: hidden;text-align: left;background-color: #f0f8ff;}#sk-container-id-3 div.sk-toggleable__content pre {margin: 0.2em;color: black;border-radius: 0.25em;background-color: #f0f8ff;}#sk-container-id-3 input.sk-toggleable__control:checked~div.sk-toggleable__content {max-height: 200px;max-width: 100%;overflow: auto;}#sk-container-id-3 input.sk-toggleable__control:checked~label.sk-toggleable__label-arrow:before {content: \"▾\";}#sk-container-id-3 div.sk-estimator input.sk-toggleable__control:checked~label.sk-toggleable__label {background-color: #d4ebff;}#sk-container-id-3 div.sk-label input.sk-toggleable__control:checked~label.sk-toggleable__label {background-color: #d4ebff;}#sk-container-id-3 input.sk-hidden--visually {border: 0;clip: rect(1px 1px 1px 1px);clip: rect(1px, 1px, 1px, 1px);height: 1px;margin: -1px;overflow: hidden;padding: 0;position: absolute;width: 1px;}#sk-container-id-3 div.sk-estimator {font-family: monospace;background-color: #f0f8ff;border: 1px dotted black;border-radius: 0.25em;box-sizing: border-box;margin-bottom: 0.5em;}#sk-container-id-3 div.sk-estimator:hover {background-color: #d4ebff;}#sk-container-id-3 div.sk-parallel-item::after {content: \"\";width: 100%;border-bottom: 1px solid gray;flex-grow: 1;}#sk-container-id-3 div.sk-label:hover label.sk-toggleable__label {background-color: #d4ebff;}#sk-container-id-3 div.sk-serial::before {content: \"\";position: absolute;border-left: 1px solid gray;box-sizing: border-box;top: 0;bottom: 0;left: 50%;z-index: 0;}#sk-container-id-3 div.sk-serial {display: flex;flex-direction: column;align-items: center;background-color: white;padding-right: 0.2em;padding-left: 0.2em;position: relative;}#sk-container-id-3 div.sk-item {position: relative;z-index: 1;}#sk-container-id-3 div.sk-parallel {display: flex;align-items: stretch;justify-content: center;background-color: white;position: relative;}#sk-container-id-3 div.sk-item::before, #sk-container-id-3 div.sk-parallel-item::before {content: \"\";position: absolute;border-left: 1px solid gray;box-sizing: border-box;top: 0;bottom: 0;left: 50%;z-index: -1;}#sk-container-id-3 div.sk-parallel-item {display: flex;flex-direction: column;z-index: 1;position: relative;background-color: white;}#sk-container-id-3 div.sk-parallel-item:first-child::after {align-self: flex-end;width: 50%;}#sk-container-id-3 div.sk-parallel-item:last-child::after {align-self: flex-start;width: 50%;}#sk-container-id-3 div.sk-parallel-item:only-child::after {width: 0;}#sk-container-id-3 div.sk-dashed-wrapped {border: 1px dashed gray;margin: 0 0.4em 0.5em 0.4em;box-sizing: border-box;padding-bottom: 0.4em;background-color: white;}#sk-container-id-3 div.sk-label label {font-family: monospace;font-weight: bold;display: inline-block;line-height: 1.2em;}#sk-container-id-3 div.sk-label-container {text-align: center;}#sk-container-id-3 div.sk-container {/* jupyter's `normalize.less` sets `[hidden] { display: none; }` but bootstrap.min.css set `[hidden] { display: none !important; }` so we also need the `!important` here to be able to override the default hidden behavior on the sphinx rendered scikit-learn.org. See: https://github.com/scikit-learn/scikit-learn/issues/21755 */display: inline-block !important;position: relative;}#sk-container-id-3 div.sk-text-repr-fallback {display: none;}</style><div id=\"sk-container-id-3\" class=\"sk-top-container\"><div class=\"sk-text-repr-fallback\"><pre>ElasticNet(random_state=42)</pre><b>In a Jupyter environment, please rerun this cell to show the HTML representation or trust the notebook. <br />On GitHub, the HTML representation is unable to render, please try loading this page with nbviewer.org.</b></div><div class=\"sk-container\" hidden><div class=\"sk-item\"><div class=\"sk-estimator sk-toggleable\"><input class=\"sk-toggleable__control sk-hidden--visually\" id=\"sk-estimator-id-3\" type=\"checkbox\" checked><label for=\"sk-estimator-id-3\" class=\"sk-toggleable__label sk-toggleable__label-arrow\">ElasticNet</label><div class=\"sk-toggleable__content\"><pre>ElasticNet(random_state=42)</pre></div></div></div></div></div>"
      ],
      "text/plain": [
       "ElasticNet(random_state=42)"
      ]
     },
     "execution_count": 46,
     "metadata": {},
     "output_type": "execute_result"
    }
   ],
   "source": [
    "elastic_net=ElasticNet(alpha=1.0,l1_ratio=0.5,random_state=42)\n",
    "elastic_net.fit(x_train,y_train)"
   ]
  },
  {
   "cell_type": "code",
   "execution_count": 47,
   "id": "3c566682-79ca-4964-bcf6-3d64702dd838",
   "metadata": {},
   "outputs": [
    {
     "data": {
      "text/plain": [
       "array([ 462.84673282, 1207.52471084,  325.85190387, ...,  659.22170682,\n",
       "        113.12074662, 1149.08973353])"
      ]
     },
     "execution_count": 47,
     "metadata": {},
     "output_type": "execute_result"
    }
   ],
   "source": [
    "y_pred_net=elastic_net.predict(x_test)\n",
    "y_pred_net"
   ]
  },
  {
   "cell_type": "code",
   "execution_count": 48,
   "id": "f0fa7cf1-c809-4ad6-83d7-69e1c124e46a",
   "metadata": {},
   "outputs": [
    {
     "data": {
      "text/plain": [
       "179133.79133294348"
      ]
     },
     "execution_count": 48,
     "metadata": {},
     "output_type": "execute_result"
    }
   ],
   "source": [
    "mse=mean_squared_error(y_test,y_pred_net)\n",
    "mse"
   ]
  },
  {
   "cell_type": "code",
   "execution_count": 49,
   "id": "668b37c9-16b0-4008-b7b3-03b39af350e6",
   "metadata": {},
   "outputs": [
    {
     "data": {
      "text/plain": [
       "423.24200090839696"
      ]
     },
     "execution_count": 49,
     "metadata": {},
     "output_type": "execute_result"
    }
   ],
   "source": [
    "rmse_net=np.sqrt(mse)\n",
    "rmse_net"
   ]
  },
  {
   "cell_type": "code",
   "execution_count": 50,
   "id": "b8e063d3-6658-4381-8091-71f001465cbb",
   "metadata": {},
   "outputs": [
    {
     "data": {
      "text/plain": [
       "0.5008985913034889"
      ]
     },
     "execution_count": 50,
     "metadata": {},
     "output_type": "execute_result"
    }
   ],
   "source": [
    "r2_net=r2_score(y_test,y_pred_net)\n",
    "r2_net"
   ]
  },
  {
   "cell_type": "code",
   "execution_count": 51,
   "id": "3cf3b685-672d-4a9d-bd98-6c6e1db91b30",
   "metadata": {},
   "outputs": [
    {
     "data": {
      "text/plain": [
       "{'LR': 391.95740048925467, 'RR': 391.95696591871194, 'EN': 423.24200090839696}"
      ]
     },
     "execution_count": 51,
     "metadata": {},
     "output_type": "execute_result"
    }
   ],
   "source": [
    "var_sel_rmse[\"EN\"]=rmse_net\n",
    "var_sel_rmse"
   ]
  },
  {
   "cell_type": "code",
   "execution_count": 52,
   "id": "767914ff-dd2f-4d74-9385-a6ee13f95fa1",
   "metadata": {},
   "outputs": [
    {
     "data": {
      "text/plain": [
       "{'LR': 0.5719554071620723, 'RR': 0.5719563563237294, 'EN': 0.5008985913034889}"
      ]
     },
     "execution_count": 52,
     "metadata": {},
     "output_type": "execute_result"
    }
   ],
   "source": [
    "var_sel_Rsq[\"EN\"]=r2_net\n",
    "var_sel_Rsq"
   ]
  },
  {
   "cell_type": "markdown",
   "id": "3310daf5-5355-4c64-8103-5473bf196159",
   "metadata": {},
   "source": [
    "4) Decision Tree"
   ]
  },
  {
   "cell_type": "code",
   "execution_count": 53,
   "id": "e8f1bf22-185f-4441-9c10-6ce6afcbbda4",
   "metadata": {},
   "outputs": [
    {
     "data": {
      "text/plain": [
       "array([ 357.,    0.,   75., ...,  300.,  135., 2175.])"
      ]
     },
     "execution_count": 53,
     "metadata": {},
     "output_type": "execute_result"
    }
   ],
   "source": [
    "import pandas as pd\n",
    "from sklearn.tree import DecisionTreeRegressor\n",
    "clf=DecisionTreeRegressor(random_state=42)\n",
    "clf.fit(x_train,y_train)\n",
    "clf_pred=clf.predict(x_test)\n",
    "clf_pred"
   ]
  },
  {
   "cell_type": "code",
   "execution_count": 54,
   "id": "9c5dfb86-266b-49ed-aa0d-6c37accd7dd6",
   "metadata": {},
   "outputs": [
    {
     "data": {
      "text/plain": [
       "109574.81294964028"
      ]
     },
     "execution_count": 54,
     "metadata": {},
     "output_type": "execute_result"
    }
   ],
   "source": [
    "from sklearn.metrics import r2_score,mean_squared_error\n",
    "mse=mean_squared_error(y_test,clf_pred)\n",
    "mse"
   ]
  },
  {
   "cell_type": "code",
   "execution_count": 55,
   "id": "c3c37f32-765d-42b7-b10b-1390a05a6719",
   "metadata": {},
   "outputs": [
    {
     "data": {
      "text/plain": [
       "331.0208648252256"
      ]
     },
     "execution_count": 55,
     "metadata": {},
     "output_type": "execute_result"
    }
   ],
   "source": [
    "import numpy as np\n",
    "rmse=np.sqrt(mse)\n",
    "rmse"
   ]
  },
  {
   "cell_type": "code",
   "execution_count": 56,
   "id": "a72b7a1b-e769-4ffc-80aa-4805a9301831",
   "metadata": {},
   "outputs": [
    {
     "data": {
      "text/plain": [
       "0.6947033661606834"
      ]
     },
     "execution_count": 56,
     "metadata": {},
     "output_type": "execute_result"
    }
   ],
   "source": [
    "r_sq=r2_score(y_test,clf_pred)\n",
    "r_sq"
   ]
  },
  {
   "cell_type": "code",
   "execution_count": 57,
   "id": "d3f8c3d3-372d-42a2-817d-cb970c6bdf84",
   "metadata": {},
   "outputs": [
    {
     "data": {
      "text/plain": [
       "{'LR': 391.95740048925467,\n",
       " 'RR': 391.95696591871194,\n",
       " 'EN': 423.24200090839696,\n",
       " 'DT': 331.0208648252256}"
      ]
     },
     "execution_count": 57,
     "metadata": {},
     "output_type": "execute_result"
    }
   ],
   "source": [
    "var_sel_rmse[\"DT\"]=rmse\n",
    "var_sel_rmse"
   ]
  },
  {
   "cell_type": "code",
   "execution_count": 59,
   "id": "02cd7cfe-72fa-424f-a960-34b934129bbc",
   "metadata": {},
   "outputs": [
    {
     "data": {
      "text/plain": [
       "{'LR': 0.5719554071620723,\n",
       " 'RR': 0.5719563563237294,\n",
       " 'EN': 0.5008985913034889,\n",
       " 'DT': 0.6947033661606834}"
      ]
     },
     "execution_count": 59,
     "metadata": {},
     "output_type": "execute_result"
    }
   ],
   "source": [
    "var_sel_Rsq[\"DT\"]=r_sq\n",
    "var_sel_Rsq"
   ]
  },
  {
   "cell_type": "markdown",
   "id": "d74265c4-82e3-43da-9466-3e895d806b0d",
   "metadata": {},
   "source": [
    "5) Random forest"
   ]
  },
  {
   "cell_type": "code",
   "execution_count": 60,
   "id": "8795b37e-a5aa-47ba-bde0-edf6125348b9",
   "metadata": {},
   "outputs": [
    {
     "data": {
      "text/html": [
       "<style>#sk-container-id-4 {color: black;background-color: white;}#sk-container-id-4 pre{padding: 0;}#sk-container-id-4 div.sk-toggleable {background-color: white;}#sk-container-id-4 label.sk-toggleable__label {cursor: pointer;display: block;width: 100%;margin-bottom: 0;padding: 0.3em;box-sizing: border-box;text-align: center;}#sk-container-id-4 label.sk-toggleable__label-arrow:before {content: \"▸\";float: left;margin-right: 0.25em;color: #696969;}#sk-container-id-4 label.sk-toggleable__label-arrow:hover:before {color: black;}#sk-container-id-4 div.sk-estimator:hover label.sk-toggleable__label-arrow:before {color: black;}#sk-container-id-4 div.sk-toggleable__content {max-height: 0;max-width: 0;overflow: hidden;text-align: left;background-color: #f0f8ff;}#sk-container-id-4 div.sk-toggleable__content pre {margin: 0.2em;color: black;border-radius: 0.25em;background-color: #f0f8ff;}#sk-container-id-4 input.sk-toggleable__control:checked~div.sk-toggleable__content {max-height: 200px;max-width: 100%;overflow: auto;}#sk-container-id-4 input.sk-toggleable__control:checked~label.sk-toggleable__label-arrow:before {content: \"▾\";}#sk-container-id-4 div.sk-estimator input.sk-toggleable__control:checked~label.sk-toggleable__label {background-color: #d4ebff;}#sk-container-id-4 div.sk-label input.sk-toggleable__control:checked~label.sk-toggleable__label {background-color: #d4ebff;}#sk-container-id-4 input.sk-hidden--visually {border: 0;clip: rect(1px 1px 1px 1px);clip: rect(1px, 1px, 1px, 1px);height: 1px;margin: -1px;overflow: hidden;padding: 0;position: absolute;width: 1px;}#sk-container-id-4 div.sk-estimator {font-family: monospace;background-color: #f0f8ff;border: 1px dotted black;border-radius: 0.25em;box-sizing: border-box;margin-bottom: 0.5em;}#sk-container-id-4 div.sk-estimator:hover {background-color: #d4ebff;}#sk-container-id-4 div.sk-parallel-item::after {content: \"\";width: 100%;border-bottom: 1px solid gray;flex-grow: 1;}#sk-container-id-4 div.sk-label:hover label.sk-toggleable__label {background-color: #d4ebff;}#sk-container-id-4 div.sk-serial::before {content: \"\";position: absolute;border-left: 1px solid gray;box-sizing: border-box;top: 0;bottom: 0;left: 50%;z-index: 0;}#sk-container-id-4 div.sk-serial {display: flex;flex-direction: column;align-items: center;background-color: white;padding-right: 0.2em;padding-left: 0.2em;position: relative;}#sk-container-id-4 div.sk-item {position: relative;z-index: 1;}#sk-container-id-4 div.sk-parallel {display: flex;align-items: stretch;justify-content: center;background-color: white;position: relative;}#sk-container-id-4 div.sk-item::before, #sk-container-id-4 div.sk-parallel-item::before {content: \"\";position: absolute;border-left: 1px solid gray;box-sizing: border-box;top: 0;bottom: 0;left: 50%;z-index: -1;}#sk-container-id-4 div.sk-parallel-item {display: flex;flex-direction: column;z-index: 1;position: relative;background-color: white;}#sk-container-id-4 div.sk-parallel-item:first-child::after {align-self: flex-end;width: 50%;}#sk-container-id-4 div.sk-parallel-item:last-child::after {align-self: flex-start;width: 50%;}#sk-container-id-4 div.sk-parallel-item:only-child::after {width: 0;}#sk-container-id-4 div.sk-dashed-wrapped {border: 1px dashed gray;margin: 0 0.4em 0.5em 0.4em;box-sizing: border-box;padding-bottom: 0.4em;background-color: white;}#sk-container-id-4 div.sk-label label {font-family: monospace;font-weight: bold;display: inline-block;line-height: 1.2em;}#sk-container-id-4 div.sk-label-container {text-align: center;}#sk-container-id-4 div.sk-container {/* jupyter's `normalize.less` sets `[hidden] { display: none; }` but bootstrap.min.css set `[hidden] { display: none !important; }` so we also need the `!important` here to be able to override the default hidden behavior on the sphinx rendered scikit-learn.org. See: https://github.com/scikit-learn/scikit-learn/issues/21755 */display: inline-block !important;position: relative;}#sk-container-id-4 div.sk-text-repr-fallback {display: none;}</style><div id=\"sk-container-id-4\" class=\"sk-top-container\"><div class=\"sk-text-repr-fallback\"><pre>RandomForestRegressor(random_state=42)</pre><b>In a Jupyter environment, please rerun this cell to show the HTML representation or trust the notebook. <br />On GitHub, the HTML representation is unable to render, please try loading this page with nbviewer.org.</b></div><div class=\"sk-container\" hidden><div class=\"sk-item\"><div class=\"sk-estimator sk-toggleable\"><input class=\"sk-toggleable__control sk-hidden--visually\" id=\"sk-estimator-id-4\" type=\"checkbox\" checked><label for=\"sk-estimator-id-4\" class=\"sk-toggleable__label sk-toggleable__label-arrow\">RandomForestRegressor</label><div class=\"sk-toggleable__content\"><pre>RandomForestRegressor(random_state=42)</pre></div></div></div></div></div>"
      ],
      "text/plain": [
       "RandomForestRegressor(random_state=42)"
      ]
     },
     "execution_count": 60,
     "metadata": {},
     "output_type": "execute_result"
    }
   ],
   "source": [
    "import pandas as pd\n",
    "from sklearn.ensemble import RandomForestRegressor\n",
    "from sklearn.metrics import  r2_score,mean_squared_error\n",
    "rf_model=RandomForestRegressor(n_estimators=100,random_state=42)\n",
    "rf_model.fit(x_train,y_train)"
   ]
  },
  {
   "cell_type": "code",
   "execution_count": 61,
   "id": "e9f2c9f8-b1ef-492c-b4f9-080d962dcead",
   "metadata": {},
   "outputs": [
    {
     "data": {
      "text/plain": [
       "array([ 278.91,    0.  ,   97.91, ...,  294.63,  104.88, 1918.01])"
      ]
     },
     "execution_count": 61,
     "metadata": {},
     "output_type": "execute_result"
    }
   ],
   "source": [
    "rf_y_pred=rf_model.predict(x_test)\n",
    "rf_y_pred"
   ]
  },
  {
   "cell_type": "code",
   "execution_count": 62,
   "id": "a68354c9-10ad-484e-a120-7b0039ec6305",
   "metadata": {},
   "outputs": [
    {
     "data": {
      "text/plain": [
       "56233.056738052146"
      ]
     },
     "execution_count": 62,
     "metadata": {},
     "output_type": "execute_result"
    }
   ],
   "source": [
    "rf_mse=mean_squared_error(y_test,rf_y_pred)\n",
    "rf_mse"
   ]
  },
  {
   "cell_type": "code",
   "execution_count": 63,
   "id": "0e3611c8-488f-473b-bbeb-89d82cbb7c7d",
   "metadata": {},
   "outputs": [
    {
     "data": {
      "text/plain": [
       "237.1351022899228"
      ]
     },
     "execution_count": 63,
     "metadata": {},
     "output_type": "execute_result"
    }
   ],
   "source": [
    "import numpy as np\n",
    "rf_rmse=np.sqrt(rf_mse)\n",
    "rf_rmse"
   ]
  },
  {
   "cell_type": "code",
   "execution_count": 64,
   "id": "03d1d2ee-6113-4463-afe9-18bc1bdfdd51",
   "metadata": {},
   "outputs": [
    {
     "data": {
      "text/plain": [
       "0.8433238216841603"
      ]
     },
     "execution_count": 64,
     "metadata": {},
     "output_type": "execute_result"
    }
   ],
   "source": [
    "rf_r_sq=r2_score(y_test,rf_y_pred)\n",
    "rf_r_sq"
   ]
  },
  {
   "cell_type": "code",
   "execution_count": 65,
   "id": "6939efe9-e11d-4645-8cf8-e2b53929f061",
   "metadata": {},
   "outputs": [
    {
     "data": {
      "text/plain": [
       "{'LR': 391.95740048925467,\n",
       " 'RR': 391.95696591871194,\n",
       " 'EN': 423.24200090839696,\n",
       " 'DT': 331.0208648252256,\n",
       " 'RF': 237.1351022899228}"
      ]
     },
     "execution_count": 65,
     "metadata": {},
     "output_type": "execute_result"
    }
   ],
   "source": [
    "var_sel_rmse[\"RF\"]=rf_rmse\n",
    "var_sel_rmse"
   ]
  },
  {
   "cell_type": "code",
   "execution_count": 66,
   "id": "e65765dd-ef42-4bd5-aba0-701aed08a9c9",
   "metadata": {},
   "outputs": [
    {
     "data": {
      "text/plain": [
       "{'LR': 0.5719554071620723,\n",
       " 'RR': 0.5719563563237294,\n",
       " 'EN': 0.5008985913034889,\n",
       " 'DT': 0.6947033661606834,\n",
       " 'RF': 0.8433238216841603}"
      ]
     },
     "execution_count": 66,
     "metadata": {},
     "output_type": "execute_result"
    }
   ],
   "source": [
    "var_sel_Rsq[\"RF\"]=rf_r_sq\n",
    "var_sel_Rsq"
   ]
  },
  {
   "cell_type": "markdown",
   "id": "e9341601-e148-480a-aaea-aed90a97e826",
   "metadata": {},
   "source": [
    "6) KNN"
   ]
  },
  {
   "cell_type": "code",
   "execution_count": 67,
   "id": "6b1290dd-1a94-400d-9270-ae90f9a867d2",
   "metadata": {},
   "outputs": [
    {
     "data": {
      "text/html": [
       "<style>#sk-container-id-5 {color: black;background-color: white;}#sk-container-id-5 pre{padding: 0;}#sk-container-id-5 div.sk-toggleable {background-color: white;}#sk-container-id-5 label.sk-toggleable__label {cursor: pointer;display: block;width: 100%;margin-bottom: 0;padding: 0.3em;box-sizing: border-box;text-align: center;}#sk-container-id-5 label.sk-toggleable__label-arrow:before {content: \"▸\";float: left;margin-right: 0.25em;color: #696969;}#sk-container-id-5 label.sk-toggleable__label-arrow:hover:before {color: black;}#sk-container-id-5 div.sk-estimator:hover label.sk-toggleable__label-arrow:before {color: black;}#sk-container-id-5 div.sk-toggleable__content {max-height: 0;max-width: 0;overflow: hidden;text-align: left;background-color: #f0f8ff;}#sk-container-id-5 div.sk-toggleable__content pre {margin: 0.2em;color: black;border-radius: 0.25em;background-color: #f0f8ff;}#sk-container-id-5 input.sk-toggleable__control:checked~div.sk-toggleable__content {max-height: 200px;max-width: 100%;overflow: auto;}#sk-container-id-5 input.sk-toggleable__control:checked~label.sk-toggleable__label-arrow:before {content: \"▾\";}#sk-container-id-5 div.sk-estimator input.sk-toggleable__control:checked~label.sk-toggleable__label {background-color: #d4ebff;}#sk-container-id-5 div.sk-label input.sk-toggleable__control:checked~label.sk-toggleable__label {background-color: #d4ebff;}#sk-container-id-5 input.sk-hidden--visually {border: 0;clip: rect(1px 1px 1px 1px);clip: rect(1px, 1px, 1px, 1px);height: 1px;margin: -1px;overflow: hidden;padding: 0;position: absolute;width: 1px;}#sk-container-id-5 div.sk-estimator {font-family: monospace;background-color: #f0f8ff;border: 1px dotted black;border-radius: 0.25em;box-sizing: border-box;margin-bottom: 0.5em;}#sk-container-id-5 div.sk-estimator:hover {background-color: #d4ebff;}#sk-container-id-5 div.sk-parallel-item::after {content: \"\";width: 100%;border-bottom: 1px solid gray;flex-grow: 1;}#sk-container-id-5 div.sk-label:hover label.sk-toggleable__label {background-color: #d4ebff;}#sk-container-id-5 div.sk-serial::before {content: \"\";position: absolute;border-left: 1px solid gray;box-sizing: border-box;top: 0;bottom: 0;left: 50%;z-index: 0;}#sk-container-id-5 div.sk-serial {display: flex;flex-direction: column;align-items: center;background-color: white;padding-right: 0.2em;padding-left: 0.2em;position: relative;}#sk-container-id-5 div.sk-item {position: relative;z-index: 1;}#sk-container-id-5 div.sk-parallel {display: flex;align-items: stretch;justify-content: center;background-color: white;position: relative;}#sk-container-id-5 div.sk-item::before, #sk-container-id-5 div.sk-parallel-item::before {content: \"\";position: absolute;border-left: 1px solid gray;box-sizing: border-box;top: 0;bottom: 0;left: 50%;z-index: -1;}#sk-container-id-5 div.sk-parallel-item {display: flex;flex-direction: column;z-index: 1;position: relative;background-color: white;}#sk-container-id-5 div.sk-parallel-item:first-child::after {align-self: flex-end;width: 50%;}#sk-container-id-5 div.sk-parallel-item:last-child::after {align-self: flex-start;width: 50%;}#sk-container-id-5 div.sk-parallel-item:only-child::after {width: 0;}#sk-container-id-5 div.sk-dashed-wrapped {border: 1px dashed gray;margin: 0 0.4em 0.5em 0.4em;box-sizing: border-box;padding-bottom: 0.4em;background-color: white;}#sk-container-id-5 div.sk-label label {font-family: monospace;font-weight: bold;display: inline-block;line-height: 1.2em;}#sk-container-id-5 div.sk-label-container {text-align: center;}#sk-container-id-5 div.sk-container {/* jupyter's `normalize.less` sets `[hidden] { display: none; }` but bootstrap.min.css set `[hidden] { display: none !important; }` so we also need the `!important` here to be able to override the default hidden behavior on the sphinx rendered scikit-learn.org. See: https://github.com/scikit-learn/scikit-learn/issues/21755 */display: inline-block !important;position: relative;}#sk-container-id-5 div.sk-text-repr-fallback {display: none;}</style><div id=\"sk-container-id-5\" class=\"sk-top-container\"><div class=\"sk-text-repr-fallback\"><pre>KNeighborsRegressor()</pre><b>In a Jupyter environment, please rerun this cell to show the HTML representation or trust the notebook. <br />On GitHub, the HTML representation is unable to render, please try loading this page with nbviewer.org.</b></div><div class=\"sk-container\" hidden><div class=\"sk-item\"><div class=\"sk-estimator sk-toggleable\"><input class=\"sk-toggleable__control sk-hidden--visually\" id=\"sk-estimator-id-5\" type=\"checkbox\" checked><label for=\"sk-estimator-id-5\" class=\"sk-toggleable__label sk-toggleable__label-arrow\">KNeighborsRegressor</label><div class=\"sk-toggleable__content\"><pre>KNeighborsRegressor()</pre></div></div></div></div></div>"
      ],
      "text/plain": [
       "KNeighborsRegressor()"
      ]
     },
     "execution_count": 67,
     "metadata": {},
     "output_type": "execute_result"
    }
   ],
   "source": [
    "import pandas as pd\n",
    "from sklearn.preprocessing import StandardScaler\n",
    "from sklearn.neighbors import KNeighborsRegressor\n",
    "scaler=StandardScaler()\n",
    "x_train=scaler.fit_transform(x_train)\n",
    "x_test=scaler.transform(x_test)\n",
    "knn_regressor=KNeighborsRegressor(n_neighbors=5)\n",
    "knn_regressor.fit(x_train,y_train)"
   ]
  },
  {
   "cell_type": "code",
   "execution_count": 68,
   "id": "65b583fa-b42a-4a70-b72d-6d263cb04edf",
   "metadata": {},
   "outputs": [
    {
     "data": {
      "text/plain": [
       "array([ 308. ,    0. ,  131. , ...,  323.8,  162. , 1986.4])"
      ]
     },
     "execution_count": 68,
     "metadata": {},
     "output_type": "execute_result"
    }
   ],
   "source": [
    "y_pred_knn=knn_regressor.predict(x_test)\n",
    "y_pred_knn"
   ]
  },
  {
   "cell_type": "code",
   "execution_count": 69,
   "id": "4c71ecf7-f9c5-48cb-905e-318ee5550e1e",
   "metadata": {},
   "outputs": [
    {
     "data": {
      "text/plain": [
       "73167.57213865271"
      ]
     },
     "execution_count": 69,
     "metadata": {},
     "output_type": "execute_result"
    }
   ],
   "source": [
    "mse=mean_squared_error(y_test,y_pred_knn)\n",
    "mse"
   ]
  },
  {
   "cell_type": "code",
   "execution_count": 70,
   "id": "316016a3-4fcb-46cd-a7a4-b80721975bbd",
   "metadata": {},
   "outputs": [
    {
     "data": {
      "text/plain": [
       "270.4950501185793"
      ]
     },
     "execution_count": 70,
     "metadata": {},
     "output_type": "execute_result"
    }
   ],
   "source": [
    "rmse_knn=np.sqrt(mse)\n",
    "rmse_knn"
   ]
  },
  {
   "cell_type": "code",
   "execution_count": 71,
   "id": "6c471e4b-2abd-4c6e-ad8b-7b8cf34c8f42",
   "metadata": {},
   "outputs": [
    {
     "data": {
      "text/plain": [
       "0.7961409846038952"
      ]
     },
     "execution_count": 71,
     "metadata": {},
     "output_type": "execute_result"
    }
   ],
   "source": [
    "rsq_knn=r2_score(y_test,y_pred_knn)\n",
    "rsq_knn"
   ]
  },
  {
   "cell_type": "code",
   "execution_count": 72,
   "id": "ab752848-04f6-47b7-a68a-3ee9033d75dd",
   "metadata": {},
   "outputs": [
    {
     "data": {
      "text/plain": [
       "{'LR': 391.95740048925467,\n",
       " 'RR': 391.95696591871194,\n",
       " 'EN': 423.24200090839696,\n",
       " 'DT': 331.0208648252256,\n",
       " 'RF': 237.1351022899228,\n",
       " 'KNN': 270.4950501185793}"
      ]
     },
     "execution_count": 72,
     "metadata": {},
     "output_type": "execute_result"
    }
   ],
   "source": [
    "var_sel_rmse[\"KNN\"]=rmse_knn\n",
    "var_sel_rmse"
   ]
  },
  {
   "cell_type": "code",
   "execution_count": 73,
   "id": "7d2c2921-263a-4f63-bfdb-4da627fbac2f",
   "metadata": {},
   "outputs": [
    {
     "data": {
      "text/plain": [
       "{'LR': 0.5719554071620723,\n",
       " 'RR': 0.5719563563237294,\n",
       " 'EN': 0.5008985913034889,\n",
       " 'DT': 0.6947033661606834,\n",
       " 'RF': 0.8433238216841603,\n",
       " 'KNN': 0.7961409846038952}"
      ]
     },
     "execution_count": 73,
     "metadata": {},
     "output_type": "execute_result"
    }
   ],
   "source": [
    "var_sel_Rsq[\"KNN\"]=rsq_knn\n",
    "var_sel_Rsq"
   ]
  },
  {
   "cell_type": "markdown",
   "id": "055ec909-9c37-4995-b340-45226d1ae3fd",
   "metadata": {},
   "source": [
    "7) SVR"
   ]
  },
  {
   "cell_type": "code",
   "execution_count": 74,
   "id": "f4c6faab-3cc0-420f-ad54-f3c2a1476edf",
   "metadata": {},
   "outputs": [
    {
     "data": {
      "text/html": [
       "<style>#sk-container-id-6 {color: black;background-color: white;}#sk-container-id-6 pre{padding: 0;}#sk-container-id-6 div.sk-toggleable {background-color: white;}#sk-container-id-6 label.sk-toggleable__label {cursor: pointer;display: block;width: 100%;margin-bottom: 0;padding: 0.3em;box-sizing: border-box;text-align: center;}#sk-container-id-6 label.sk-toggleable__label-arrow:before {content: \"▸\";float: left;margin-right: 0.25em;color: #696969;}#sk-container-id-6 label.sk-toggleable__label-arrow:hover:before {color: black;}#sk-container-id-6 div.sk-estimator:hover label.sk-toggleable__label-arrow:before {color: black;}#sk-container-id-6 div.sk-toggleable__content {max-height: 0;max-width: 0;overflow: hidden;text-align: left;background-color: #f0f8ff;}#sk-container-id-6 div.sk-toggleable__content pre {margin: 0.2em;color: black;border-radius: 0.25em;background-color: #f0f8ff;}#sk-container-id-6 input.sk-toggleable__control:checked~div.sk-toggleable__content {max-height: 200px;max-width: 100%;overflow: auto;}#sk-container-id-6 input.sk-toggleable__control:checked~label.sk-toggleable__label-arrow:before {content: \"▾\";}#sk-container-id-6 div.sk-estimator input.sk-toggleable__control:checked~label.sk-toggleable__label {background-color: #d4ebff;}#sk-container-id-6 div.sk-label input.sk-toggleable__control:checked~label.sk-toggleable__label {background-color: #d4ebff;}#sk-container-id-6 input.sk-hidden--visually {border: 0;clip: rect(1px 1px 1px 1px);clip: rect(1px, 1px, 1px, 1px);height: 1px;margin: -1px;overflow: hidden;padding: 0;position: absolute;width: 1px;}#sk-container-id-6 div.sk-estimator {font-family: monospace;background-color: #f0f8ff;border: 1px dotted black;border-radius: 0.25em;box-sizing: border-box;margin-bottom: 0.5em;}#sk-container-id-6 div.sk-estimator:hover {background-color: #d4ebff;}#sk-container-id-6 div.sk-parallel-item::after {content: \"\";width: 100%;border-bottom: 1px solid gray;flex-grow: 1;}#sk-container-id-6 div.sk-label:hover label.sk-toggleable__label {background-color: #d4ebff;}#sk-container-id-6 div.sk-serial::before {content: \"\";position: absolute;border-left: 1px solid gray;box-sizing: border-box;top: 0;bottom: 0;left: 50%;z-index: 0;}#sk-container-id-6 div.sk-serial {display: flex;flex-direction: column;align-items: center;background-color: white;padding-right: 0.2em;padding-left: 0.2em;position: relative;}#sk-container-id-6 div.sk-item {position: relative;z-index: 1;}#sk-container-id-6 div.sk-parallel {display: flex;align-items: stretch;justify-content: center;background-color: white;position: relative;}#sk-container-id-6 div.sk-item::before, #sk-container-id-6 div.sk-parallel-item::before {content: \"\";position: absolute;border-left: 1px solid gray;box-sizing: border-box;top: 0;bottom: 0;left: 50%;z-index: -1;}#sk-container-id-6 div.sk-parallel-item {display: flex;flex-direction: column;z-index: 1;position: relative;background-color: white;}#sk-container-id-6 div.sk-parallel-item:first-child::after {align-self: flex-end;width: 50%;}#sk-container-id-6 div.sk-parallel-item:last-child::after {align-self: flex-start;width: 50%;}#sk-container-id-6 div.sk-parallel-item:only-child::after {width: 0;}#sk-container-id-6 div.sk-dashed-wrapped {border: 1px dashed gray;margin: 0 0.4em 0.5em 0.4em;box-sizing: border-box;padding-bottom: 0.4em;background-color: white;}#sk-container-id-6 div.sk-label label {font-family: monospace;font-weight: bold;display: inline-block;line-height: 1.2em;}#sk-container-id-6 div.sk-label-container {text-align: center;}#sk-container-id-6 div.sk-container {/* jupyter's `normalize.less` sets `[hidden] { display: none; }` but bootstrap.min.css set `[hidden] { display: none !important; }` so we also need the `!important` here to be able to override the default hidden behavior on the sphinx rendered scikit-learn.org. See: https://github.com/scikit-learn/scikit-learn/issues/21755 */display: inline-block !important;position: relative;}#sk-container-id-6 div.sk-text-repr-fallback {display: none;}</style><div id=\"sk-container-id-6\" class=\"sk-top-container\"><div class=\"sk-text-repr-fallback\"><pre>SVR(C=100, gamma=0.1)</pre><b>In a Jupyter environment, please rerun this cell to show the HTML representation or trust the notebook. <br />On GitHub, the HTML representation is unable to render, please try loading this page with nbviewer.org.</b></div><div class=\"sk-container\" hidden><div class=\"sk-item\"><div class=\"sk-estimator sk-toggleable\"><input class=\"sk-toggleable__control sk-hidden--visually\" id=\"sk-estimator-id-6\" type=\"checkbox\" checked><label for=\"sk-estimator-id-6\" class=\"sk-toggleable__label sk-toggleable__label-arrow\">SVR</label><div class=\"sk-toggleable__content\"><pre>SVR(C=100, gamma=0.1)</pre></div></div></div></div></div>"
      ],
      "text/plain": [
       "SVR(C=100, gamma=0.1)"
      ]
     },
     "execution_count": 74,
     "metadata": {},
     "output_type": "execute_result"
    }
   ],
   "source": [
    "from sklearn.svm import SVR\n",
    "svr=SVR(kernel='rbf',C=100,gamma=0.1,epsilon=0.1)\n",
    "scaler=StandardScaler()\n",
    "x_train_scaled=scaler.fit_transform(x_train)\n",
    "x_test_scaled=scaler.transform(x_test)\n",
    "svr.fit(x_train_scaled,y_train)"
   ]
  },
  {
   "cell_type": "code",
   "execution_count": 75,
   "id": "de4b1c53-4b9e-457c-a707-57a6118a1117",
   "metadata": {},
   "outputs": [
    {
     "data": {
      "text/plain": [
       "array([ 231.22264938,    1.61619342,  206.84227628, ...,  375.72626957,\n",
       "        124.3946991 , 1343.94534041])"
      ]
     },
     "execution_count": 75,
     "metadata": {},
     "output_type": "execute_result"
    }
   ],
   "source": [
    "y_pred_svr=svr.predict(x_test_scaled)\n",
    "y_pred_svr"
   ]
  },
  {
   "cell_type": "code",
   "execution_count": 76,
   "id": "06045c9e-730f-4045-9b7f-2fd90331917d",
   "metadata": {},
   "outputs": [
    {
     "data": {
      "text/plain": [
       "110393.14779855442"
      ]
     },
     "execution_count": 76,
     "metadata": {},
     "output_type": "execute_result"
    }
   ],
   "source": [
    "mse=mean_squared_error(y_test,y_pred_svr)\n",
    "mse"
   ]
  },
  {
   "cell_type": "code",
   "execution_count": 77,
   "id": "dda56ea4-5a0c-44e8-ab67-d099dd9b0214",
   "metadata": {},
   "outputs": [
    {
     "data": {
      "text/plain": [
       "332.2546430052625"
      ]
     },
     "execution_count": 77,
     "metadata": {},
     "output_type": "execute_result"
    }
   ],
   "source": [
    "rmse_svr=np.sqrt(mse)\n",
    "rmse_svr"
   ]
  },
  {
   "cell_type": "code",
   "execution_count": 78,
   "id": "b0f888d3-1485-45d9-b36f-996bea16d7a8",
   "metadata": {},
   "outputs": [
    {
     "data": {
      "text/plain": [
       "0.6924233269071215"
      ]
     },
     "execution_count": 78,
     "metadata": {},
     "output_type": "execute_result"
    }
   ],
   "source": [
    "rsq_svr=r2_score(y_test,y_pred_svr)\n",
    "rsq_svr"
   ]
  },
  {
   "cell_type": "code",
   "execution_count": 79,
   "id": "b6f0a8e3-9b7a-4c56-8c49-9e6e7dbc4f73",
   "metadata": {},
   "outputs": [
    {
     "data": {
      "text/plain": [
       "{'LR': 391.95740048925467,\n",
       " 'RR': 391.95696591871194,\n",
       " 'EN': 423.24200090839696,\n",
       " 'DT': 331.0208648252256,\n",
       " 'RF': 237.1351022899228,\n",
       " 'KNN': 270.4950501185793,\n",
       " 'svr': 332.2546430052625}"
      ]
     },
     "execution_count": 79,
     "metadata": {},
     "output_type": "execute_result"
    }
   ],
   "source": [
    "var_sel_rmse[\"svr\"]=rmse_svr\n",
    "var_sel_rmse"
   ]
  },
  {
   "cell_type": "code",
   "execution_count": 80,
   "id": "c38b929e-4077-4695-9f76-72f51a79f91b",
   "metadata": {},
   "outputs": [
    {
     "data": {
      "text/plain": [
       "{'LR': 0.5719554071620723,\n",
       " 'RR': 0.5719563563237294,\n",
       " 'EN': 0.5008985913034889,\n",
       " 'DT': 0.6947033661606834,\n",
       " 'RF': 0.8433238216841603,\n",
       " 'KNN': 0.7961409846038952,\n",
       " 'svr': 0.6924233269071215}"
      ]
     },
     "execution_count": 80,
     "metadata": {},
     "output_type": "execute_result"
    }
   ],
   "source": [
    "var_sel_Rsq[\"svr\"]=rsq_svr\n",
    "var_sel_Rsq"
   ]
  },
  {
   "cell_type": "markdown",
   "id": "b47de418-2da3-4244-bbf6-41d98a1fc1a2",
   "metadata": {},
   "source": [
    "8) PCR"
   ]
  },
  {
   "cell_type": "code",
   "execution_count": 81,
   "id": "fd649760-bcfe-4867-9fc2-4a0b4edaad3e",
   "metadata": {},
   "outputs": [],
   "source": [
    "from sklearn.preprocessing import StandardScaler\n",
    "from sklearn.decomposition import PCA\n",
    "from sklearn.linear_model import LinearRegression\n",
    "from sklearn.metrics import mean_squared_error, r2_score"
   ]
  },
  {
   "cell_type": "code",
   "execution_count": 82,
   "id": "1a2f6841-4dc3-4d0a-8b50-dd57cfc5c01f",
   "metadata": {},
   "outputs": [],
   "source": [
    "scaler = StandardScaler()\n",
    "X_scaled = scaler.fit_transform(x)\n",
    "n_components=5\n",
    "pca = PCA(n_components=n_components)\n",
    "x_train_pca = pca.fit_transform(x_train)\n",
    "x_test_pca = pca.transform(x_test)"
   ]
  },
  {
   "cell_type": "code",
   "execution_count": 84,
   "id": "77294702-37ad-418b-a8c0-de5c0d1c2073",
   "metadata": {},
   "outputs": [
    {
     "data": {
      "text/html": [
       "<style>#sk-container-id-8 {color: black;background-color: white;}#sk-container-id-8 pre{padding: 0;}#sk-container-id-8 div.sk-toggleable {background-color: white;}#sk-container-id-8 label.sk-toggleable__label {cursor: pointer;display: block;width: 100%;margin-bottom: 0;padding: 0.3em;box-sizing: border-box;text-align: center;}#sk-container-id-8 label.sk-toggleable__label-arrow:before {content: \"▸\";float: left;margin-right: 0.25em;color: #696969;}#sk-container-id-8 label.sk-toggleable__label-arrow:hover:before {color: black;}#sk-container-id-8 div.sk-estimator:hover label.sk-toggleable__label-arrow:before {color: black;}#sk-container-id-8 div.sk-toggleable__content {max-height: 0;max-width: 0;overflow: hidden;text-align: left;background-color: #f0f8ff;}#sk-container-id-8 div.sk-toggleable__content pre {margin: 0.2em;color: black;border-radius: 0.25em;background-color: #f0f8ff;}#sk-container-id-8 input.sk-toggleable__control:checked~div.sk-toggleable__content {max-height: 200px;max-width: 100%;overflow: auto;}#sk-container-id-8 input.sk-toggleable__control:checked~label.sk-toggleable__label-arrow:before {content: \"▾\";}#sk-container-id-8 div.sk-estimator input.sk-toggleable__control:checked~label.sk-toggleable__label {background-color: #d4ebff;}#sk-container-id-8 div.sk-label input.sk-toggleable__control:checked~label.sk-toggleable__label {background-color: #d4ebff;}#sk-container-id-8 input.sk-hidden--visually {border: 0;clip: rect(1px 1px 1px 1px);clip: rect(1px, 1px, 1px, 1px);height: 1px;margin: -1px;overflow: hidden;padding: 0;position: absolute;width: 1px;}#sk-container-id-8 div.sk-estimator {font-family: monospace;background-color: #f0f8ff;border: 1px dotted black;border-radius: 0.25em;box-sizing: border-box;margin-bottom: 0.5em;}#sk-container-id-8 div.sk-estimator:hover {background-color: #d4ebff;}#sk-container-id-8 div.sk-parallel-item::after {content: \"\";width: 100%;border-bottom: 1px solid gray;flex-grow: 1;}#sk-container-id-8 div.sk-label:hover label.sk-toggleable__label {background-color: #d4ebff;}#sk-container-id-8 div.sk-serial::before {content: \"\";position: absolute;border-left: 1px solid gray;box-sizing: border-box;top: 0;bottom: 0;left: 50%;z-index: 0;}#sk-container-id-8 div.sk-serial {display: flex;flex-direction: column;align-items: center;background-color: white;padding-right: 0.2em;padding-left: 0.2em;position: relative;}#sk-container-id-8 div.sk-item {position: relative;z-index: 1;}#sk-container-id-8 div.sk-parallel {display: flex;align-items: stretch;justify-content: center;background-color: white;position: relative;}#sk-container-id-8 div.sk-item::before, #sk-container-id-8 div.sk-parallel-item::before {content: \"\";position: absolute;border-left: 1px solid gray;box-sizing: border-box;top: 0;bottom: 0;left: 50%;z-index: -1;}#sk-container-id-8 div.sk-parallel-item {display: flex;flex-direction: column;z-index: 1;position: relative;background-color: white;}#sk-container-id-8 div.sk-parallel-item:first-child::after {align-self: flex-end;width: 50%;}#sk-container-id-8 div.sk-parallel-item:last-child::after {align-self: flex-start;width: 50%;}#sk-container-id-8 div.sk-parallel-item:only-child::after {width: 0;}#sk-container-id-8 div.sk-dashed-wrapped {border: 1px dashed gray;margin: 0 0.4em 0.5em 0.4em;box-sizing: border-box;padding-bottom: 0.4em;background-color: white;}#sk-container-id-8 div.sk-label label {font-family: monospace;font-weight: bold;display: inline-block;line-height: 1.2em;}#sk-container-id-8 div.sk-label-container {text-align: center;}#sk-container-id-8 div.sk-container {/* jupyter's `normalize.less` sets `[hidden] { display: none; }` but bootstrap.min.css set `[hidden] { display: none !important; }` so we also need the `!important` here to be able to override the default hidden behavior on the sphinx rendered scikit-learn.org. See: https://github.com/scikit-learn/scikit-learn/issues/21755 */display: inline-block !important;position: relative;}#sk-container-id-8 div.sk-text-repr-fallback {display: none;}</style><div id=\"sk-container-id-8\" class=\"sk-top-container\"><div class=\"sk-text-repr-fallback\"><pre>LinearRegression()</pre><b>In a Jupyter environment, please rerun this cell to show the HTML representation or trust the notebook. <br />On GitHub, the HTML representation is unable to render, please try loading this page with nbviewer.org.</b></div><div class=\"sk-container\" hidden><div class=\"sk-item\"><div class=\"sk-estimator sk-toggleable\"><input class=\"sk-toggleable__control sk-hidden--visually\" id=\"sk-estimator-id-8\" type=\"checkbox\" checked><label for=\"sk-estimator-id-8\" class=\"sk-toggleable__label sk-toggleable__label-arrow\">LinearRegression</label><div class=\"sk-toggleable__content\"><pre>LinearRegression()</pre></div></div></div></div></div>"
      ],
      "text/plain": [
       "LinearRegression()"
      ]
     },
     "execution_count": 84,
     "metadata": {},
     "output_type": "execute_result"
    }
   ],
   "source": [
    "regressor=LinearRegression()\n",
    "regressor.fit(x_train_pca,y_train)"
   ]
  },
  {
   "cell_type": "code",
   "execution_count": 85,
   "id": "057ad777-2844-44e1-a21a-e0959527af51",
   "metadata": {},
   "outputs": [
    {
     "data": {
      "text/plain": [
       "array([ 583.4162809 ,  354.08682608,  371.22694804, ...,  550.04457494,\n",
       "          2.52266053, 1101.94411356])"
      ]
     },
     "execution_count": 85,
     "metadata": {},
     "output_type": "execute_result"
    }
   ],
   "source": [
    "y_pred_pca=regressor.predict(x_test_pca)\n",
    "y_pred_pca"
   ]
  },
  {
   "cell_type": "code",
   "execution_count": 86,
   "id": "e3882386-2e3e-49cf-b409-a9a735bc8f95",
   "metadata": {},
   "outputs": [
    {
     "data": {
      "text/plain": [
       "169555.44477163497"
      ]
     },
     "execution_count": 86,
     "metadata": {},
     "output_type": "execute_result"
    }
   ],
   "source": [
    "mse=mean_squared_error(y_test,y_pred_pca)\n",
    "mse"
   ]
  },
  {
   "cell_type": "code",
   "execution_count": 87,
   "id": "ad1e8d1b-7eeb-4b57-87cd-7953e12b1217",
   "metadata": {},
   "outputs": [
    {
     "data": {
      "text/plain": [
       "411.7711072569747"
      ]
     },
     "execution_count": 87,
     "metadata": {},
     "output_type": "execute_result"
    }
   ],
   "source": [
    "rmse_pca=np.sqrt(mse)\n",
    "rmse_pca"
   ]
  },
  {
   "cell_type": "code",
   "execution_count": 88,
   "id": "1a000521-41c5-4453-8f00-bccd3bc138c9",
   "metadata": {},
   "outputs": [
    {
     "data": {
      "text/plain": [
       "0.5275857184287511"
      ]
     },
     "execution_count": 88,
     "metadata": {},
     "output_type": "execute_result"
    }
   ],
   "source": [
    "r2_pca=r2_score(y_test,y_pred_pca)\n",
    "r2_pca"
   ]
  },
  {
   "cell_type": "code",
   "execution_count": 89,
   "id": "4f0825c9-ef77-4173-90e5-9f3d2217acaf",
   "metadata": {},
   "outputs": [
    {
     "data": {
      "text/plain": [
       "{'LR': 391.95740048925467,\n",
       " 'RR': 391.95696591871194,\n",
       " 'EN': 423.24200090839696,\n",
       " 'DT': 331.0208648252256,\n",
       " 'RF': 237.1351022899228,\n",
       " 'KNN': 270.4950501185793,\n",
       " 'svr': 332.2546430052625,\n",
       " 'PCR': 411.7711072569747}"
      ]
     },
     "execution_count": 89,
     "metadata": {},
     "output_type": "execute_result"
    }
   ],
   "source": [
    "var_sel_rmse[\"PCR\"]=rmse_pca\n",
    "var_sel_rmse"
   ]
  },
  {
   "cell_type": "code",
   "execution_count": 90,
   "id": "dae21ec9-f79b-40b7-a1ba-6ef7ea67a146",
   "metadata": {},
   "outputs": [
    {
     "data": {
      "text/plain": [
       "{'LR': 0.5719554071620723,\n",
       " 'RR': 0.5719563563237294,\n",
       " 'EN': 0.5008985913034889,\n",
       " 'DT': 0.6947033661606834,\n",
       " 'RF': 0.8433238216841603,\n",
       " 'KNN': 0.7961409846038952,\n",
       " 'svr': 0.6924233269071215,\n",
       " 'PCR': 0.5275857184287511}"
      ]
     },
     "execution_count": 90,
     "metadata": {},
     "output_type": "execute_result"
    }
   ],
   "source": [
    "var_sel_Rsq[\"PCR\"]=r2_pca\n",
    "var_sel_Rsq"
   ]
  },
  {
   "cell_type": "markdown",
   "id": "3773491c-96bd-43ba-ae65-8c05a128bc5b",
   "metadata": {},
   "source": [
    "9) Gradient Boosting"
   ]
  },
  {
   "cell_type": "code",
   "execution_count": 91,
   "id": "2d3730d1-4372-4d43-b29c-9fb53d92dd94",
   "metadata": {},
   "outputs": [
    {
     "data": {
      "text/html": [
       "<style>#sk-container-id-9 {color: black;background-color: white;}#sk-container-id-9 pre{padding: 0;}#sk-container-id-9 div.sk-toggleable {background-color: white;}#sk-container-id-9 label.sk-toggleable__label {cursor: pointer;display: block;width: 100%;margin-bottom: 0;padding: 0.3em;box-sizing: border-box;text-align: center;}#sk-container-id-9 label.sk-toggleable__label-arrow:before {content: \"▸\";float: left;margin-right: 0.25em;color: #696969;}#sk-container-id-9 label.sk-toggleable__label-arrow:hover:before {color: black;}#sk-container-id-9 div.sk-estimator:hover label.sk-toggleable__label-arrow:before {color: black;}#sk-container-id-9 div.sk-toggleable__content {max-height: 0;max-width: 0;overflow: hidden;text-align: left;background-color: #f0f8ff;}#sk-container-id-9 div.sk-toggleable__content pre {margin: 0.2em;color: black;border-radius: 0.25em;background-color: #f0f8ff;}#sk-container-id-9 input.sk-toggleable__control:checked~div.sk-toggleable__content {max-height: 200px;max-width: 100%;overflow: auto;}#sk-container-id-9 input.sk-toggleable__control:checked~label.sk-toggleable__label-arrow:before {content: \"▾\";}#sk-container-id-9 div.sk-estimator input.sk-toggleable__control:checked~label.sk-toggleable__label {background-color: #d4ebff;}#sk-container-id-9 div.sk-label input.sk-toggleable__control:checked~label.sk-toggleable__label {background-color: #d4ebff;}#sk-container-id-9 input.sk-hidden--visually {border: 0;clip: rect(1px 1px 1px 1px);clip: rect(1px, 1px, 1px, 1px);height: 1px;margin: -1px;overflow: hidden;padding: 0;position: absolute;width: 1px;}#sk-container-id-9 div.sk-estimator {font-family: monospace;background-color: #f0f8ff;border: 1px dotted black;border-radius: 0.25em;box-sizing: border-box;margin-bottom: 0.5em;}#sk-container-id-9 div.sk-estimator:hover {background-color: #d4ebff;}#sk-container-id-9 div.sk-parallel-item::after {content: \"\";width: 100%;border-bottom: 1px solid gray;flex-grow: 1;}#sk-container-id-9 div.sk-label:hover label.sk-toggleable__label {background-color: #d4ebff;}#sk-container-id-9 div.sk-serial::before {content: \"\";position: absolute;border-left: 1px solid gray;box-sizing: border-box;top: 0;bottom: 0;left: 50%;z-index: 0;}#sk-container-id-9 div.sk-serial {display: flex;flex-direction: column;align-items: center;background-color: white;padding-right: 0.2em;padding-left: 0.2em;position: relative;}#sk-container-id-9 div.sk-item {position: relative;z-index: 1;}#sk-container-id-9 div.sk-parallel {display: flex;align-items: stretch;justify-content: center;background-color: white;position: relative;}#sk-container-id-9 div.sk-item::before, #sk-container-id-9 div.sk-parallel-item::before {content: \"\";position: absolute;border-left: 1px solid gray;box-sizing: border-box;top: 0;bottom: 0;left: 50%;z-index: -1;}#sk-container-id-9 div.sk-parallel-item {display: flex;flex-direction: column;z-index: 1;position: relative;background-color: white;}#sk-container-id-9 div.sk-parallel-item:first-child::after {align-self: flex-end;width: 50%;}#sk-container-id-9 div.sk-parallel-item:last-child::after {align-self: flex-start;width: 50%;}#sk-container-id-9 div.sk-parallel-item:only-child::after {width: 0;}#sk-container-id-9 div.sk-dashed-wrapped {border: 1px dashed gray;margin: 0 0.4em 0.5em 0.4em;box-sizing: border-box;padding-bottom: 0.4em;background-color: white;}#sk-container-id-9 div.sk-label label {font-family: monospace;font-weight: bold;display: inline-block;line-height: 1.2em;}#sk-container-id-9 div.sk-label-container {text-align: center;}#sk-container-id-9 div.sk-container {/* jupyter's `normalize.less` sets `[hidden] { display: none; }` but bootstrap.min.css set `[hidden] { display: none !important; }` so we also need the `!important` here to be able to override the default hidden behavior on the sphinx rendered scikit-learn.org. See: https://github.com/scikit-learn/scikit-learn/issues/21755 */display: inline-block !important;position: relative;}#sk-container-id-9 div.sk-text-repr-fallback {display: none;}</style><div id=\"sk-container-id-9\" class=\"sk-top-container\"><div class=\"sk-text-repr-fallback\"><pre>GradientBoostingRegressor(random_state=42)</pre><b>In a Jupyter environment, please rerun this cell to show the HTML representation or trust the notebook. <br />On GitHub, the HTML representation is unable to render, please try loading this page with nbviewer.org.</b></div><div class=\"sk-container\" hidden><div class=\"sk-item\"><div class=\"sk-estimator sk-toggleable\"><input class=\"sk-toggleable__control sk-hidden--visually\" id=\"sk-estimator-id-9\" type=\"checkbox\" checked><label for=\"sk-estimator-id-9\" class=\"sk-toggleable__label sk-toggleable__label-arrow\">GradientBoostingRegressor</label><div class=\"sk-toggleable__content\"><pre>GradientBoostingRegressor(random_state=42)</pre></div></div></div></div></div>"
      ],
      "text/plain": [
       "GradientBoostingRegressor(random_state=42)"
      ]
     },
     "execution_count": 91,
     "metadata": {},
     "output_type": "execute_result"
    }
   ],
   "source": [
    "from sklearn.ensemble import GradientBoostingRegressor\n",
    "from sklearn.metrics import mean_squared_error,r2_score\n",
    "gbm=GradientBoostingRegressor(n_estimators=100,learning_rate=0.1,max_depth=3,random_state=42)\n",
    "gbm.fit(x_train,y_train)"
   ]
  },
  {
   "cell_type": "code",
   "execution_count": 92,
   "id": "5286d9a5-a347-4424-8a33-2aac9a1383e7",
   "metadata": {},
   "outputs": [
    {
     "data": {
      "text/plain": [
       "array([ 283.34670007,  124.78484442,  134.6508442 , ...,  286.88368722,\n",
       "         41.19440436, 1668.88740071])"
      ]
     },
     "execution_count": 92,
     "metadata": {},
     "output_type": "execute_result"
    }
   ],
   "source": [
    "gbm_y_pred=gbm.predict(x_test)\n",
    "gbm_y_pred"
   ]
  },
  {
   "cell_type": "code",
   "execution_count": 93,
   "id": "8617dc41-984d-480d-9c9f-96e8de525b04",
   "metadata": {},
   "outputs": [
    {
     "data": {
      "text/plain": [
       "61760.77451389548"
      ]
     },
     "execution_count": 93,
     "metadata": {},
     "output_type": "execute_result"
    }
   ],
   "source": [
    "mse=mean_squared_error(y_test,gbm_y_pred)\n",
    "mse"
   ]
  },
  {
   "cell_type": "code",
   "execution_count": 94,
   "id": "11ea842c-dbb3-4dac-896f-6b7a05b90682",
   "metadata": {},
   "outputs": [
    {
     "data": {
      "text/plain": [
       "248.51715134753874"
      ]
     },
     "execution_count": 94,
     "metadata": {},
     "output_type": "execute_result"
    }
   ],
   "source": [
    "rmse=np.sqrt(mse)\n",
    "rmse"
   ]
  },
  {
   "cell_type": "code",
   "execution_count": 95,
   "id": "fd3be8f7-d426-4b07-99a5-18ad8568ea12",
   "metadata": {},
   "outputs": [
    {
     "data": {
      "text/plain": [
       "0.8279225302345065"
      ]
     },
     "execution_count": 95,
     "metadata": {},
     "output_type": "execute_result"
    }
   ],
   "source": [
    "r2=r2_score(y_test,gbm_y_pred)\n",
    "r2"
   ]
  },
  {
   "cell_type": "code",
   "execution_count": 96,
   "id": "1f88cb21-4ba2-4c67-a0fb-248547e64435",
   "metadata": {},
   "outputs": [
    {
     "data": {
      "text/plain": [
       "{'LR': 391.95740048925467,\n",
       " 'RR': 391.95696591871194,\n",
       " 'EN': 423.24200090839696,\n",
       " 'DT': 331.0208648252256,\n",
       " 'RF': 237.1351022899228,\n",
       " 'KNN': 270.4950501185793,\n",
       " 'svr': 332.2546430052625,\n",
       " 'PCR': 411.7711072569747,\n",
       " 'gbr': 248.51715134753874}"
      ]
     },
     "execution_count": 96,
     "metadata": {},
     "output_type": "execute_result"
    }
   ],
   "source": [
    "var_sel_rmse[\"gbr\"]=rmse\n",
    "var_sel_rmse"
   ]
  },
  {
   "cell_type": "code",
   "execution_count": 97,
   "id": "5ec4f6bf-8e9e-413e-84f6-0d4fec7c0e83",
   "metadata": {},
   "outputs": [
    {
     "data": {
      "text/plain": [
       "{'LR': 0.5719554071620723,\n",
       " 'RR': 0.5719563563237294,\n",
       " 'EN': 0.5008985913034889,\n",
       " 'DT': 0.6947033661606834,\n",
       " 'RF': 0.8433238216841603,\n",
       " 'KNN': 0.7961409846038952,\n",
       " 'svr': 0.6924233269071215,\n",
       " 'PCR': 0.5275857184287511,\n",
       " 'gbr': 0.8279225302345065}"
      ]
     },
     "execution_count": 97,
     "metadata": {},
     "output_type": "execute_result"
    }
   ],
   "source": [
    "var_sel_Rsq[\"gbr\"]=r2\n",
    "var_sel_Rsq"
   ]
  },
  {
   "cell_type": "markdown",
   "id": "fb47c313-cb06-47a1-998a-892c619a78dd",
   "metadata": {},
   "source": [
    "10) PLSR"
   ]
  },
  {
   "cell_type": "code",
   "execution_count": 98,
   "id": "ecbbc711-e9c1-4bb5-93ba-82629e9f9e84",
   "metadata": {},
   "outputs": [],
   "source": [
    "import numpy as np\n",
    "import pandas as pd\n",
    "from sklearn.cross_decomposition import PLSRegression\n",
    "from sklearn.metrics import mean_squared_error,r2_score\n",
    "from sklearn.model_selection import train_test_split\n",
    "from sklearn.preprocessing import StandardScaler"
   ]
  },
  {
   "cell_type": "code",
   "execution_count": 99,
   "id": "e1691040-7f32-4b4a-acd2-bfa31c0f379e",
   "metadata": {},
   "outputs": [],
   "source": [
    "scaler = StandardScaler()\n",
    "x_scaled = scaler.fit_transform(x)"
   ]
  },
  {
   "cell_type": "code",
   "execution_count": 100,
   "id": "94dcc65f-4682-42a6-afbc-fb17e61863c3",
   "metadata": {},
   "outputs": [
    {
     "data": {
      "text/html": [
       "<style>#sk-container-id-10 {color: black;background-color: white;}#sk-container-id-10 pre{padding: 0;}#sk-container-id-10 div.sk-toggleable {background-color: white;}#sk-container-id-10 label.sk-toggleable__label {cursor: pointer;display: block;width: 100%;margin-bottom: 0;padding: 0.3em;box-sizing: border-box;text-align: center;}#sk-container-id-10 label.sk-toggleable__label-arrow:before {content: \"▸\";float: left;margin-right: 0.25em;color: #696969;}#sk-container-id-10 label.sk-toggleable__label-arrow:hover:before {color: black;}#sk-container-id-10 div.sk-estimator:hover label.sk-toggleable__label-arrow:before {color: black;}#sk-container-id-10 div.sk-toggleable__content {max-height: 0;max-width: 0;overflow: hidden;text-align: left;background-color: #f0f8ff;}#sk-container-id-10 div.sk-toggleable__content pre {margin: 0.2em;color: black;border-radius: 0.25em;background-color: #f0f8ff;}#sk-container-id-10 input.sk-toggleable__control:checked~div.sk-toggleable__content {max-height: 200px;max-width: 100%;overflow: auto;}#sk-container-id-10 input.sk-toggleable__control:checked~label.sk-toggleable__label-arrow:before {content: \"▾\";}#sk-container-id-10 div.sk-estimator input.sk-toggleable__control:checked~label.sk-toggleable__label {background-color: #d4ebff;}#sk-container-id-10 div.sk-label input.sk-toggleable__control:checked~label.sk-toggleable__label {background-color: #d4ebff;}#sk-container-id-10 input.sk-hidden--visually {border: 0;clip: rect(1px 1px 1px 1px);clip: rect(1px, 1px, 1px, 1px);height: 1px;margin: -1px;overflow: hidden;padding: 0;position: absolute;width: 1px;}#sk-container-id-10 div.sk-estimator {font-family: monospace;background-color: #f0f8ff;border: 1px dotted black;border-radius: 0.25em;box-sizing: border-box;margin-bottom: 0.5em;}#sk-container-id-10 div.sk-estimator:hover {background-color: #d4ebff;}#sk-container-id-10 div.sk-parallel-item::after {content: \"\";width: 100%;border-bottom: 1px solid gray;flex-grow: 1;}#sk-container-id-10 div.sk-label:hover label.sk-toggleable__label {background-color: #d4ebff;}#sk-container-id-10 div.sk-serial::before {content: \"\";position: absolute;border-left: 1px solid gray;box-sizing: border-box;top: 0;bottom: 0;left: 50%;z-index: 0;}#sk-container-id-10 div.sk-serial {display: flex;flex-direction: column;align-items: center;background-color: white;padding-right: 0.2em;padding-left: 0.2em;position: relative;}#sk-container-id-10 div.sk-item {position: relative;z-index: 1;}#sk-container-id-10 div.sk-parallel {display: flex;align-items: stretch;justify-content: center;background-color: white;position: relative;}#sk-container-id-10 div.sk-item::before, #sk-container-id-10 div.sk-parallel-item::before {content: \"\";position: absolute;border-left: 1px solid gray;box-sizing: border-box;top: 0;bottom: 0;left: 50%;z-index: -1;}#sk-container-id-10 div.sk-parallel-item {display: flex;flex-direction: column;z-index: 1;position: relative;background-color: white;}#sk-container-id-10 div.sk-parallel-item:first-child::after {align-self: flex-end;width: 50%;}#sk-container-id-10 div.sk-parallel-item:last-child::after {align-self: flex-start;width: 50%;}#sk-container-id-10 div.sk-parallel-item:only-child::after {width: 0;}#sk-container-id-10 div.sk-dashed-wrapped {border: 1px dashed gray;margin: 0 0.4em 0.5em 0.4em;box-sizing: border-box;padding-bottom: 0.4em;background-color: white;}#sk-container-id-10 div.sk-label label {font-family: monospace;font-weight: bold;display: inline-block;line-height: 1.2em;}#sk-container-id-10 div.sk-label-container {text-align: center;}#sk-container-id-10 div.sk-container {/* jupyter's `normalize.less` sets `[hidden] { display: none; }` but bootstrap.min.css set `[hidden] { display: none !important; }` so we also need the `!important` here to be able to override the default hidden behavior on the sphinx rendered scikit-learn.org. See: https://github.com/scikit-learn/scikit-learn/issues/21755 */display: inline-block !important;position: relative;}#sk-container-id-10 div.sk-text-repr-fallback {display: none;}</style><div id=\"sk-container-id-10\" class=\"sk-top-container\"><div class=\"sk-text-repr-fallback\"><pre>PLSRegression(n_components=5)</pre><b>In a Jupyter environment, please rerun this cell to show the HTML representation or trust the notebook. <br />On GitHub, the HTML representation is unable to render, please try loading this page with nbviewer.org.</b></div><div class=\"sk-container\" hidden><div class=\"sk-item\"><div class=\"sk-estimator sk-toggleable\"><input class=\"sk-toggleable__control sk-hidden--visually\" id=\"sk-estimator-id-10\" type=\"checkbox\" checked><label for=\"sk-estimator-id-10\" class=\"sk-toggleable__label sk-toggleable__label-arrow\">PLSRegression</label><div class=\"sk-toggleable__content\"><pre>PLSRegression(n_components=5)</pre></div></div></div></div></div>"
      ],
      "text/plain": [
       "PLSRegression(n_components=5)"
      ]
     },
     "execution_count": 100,
     "metadata": {},
     "output_type": "execute_result"
    }
   ],
   "source": [
    "pls = PLSRegression(n_components=5)\n",
    "pls.fit(x_train, y_train)"
   ]
  },
  {
   "cell_type": "code",
   "execution_count": 101,
   "id": "3b2b381e-88a0-4be2-b4f4-e02fc96c629a",
   "metadata": {},
   "outputs": [
    {
     "data": {
      "text/plain": [
       "array([[ 421.69743657],\n",
       "       [ 439.26862214],\n",
       "       [ 390.29335688],\n",
       "       ...,\n",
       "       [ 625.63408763],\n",
       "       [  77.12475225],\n",
       "       [1153.31290068]])"
      ]
     },
     "execution_count": 101,
     "metadata": {},
     "output_type": "execute_result"
    }
   ],
   "source": [
    "y_pred_plsr = pls.predict(x_test)\n",
    "y_pred_plsr"
   ]
  },
  {
   "cell_type": "code",
   "execution_count": 102,
   "id": "98c9e6b0-aab6-4393-a17d-4f24bc3056cf",
   "metadata": {},
   "outputs": [
    {
     "data": {
      "text/plain": [
       "153652.3955080163"
      ]
     },
     "execution_count": 102,
     "metadata": {},
     "output_type": "execute_result"
    }
   ],
   "source": [
    "mse= mean_squared_error(y_test, y_pred_plsr)\n",
    "mse"
   ]
  },
  {
   "cell_type": "code",
   "execution_count": 103,
   "id": "53ee9b20-53f2-41c0-851f-ba90627480ca",
   "metadata": {},
   "outputs": [
    {
     "data": {
      "text/plain": [
       "391.9851980726011"
      ]
     },
     "execution_count": 103,
     "metadata": {},
     "output_type": "execute_result"
    }
   ],
   "source": [
    "rmse_plsr=np.sqrt(mse)\n",
    "rmse_plsr"
   ]
  },
  {
   "cell_type": "code",
   "execution_count": 104,
   "id": "b1ec2869-a12d-4f2a-b69a-0525abed566f",
   "metadata": {},
   "outputs": [
    {
     "data": {
      "text/plain": [
       "0.5718946912416455"
      ]
     },
     "execution_count": 104,
     "metadata": {},
     "output_type": "execute_result"
    }
   ],
   "source": [
    "r2_plsr = r2_score(y_test, y_pred_plsr)\n",
    "r2_plsr"
   ]
  },
  {
   "cell_type": "code",
   "execution_count": 105,
   "id": "d403149d-7fcd-4e4b-a91a-b00b737db6f3",
   "metadata": {},
   "outputs": [
    {
     "data": {
      "text/plain": [
       "{'LR': 391.95740048925467,\n",
       " 'RR': 391.95696591871194,\n",
       " 'EN': 423.24200090839696,\n",
       " 'DT': 331.0208648252256,\n",
       " 'RF': 237.1351022899228,\n",
       " 'KNN': 270.4950501185793,\n",
       " 'svr': 332.2546430052625,\n",
       " 'PCR': 411.7711072569747,\n",
       " 'gbr': 248.51715134753874,\n",
       " 'PLSR': 391.9851980726011}"
      ]
     },
     "execution_count": 105,
     "metadata": {},
     "output_type": "execute_result"
    }
   ],
   "source": [
    "var_sel_rmse[\"PLSR\"]=rmse_plsr\n",
    "var_sel_rmse"
   ]
  },
  {
   "cell_type": "code",
   "execution_count": 106,
   "id": "f12641b5-7fc9-46c5-b243-5bebd8cd1663",
   "metadata": {},
   "outputs": [
    {
     "data": {
      "text/plain": [
       "{'LR': 0.5719554071620723,\n",
       " 'RR': 0.5719563563237294,\n",
       " 'EN': 0.5008985913034889,\n",
       " 'DT': 0.6947033661606834,\n",
       " 'RF': 0.8433238216841603,\n",
       " 'KNN': 0.7961409846038952,\n",
       " 'svr': 0.6924233269071215,\n",
       " 'PCR': 0.5275857184287511,\n",
       " 'gbr': 0.8279225302345065,\n",
       " 'PLSR': 0.5718946912416455}"
      ]
     },
     "execution_count": 106,
     "metadata": {},
     "output_type": "execute_result"
    }
   ],
   "source": [
    "var_sel_Rsq[\"PLSR\"]=r2_plsr\n",
    "var_sel_Rsq"
   ]
  },
  {
   "cell_type": "markdown",
   "id": "210d0646-7f33-45d1-84db-ed3f4276fb62",
   "metadata": {},
   "source": [
    "By feature importance the variables hour,Tempreture,Functioning Day,Solar Radiation,humidity and seasons are important.\n",
    "hence we obtain the models by keeping this variables only . But there is no significant change in rmse and R square values.so, Random forest is best model."
   ]
  },
  {
   "cell_type": "code",
   "execution_count": 107,
   "id": "d825e40c-9078-490d-b60e-26042b9598af",
   "metadata": {},
   "outputs": [],
   "source": [
    "import pandas as pd\n",
    "import seaborn as sns\n",
    "import matplotlib.pyplot as plt"
   ]
  },
  {
   "cell_type": "code",
   "execution_count": 108,
   "id": "f3bad721-5823-4b85-9e25-f17e6757e729",
   "metadata": {},
   "outputs": [
    {
     "data": {
      "text/html": [
       "<div>\n",
       "<style scoped>\n",
       "    .dataframe tbody tr th:only-of-type {\n",
       "        vertical-align: middle;\n",
       "    }\n",
       "\n",
       "    .dataframe tbody tr th {\n",
       "        vertical-align: top;\n",
       "    }\n",
       "\n",
       "    .dataframe thead th {\n",
       "        text-align: right;\n",
       "    }\n",
       "</style>\n",
       "<table border=\"1\" class=\"dataframe\">\n",
       "  <thead>\n",
       "    <tr style=\"text-align: right;\">\n",
       "      <th></th>\n",
       "      <th>model</th>\n",
       "      <th>var_sel_rmse</th>\n",
       "    </tr>\n",
       "  </thead>\n",
       "  <tbody>\n",
       "    <tr>\n",
       "      <th>0</th>\n",
       "      <td>LR</td>\n",
       "      <td>391.957400</td>\n",
       "    </tr>\n",
       "    <tr>\n",
       "      <th>1</th>\n",
       "      <td>RR</td>\n",
       "      <td>391.956966</td>\n",
       "    </tr>\n",
       "    <tr>\n",
       "      <th>2</th>\n",
       "      <td>EN</td>\n",
       "      <td>423.242001</td>\n",
       "    </tr>\n",
       "    <tr>\n",
       "      <th>3</th>\n",
       "      <td>DT</td>\n",
       "      <td>331.020865</td>\n",
       "    </tr>\n",
       "    <tr>\n",
       "      <th>4</th>\n",
       "      <td>RF</td>\n",
       "      <td>237.135102</td>\n",
       "    </tr>\n",
       "    <tr>\n",
       "      <th>5</th>\n",
       "      <td>KNN</td>\n",
       "      <td>270.495050</td>\n",
       "    </tr>\n",
       "    <tr>\n",
       "      <th>6</th>\n",
       "      <td>svr</td>\n",
       "      <td>332.254643</td>\n",
       "    </tr>\n",
       "    <tr>\n",
       "      <th>7</th>\n",
       "      <td>PCR</td>\n",
       "      <td>411.771107</td>\n",
       "    </tr>\n",
       "    <tr>\n",
       "      <th>8</th>\n",
       "      <td>gbr</td>\n",
       "      <td>248.517151</td>\n",
       "    </tr>\n",
       "    <tr>\n",
       "      <th>9</th>\n",
       "      <td>PLSR</td>\n",
       "      <td>391.985198</td>\n",
       "    </tr>\n",
       "  </tbody>\n",
       "</table>\n",
       "</div>"
      ],
      "text/plain": [
       "  model  var_sel_rmse\n",
       "0    LR    391.957400\n",
       "1    RR    391.956966\n",
       "2    EN    423.242001\n",
       "3    DT    331.020865\n",
       "4    RF    237.135102\n",
       "5   KNN    270.495050\n",
       "6   svr    332.254643\n",
       "7   PCR    411.771107\n",
       "8   gbr    248.517151\n",
       "9  PLSR    391.985198"
      ]
     },
     "execution_count": 108,
     "metadata": {},
     "output_type": "execute_result"
    }
   ],
   "source": [
    "df_rmse=pd.DataFrame(list(var_sel_rmse.items()),columns=['model','var_sel_rmse'])\n",
    "df_rmse"
   ]
  },
  {
   "cell_type": "code",
   "execution_count": 140,
   "id": "85482dd4-0dd6-4939-a0fd-f8f847f27f97",
   "metadata": {},
   "outputs": [],
   "source": [
    "df_rmse.to_excel(\"C:/Users/ADMIN/Desktop/dataframe.xlsx\")"
   ]
  },
  {
   "cell_type": "code",
   "execution_count": 109,
   "id": "1b7b4b40-0805-46a4-8a99-0d154be0a93b",
   "metadata": {},
   "outputs": [
    {
     "data": {
      "image/png": "[encoded data removed]",
      "text/plain": [
       "<Figure size 640x480 with 1 Axes>"
      ]
     },
     "metadata": {},
     "output_type": "display_data"
    }
   ],
   "source": [
    "sns.barplot(x='model',y='var_sel_rmse',data=df_rmse,palette='viridis')\n",
    "plt.xticks(rotation=90)\n",
    "plt.show()"
   ]
  },
  {
   "attachments": {},
   "cell_type": "markdown",
   "id": "c64b2763-02ec-4bc4-ae26-42fc750d8d27",
   "metadata": {},
   "source": [
    "After variable selection, from all the above models Random forest and gradient boosting has min rmse so, Random forest and gradient boosting  are the best model."
   ]
  },
  {
   "cell_type": "code",
   "execution_count": 110,
   "id": "105779c9-7192-4142-813f-cd5f0217cde9",
   "metadata": {},
   "outputs": [
    {
     "data": {
      "text/html": [
       "<div>\n",
       "<style scoped>\n",
       "    .dataframe tbody tr th:only-of-type {\n",
       "        vertical-align: middle;\n",
       "    }\n",
       "\n",
       "    .dataframe tbody tr th {\n",
       "        vertical-align: top;\n",
       "    }\n",
       "\n",
       "    .dataframe thead th {\n",
       "        text-align: right;\n",
       "    }\n",
       "</style>\n",
       "<table border=\"1\" class=\"dataframe\">\n",
       "  <thead>\n",
       "    <tr style=\"text-align: right;\">\n",
       "      <th></th>\n",
       "      <th>model</th>\n",
       "      <th>var_sel_Rsq</th>\n",
       "    </tr>\n",
       "  </thead>\n",
       "  <tbody>\n",
       "    <tr>\n",
       "      <th>0</th>\n",
       "      <td>LR</td>\n",
       "      <td>0.571955</td>\n",
       "    </tr>\n",
       "    <tr>\n",
       "      <th>1</th>\n",
       "      <td>RR</td>\n",
       "      <td>0.571956</td>\n",
       "    </tr>\n",
       "    <tr>\n",
       "      <th>2</th>\n",
       "      <td>EN</td>\n",
       "      <td>0.500899</td>\n",
       "    </tr>\n",
       "    <tr>\n",
       "      <th>3</th>\n",
       "      <td>DT</td>\n",
       "      <td>0.694703</td>\n",
       "    </tr>\n",
       "    <tr>\n",
       "      <th>4</th>\n",
       "      <td>RF</td>\n",
       "      <td>0.843324</td>\n",
       "    </tr>\n",
       "    <tr>\n",
       "      <th>5</th>\n",
       "      <td>KNN</td>\n",
       "      <td>0.796141</td>\n",
       "    </tr>\n",
       "    <tr>\n",
       "      <th>6</th>\n",
       "      <td>svr</td>\n",
       "      <td>0.692423</td>\n",
       "    </tr>\n",
       "    <tr>\n",
       "      <th>7</th>\n",
       "      <td>PCR</td>\n",
       "      <td>0.527586</td>\n",
       "    </tr>\n",
       "    <tr>\n",
       "      <th>8</th>\n",
       "      <td>gbr</td>\n",
       "      <td>0.827923</td>\n",
       "    </tr>\n",
       "    <tr>\n",
       "      <th>9</th>\n",
       "      <td>PLSR</td>\n",
       "      <td>0.571895</td>\n",
       "    </tr>\n",
       "  </tbody>\n",
       "</table>\n",
       "</div>"
      ],
      "text/plain": [
       "  model  var_sel_Rsq\n",
       "0    LR     0.571955\n",
       "1    RR     0.571956\n",
       "2    EN     0.500899\n",
       "3    DT     0.694703\n",
       "4    RF     0.843324\n",
       "5   KNN     0.796141\n",
       "6   svr     0.692423\n",
       "7   PCR     0.527586\n",
       "8   gbr     0.827923\n",
       "9  PLSR     0.571895"
      ]
     },
     "execution_count": 110,
     "metadata": {},
     "output_type": "execute_result"
    }
   ],
   "source": [
    "df_Rsq=pd.DataFrame(list(var_sel_Rsq.items()),columns=['model','var_sel_Rsq'])\n",
    "df_Rsq"
   ]
  },
  {
   "cell_type": "code",
   "execution_count": 111,
   "id": "1f6d88fa-4095-469c-adec-a5623fdb561f",
   "metadata": {},
   "outputs": [
    {
     "data": {
      "image/png": "[encoded data removed]",
      "text/plain": [
       "<Figure size 640x480 with 1 Axes>"
      ]
     },
     "metadata": {},
     "output_type": "display_data"
    }
   ],
   "source": [
    "sns.barplot(x='model',y='var_sel_Rsq',data=df_Rsq,palette='Set2')\n",
    "plt.xticks(rotation=90)\n",
    "plt.show()"
   ]
  },
  {
   "cell_type": "markdown",
   "id": "68eb1b85-4856-42e5-80a2-921f74e99725",
   "metadata": {},
   "source": [
    "After variable selection, from all the above models Random forest and gradient boosting has max R square so, Random forest and gradient boosting  are the best model."
   ]
  },
  {
   "cell_type": "code",
   "execution_count": 112,
   "id": "db54e4c0-7232-4e4f-b028-37096a956ae2",
   "metadata": {},
   "outputs": [
    {
     "data": {
      "text/html": [
       "<div>\n",
       "<style scoped>\n",
       "    .dataframe tbody tr th:only-of-type {\n",
       "        vertical-align: middle;\n",
       "    }\n",
       "\n",
       "    .dataframe tbody tr th {\n",
       "        vertical-align: top;\n",
       "    }\n",
       "\n",
       "    .dataframe thead th {\n",
       "        text-align: right;\n",
       "    }\n",
       "</style>\n",
       "<table border=\"1\" class=\"dataframe\">\n",
       "  <thead>\n",
       "    <tr style=\"text-align: right;\">\n",
       "      <th></th>\n",
       "      <th>model</th>\n",
       "      <th>var_sel_rmse</th>\n",
       "      <th>model</th>\n",
       "      <th>var_sel_Rsq</th>\n",
       "    </tr>\n",
       "  </thead>\n",
       "  <tbody>\n",
       "    <tr>\n",
       "      <th>0</th>\n",
       "      <td>LR</td>\n",
       "      <td>391.957400</td>\n",
       "      <td>LR</td>\n",
       "      <td>0.571955</td>\n",
       "    </tr>\n",
       "    <tr>\n",
       "      <th>1</th>\n",
       "      <td>RR</td>\n",
       "      <td>391.956966</td>\n",
       "      <td>RR</td>\n",
       "      <td>0.571956</td>\n",
       "    </tr>\n",
       "    <tr>\n",
       "      <th>2</th>\n",
       "      <td>EN</td>\n",
       "      <td>423.242001</td>\n",
       "      <td>EN</td>\n",
       "      <td>0.500899</td>\n",
       "    </tr>\n",
       "    <tr>\n",
       "      <th>3</th>\n",
       "      <td>DT</td>\n",
       "      <td>331.020865</td>\n",
       "      <td>DT</td>\n",
       "      <td>0.694703</td>\n",
       "    </tr>\n",
       "    <tr>\n",
       "      <th>4</th>\n",
       "      <td>RF</td>\n",
       "      <td>237.135102</td>\n",
       "      <td>RF</td>\n",
       "      <td>0.843324</td>\n",
       "    </tr>\n",
       "    <tr>\n",
       "      <th>5</th>\n",
       "      <td>KNN</td>\n",
       "      <td>270.495050</td>\n",
       "      <td>KNN</td>\n",
       "      <td>0.796141</td>\n",
       "    </tr>\n",
       "    <tr>\n",
       "      <th>6</th>\n",
       "      <td>svr</td>\n",
       "      <td>332.254643</td>\n",
       "      <td>svr</td>\n",
       "      <td>0.692423</td>\n",
       "    </tr>\n",
       "    <tr>\n",
       "      <th>7</th>\n",
       "      <td>PCR</td>\n",
       "      <td>411.771107</td>\n",
       "      <td>PCR</td>\n",
       "      <td>0.527586</td>\n",
       "    </tr>\n",
       "    <tr>\n",
       "      <th>8</th>\n",
       "      <td>gbr</td>\n",
       "      <td>248.517151</td>\n",
       "      <td>gbr</td>\n",
       "      <td>0.827923</td>\n",
       "    </tr>\n",
       "    <tr>\n",
       "      <th>9</th>\n",
       "      <td>PLSR</td>\n",
       "      <td>391.985198</td>\n",
       "      <td>PLSR</td>\n",
       "      <td>0.571895</td>\n",
       "    </tr>\n",
       "  </tbody>\n",
       "</table>\n",
       "</div>"
      ],
      "text/plain": [
       "  model  var_sel_rmse model  var_sel_Rsq\n",
       "0    LR    391.957400    LR     0.571955\n",
       "1    RR    391.956966    RR     0.571956\n",
       "2    EN    423.242001    EN     0.500899\n",
       "3    DT    331.020865    DT     0.694703\n",
       "4    RF    237.135102    RF     0.843324\n",
       "5   KNN    270.495050   KNN     0.796141\n",
       "6   svr    332.254643   svr     0.692423\n",
       "7   PCR    411.771107   PCR     0.527586\n",
       "8   gbr    248.517151   gbr     0.827923\n",
       "9  PLSR    391.985198  PLSR     0.571895"
      ]
     },
     "execution_count": 112,
     "metadata": {},
     "output_type": "execute_result"
    }
   ],
   "source": [
    "df_combined=pd.concat([df_rmse,df_Rsq],axis=1)\n",
    "df_combined"
   ]
  },
  {
   "cell_type": "code",
   "execution_count": 113,
   "id": "536d1bfc-a9e5-4b5c-831a-59ade0fdbc91",
   "metadata": {},
   "outputs": [
    {
     "data": {
      "text/html": [
       "<div>\n",
       "<style scoped>\n",
       "    .dataframe tbody tr th:only-of-type {\n",
       "        vertical-align: middle;\n",
       "    }\n",
       "\n",
       "    .dataframe tbody tr th {\n",
       "        vertical-align: top;\n",
       "    }\n",
       "\n",
       "    .dataframe thead th {\n",
       "        text-align: right;\n",
       "    }\n",
       "</style>\n",
       "<table border=\"1\" class=\"dataframe\">\n",
       "  <thead>\n",
       "    <tr style=\"text-align: right;\">\n",
       "      <th></th>\n",
       "      <th>model</th>\n",
       "      <th>var_sel_rmse</th>\n",
       "      <th>var_sel_Rsq</th>\n",
       "    </tr>\n",
       "  </thead>\n",
       "  <tbody>\n",
       "    <tr>\n",
       "      <th>0</th>\n",
       "      <td>LR</td>\n",
       "      <td>391.957400</td>\n",
       "      <td>0.571955</td>\n",
       "    </tr>\n",
       "    <tr>\n",
       "      <th>1</th>\n",
       "      <td>RR</td>\n",
       "      <td>391.956966</td>\n",
       "      <td>0.571956</td>\n",
       "    </tr>\n",
       "    <tr>\n",
       "      <th>2</th>\n",
       "      <td>EN</td>\n",
       "      <td>423.242001</td>\n",
       "      <td>0.500899</td>\n",
       "    </tr>\n",
       "    <tr>\n",
       "      <th>3</th>\n",
       "      <td>DT</td>\n",
       "      <td>331.020865</td>\n",
       "      <td>0.694703</td>\n",
       "    </tr>\n",
       "    <tr>\n",
       "      <th>4</th>\n",
       "      <td>RF</td>\n",
       "      <td>237.135102</td>\n",
       "      <td>0.843324</td>\n",
       "    </tr>\n",
       "    <tr>\n",
       "      <th>5</th>\n",
       "      <td>KNN</td>\n",
       "      <td>270.495050</td>\n",
       "      <td>0.796141</td>\n",
       "    </tr>\n",
       "    <tr>\n",
       "      <th>6</th>\n",
       "      <td>svr</td>\n",
       "      <td>332.254643</td>\n",
       "      <td>0.692423</td>\n",
       "    </tr>\n",
       "    <tr>\n",
       "      <th>7</th>\n",
       "      <td>PCR</td>\n",
       "      <td>411.771107</td>\n",
       "      <td>0.527586</td>\n",
       "    </tr>\n",
       "    <tr>\n",
       "      <th>8</th>\n",
       "      <td>gbr</td>\n",
       "      <td>248.517151</td>\n",
       "      <td>0.827923</td>\n",
       "    </tr>\n",
       "    <tr>\n",
       "      <th>9</th>\n",
       "      <td>PLSR</td>\n",
       "      <td>391.985198</td>\n",
       "      <td>0.571895</td>\n",
       "    </tr>\n",
       "  </tbody>\n",
       "</table>\n",
       "</div>"
      ],
      "text/plain": [
       "  model  var_sel_rmse  var_sel_Rsq\n",
       "0    LR    391.957400     0.571955\n",
       "1    RR    391.956966     0.571956\n",
       "2    EN    423.242001     0.500899\n",
       "3    DT    331.020865     0.694703\n",
       "4    RF    237.135102     0.843324\n",
       "5   KNN    270.495050     0.796141\n",
       "6   svr    332.254643     0.692423\n",
       "7   PCR    411.771107     0.527586\n",
       "8   gbr    248.517151     0.827923\n",
       "9  PLSR    391.985198     0.571895"
      ]
     },
     "execution_count": 113,
     "metadata": {},
     "output_type": "execute_result"
    }
   ],
   "source": [
    "df_combined.loc[:,~df_combined.columns.duplicated()]"
   ]
  }
 ],
 "metadata": {
  "kernelspec": {
   "display_name": "Python 3 (ipykernel)",
   "language": "python",
   "name": "python3"
  },
  "language_info": {
   "codemirror_mode": {
    "name": "ipython",
    "version": 3
   },
   "file_extension": ".py",
   "mimetype": "text/x-python",
   "name": "python",
   "nbconvert_exporter": "python",
   "pygments_lexer": "ipython3",
   "version": "3.11.7"
  }
 },
 "nbformat": 4,
 "nbformat_minor": 5
}
