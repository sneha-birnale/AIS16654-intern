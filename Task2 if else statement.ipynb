{
 "cells": [
  {
   "cell_type": "markdown",
   "id": "5b1574b6-4ae2-4b3d-96e1-154b45276354",
   "metadata": {},
   "source": [
    "# if else statement\n",
    "if else statement is used when certain condition is true.if the condition is false an alternative code is executed.\n",
    "The else keyword catches anything which isn't caught by the preceding conditions.\n",
    "\n"
   ]
  },
  {
   "cell_type": "code",
   "execution_count": 1,
   "id": "d621d0da-c577-4a95-ac37-c81df4bf0ee5",
   "metadata": {},
   "outputs": [
    {
     "name": "stdout",
     "output_type": "stream",
     "text": [
      "B\n"
     ]
    }
   ],
   "source": [
    "a = 2\n",
    "b = 330\n",
    "print(\"A\") if a > b else print(\"B\")\n"
   ]
  },
  {
   "cell_type": "code",
   "execution_count": 2,
   "id": "d5e5a202-76f4-4275-9cc9-bf351633cb00",
   "metadata": {},
   "outputs": [
    {
     "name": "stdout",
     "output_type": "stream",
     "text": [
      "=\n"
     ]
    }
   ],
   "source": [
    "a = 330\n",
    "b = 330\n",
    "print(\"A\") if a > b else print(\"=\") if a == b else print(\"B\")\n",
    "\n"
   ]
  },
  {
   "cell_type": "code",
   "execution_count": 3,
   "id": "3ca0ba4e-811f-431e-b0ed-e4d50266a4d1",
   "metadata": {},
   "outputs": [
    {
     "name": "stdout",
     "output_type": "stream",
     "text": [
      "x is greater than 5\n"
     ]
    }
   ],
   "source": [
    "x=7\n",
    "if x>5:\n",
    "    print(\"x is greater than 5\")\n",
    "else:\n",
    "    print(\"x is not greater than 5\")"
   ]
  },
  {
   "cell_type": "code",
   "execution_count": 4,
   "id": "8247095f-0250-4e38-90fe-cb9a45522c57",
   "metadata": {},
   "outputs": [
    {
     "name": "stdout",
     "output_type": "stream",
     "text": [
      "x is not greater than 5\n"
     ]
    }
   ],
   "source": [
    "x=2\n",
    "if x>5:\n",
    "    print(\"x is greater than 5\")\n",
    "else:\n",
    "    print(\"x is not greater than 5\")"
   ]
  },
  {
   "cell_type": "code",
   "execution_count": 8,
   "id": "fe79fc98-15c5-45ce-8e0b-ae890cebd258",
   "metadata": {},
   "outputs": [
    {
     "name": "stdout",
     "output_type": "stream",
     "text": [
      "yes\n"
     ]
    }
   ],
   "source": [
    "string=\"hello\"\n",
    "if string == \"hello\":\n",
    "    print(\"yes\")\n",
    "else:\n",
    "    print(\"no\")"
   ]
  },
  {
   "cell_type": "code",
   "execution_count": 10,
   "id": "8ddf157e-8633-4be3-9e3a-f30590734a7c",
   "metadata": {},
   "outputs": [
    {
     "name": "stdout",
     "output_type": "stream",
     "text": [
      "odd\n"
     ]
    }
   ],
   "source": [
    "x=[1,3,5,7]\n",
    "if 3 in x:\n",
    "    print(\"odd\")\n",
    "else:\n",
    "    print(\"even\")"
   ]
  },
  {
   "cell_type": "code",
   "execution_count": 11,
   "id": "e06fd50c-6d0f-4560-b16f-16d901d8be4e",
   "metadata": {},
   "outputs": [
    {
     "name": "stdout",
     "output_type": "stream",
     "text": [
      "negative\n"
     ]
    }
   ],
   "source": [
    "n=-10\n",
    "if n>0:\n",
    "    print(\"positive\")\n",
    "else:\n",
    "    print(\"negative\")"
   ]
  },
  {
   "cell_type": "code",
   "execution_count": 12,
   "id": "5de7f0a5-daed-45fa-b202-7b383744d187",
   "metadata": {},
   "outputs": [
    {
     "name": "stdout",
     "output_type": "stream",
     "text": [
      "dont forget to take an  umbrella\n"
     ]
    }
   ],
   "source": [
    "is_raining=True\n",
    "if is_raining:\n",
    "    print(\"dont forget to take an  umbrella\")\n",
    "else:\n",
    "    print(\"it is not raining today\")"
   ]
  },
  {
   "cell_type": "code",
   "execution_count": 13,
   "id": "cfe580d1-3489-426b-961f-9ce4eef86947",
   "metadata": {},
   "outputs": [
    {
     "name": "stdout",
     "output_type": "stream",
     "text": [
      "4 is not in list\n"
     ]
    }
   ],
   "source": [
    "numbers=[1,3,5,8]\n",
    "if 4 in numbers:\n",
    "    print(\"4 is in list\")\n",
    "else:\n",
    "    print(\"4 is not in list\")"
   ]
  },
  {
   "cell_type": "code",
   "execution_count": 15,
   "id": "986ee85e-2185-4755-a980-0858cec64108",
   "metadata": {},
   "outputs": [
    {
     "name": "stdout",
     "output_type": "stream",
     "text": [
      "even\n"
     ]
    }
   ],
   "source": [
    "x=10\n",
    "if x/2 :\n",
    "    print(\"even\")\n",
    "else:\n",
    "    print(\"odd\")"
   ]
  },
  {
   "cell_type": "code",
   "execution_count": null,
   "id": "a6e9aa98-5155-4382-9297-d0d8a0c1ae8f",
   "metadata": {},
   "outputs": [],
   "source": []
  }
 ],
 "metadata": {
  "kernelspec": {
   "display_name": "Python 3 (ipykernel)",
   "language": "python",
   "name": "python3"
  },
  "language_info": {
   "codemirror_mode": {
    "name": "ipython",
    "version": 3
   },
   "file_extension": ".py",
   "mimetype": "text/x-python",
   "name": "python",
   "nbconvert_exporter": "python",
   "pygments_lexer": "ipython3",
   "version": "3.11.7"
  }
 },
 "nbformat": 4,
 "nbformat_minor": 5
}
