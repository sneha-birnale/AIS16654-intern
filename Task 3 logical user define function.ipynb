{
 "cells": [
  {
   "cell_type": "markdown",
   "id": "2f188e1f-a4cf-4922-93b8-95e95472d1be",
   "metadata": {},
   "source": [
    "# logical user define function _\n",
    "A user-defined function (UDF) is a function defined by a user, allowing custom logic to be reused in the user environment.\n",
    "Databricks has support for many different types of UDFs to allow for distributing extensible logic.\n",
    "This article introduces some of the general strengths and limitations of UDFs."
   ]
  },
  {
   "cell_type": "code",
   "execution_count": 1,
   "id": "acb4b7f4-a9b8-4495-9d97-f8128f9b0552",
   "metadata": {},
   "outputs": [
    {
     "name": "stdout",
     "output_type": "stream",
     "text": [
      "True\n",
      "False\n"
     ]
    }
   ],
   "source": [
    "def is_even(num):\n",
    "    return num % 2 == 0\n",
    "\n",
    "print(is_even(4))  # Output: True\n",
    "print(is_even(5))  # Output: False"
   ]
  },
  {
   "cell_type": "code",
   "execution_count": 15,
   "id": "1c276de3-42ec-4e9d-a1df-f715864dd046",
   "metadata": {},
   "outputs": [
    {
     "name": "stdin",
     "output_type": "stream",
     "text": [
      "enter radius 4\n"
     ]
    },
    {
     "name": "stdout",
     "output_type": "stream",
     "text": [
      "50.24\n"
     ]
    }
   ],
   "source": [
    "def area(r):\n",
    "   pi=3.14\n",
    "   a=pi*r**2\n",
    "   return a\n",
    "rad=int(input(\"enter radius\"))\n",
    "print(area(rad))"
   ]
  },
  {
   "cell_type": "code",
   "execution_count": 14,
   "id": "b38a6762-87f4-40bd-82b7-a30d80fd4fbb",
   "metadata": {},
   "outputs": [
    {
     "name": "stdin",
     "output_type": "stream",
     "text": [
      "enter a number 22\n"
     ]
    },
    {
     "name": "stdout",
     "output_type": "stream",
     "text": [
      "it is not prime\n"
     ]
    }
   ],
   "source": [
    "def is_prime(num):\n",
    "    if num <= 1:\n",
    "        return False\n",
    "    i=2    \n",
    "    while i<num:\n",
    "       if num%2==0:\n",
    "        return \"it is not prime\"\n",
    "       else:\n",
    "         return \"it is prime\"\n",
    "         i=i+1\n",
    "num=int(input(\"enter a number\"))\n",
    "print(is_prime(num))"
   ]
  },
  {
   "cell_type": "code",
   "execution_count": 18,
   "id": "1d4c5bee-b0b4-468d-ad8f-dfda0308cf7c",
   "metadata": {},
   "outputs": [
    {
     "name": "stdin",
     "output_type": "stream",
     "text": [
      "enter a num 4\n"
     ]
    },
    {
     "name": "stdout",
     "output_type": "stream",
     "text": [
      "factorial is: 24\n"
     ]
    }
   ],
   "source": [
    "def factorial(n):\n",
    "    fact=1\n",
    "    for i in range(1,n+1):\n",
    "        fact=fact*i\n",
    "    return fact\n",
    "number=int(input(\"enter a num\"))\n",
    "f=factorial(number)\n",
    "print(\"factorial is:\",f)"
   ]
  },
  {
   "cell_type": "code",
   "execution_count": 19,
   "id": "9ac28c0e-3471-423e-a8d2-eee3e28fb8c5",
   "metadata": {},
   "outputs": [
    {
     "name": "stdout",
     "output_type": "stream",
     "text": [
      "maximum num: 12\n"
     ]
    }
   ],
   "source": [
    "def max(n):\n",
    "    m=n[0]\n",
    "    for x in n:\n",
    "        if x>m:\n",
    "            m=x\n",
    "            return m\n",
    "l=[3,12,3,5,6]\n",
    "max_num=max(l)\n",
    "print(\"maximum num:\",max_num)"
   ]
  },
  {
   "cell_type": "code",
   "execution_count": 28,
   "id": "3f52c039-7579-44a6-b72e-26c356eeeb15",
   "metadata": {},
   "outputs": [
    {
     "name": "stdout",
     "output_type": "stream",
     "text": [
      "the area of triangle with base 5 and height 8  is  20.0\n"
     ]
    }
   ],
   "source": [
    "def calculate_triangle_area(base,height):\n",
    "   area=0.5*base*height\n",
    "   return area\n",
    "base_length=5\n",
    "height_length=8\n",
    "triangle_area=calculate_triangle_area(base_length,height_length)\n",
    "print(\"the area of triangle with base\",base_length,\"and height\",height_length,\" is \",triangle_area)\n"
   ]
  },
  {
   "cell_type": "code",
   "execution_count": 29,
   "id": "85e017f5-792c-4d44-a71c-4a7d1f028770",
   "metadata": {},
   "outputs": [
    {
     "name": "stdout",
     "output_type": "stream",
     "text": [
      "is set1 is superset of set2? False\n"
     ]
    }
   ],
   "source": [
    "def is_superset(set1,set2):\n",
    "   return set1.issuperset(set2)\n",
    "set1={1,2,3}\n",
    "set2={1,2,3,5,7}\n",
    "print(\"is set1 is superset of set2?\",is_superset(set1,set2))"
   ]
  },
  {
   "cell_type": "code",
   "execution_count": 33,
   "id": "dd7cb955-252e-46ea-b337-66d5163fe3d3",
   "metadata": {},
   "outputs": [
    {
     "name": "stdin",
     "output_type": "stream",
     "text": [
      "enter a string hello\n"
     ]
    },
    {
     "name": "stdout",
     "output_type": "stream",
     "text": [
      "False\n"
     ]
    }
   ],
   "source": [
    "def is_palindrome(s):\n",
    "    return s == s[::-1]\n",
    "s=input(\"enter a string\")\n",
    "print(is_palindrome(s))"
   ]
  },
  {
   "cell_type": "code",
   "execution_count": 35,
   "id": "506427de-a1f0-4466-b6ac-242062d3c4d4",
   "metadata": {},
   "outputs": [
    {
     "name": "stdout",
     "output_type": "stream",
     "text": [
      "False\n",
      "True\n"
     ]
    }
   ],
   "source": [
    "def is_even(num):\n",
    "    return num % 2 == 0\n",
    "\n",
    "print(is_even(39))  \n",
    "print(is_even(34))  "
   ]
  },
  {
   "cell_type": "code",
   "execution_count": null,
   "id": "d0ae6e96-d019-4a0d-8cdc-3fa3f5756d2c",
   "metadata": {},
   "outputs": [],
   "source": []
  }
 ],
 "metadata": {
  "kernelspec": {
   "display_name": "Python 3 (ipykernel)",
   "language": "python",
   "name": "python3"
  },
  "language_info": {
   "codemirror_mode": {
    "name": "ipython",
    "version": 3
   },
   "file_extension": ".py",
   "mimetype": "text/x-python",
   "name": "python",
   "nbconvert_exporter": "python",
   "pygments_lexer": "ipython3",
   "version": "3.11.7"
  }
 },
 "nbformat": 4,
 "nbformat_minor": 5
}
