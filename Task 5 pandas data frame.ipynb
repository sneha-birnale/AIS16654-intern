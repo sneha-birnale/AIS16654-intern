{
 "cells": [
  {
   "cell_type": "markdown",
   "id": "c541dd6c-cda0-4a27-8e3a-b8a3c1218f02",
   "metadata": {},
   "source": [
    "#What is a DataFrame?\n",
    "A Pandas DataFrame is a 2 dimensional data structure, like a 2 dimensional array, or a table with rows and columns."
   ]
  },
  {
   "cell_type": "code",
   "execution_count": 1,
   "id": "5f564840-5bef-4325-bc12-d43deb738b27",
   "metadata": {},
   "outputs": [
    {
     "name": "stdout",
     "output_type": "stream",
     "text": [
      "   calories  duration\n",
      "0       420        50\n",
      "1       380        40\n",
      "2       390        45\n"
     ]
    }
   ],
   "source": [
    "import pandas as pd\n",
    "data = {\n",
    "  \"calories\": [420, 380, 390],\n",
    "  \"duration\": [50, 40, 45]\n",
    "}\n",
    "#load data into a DataFrame object:\n",
    "df = pd.DataFrame(data)\n",
    "print(df) "
   ]
  },
  {
   "cell_type": "markdown",
   "id": "d641ed00-0a07-4387-9c00-9de30548f668",
   "metadata": {},
   "source": [
    "#Locate Row\n",
    "As you can see from the result above, the DataFrame is like a table with rows and columns.\n",
    "Pandas use the loc attribute to return one or more specified row(s)"
   ]
  },
  {
   "cell_type": "code",
   "execution_count": 2,
   "id": "f0fb1577-c0eb-4fdb-9dda-fc65ec4990d2",
   "metadata": {},
   "outputs": [
    {
     "name": "stdout",
     "output_type": "stream",
     "text": [
      "calories    420\n",
      "duration     50\n",
      "Name: 0, dtype: int64\n"
     ]
    }
   ],
   "source": [
    "#refer to the row index:\n",
    "print(df.loc[0])"
   ]
  },
  {
   "cell_type": "code",
   "execution_count": 3,
   "id": "6c33e7cc-3b6f-4ef6-acaf-8e8deaa3b142",
   "metadata": {},
   "outputs": [
    {
     "name": "stdout",
     "output_type": "stream",
     "text": [
      "   calories  duration\n",
      "0       420        50\n",
      "1       380        40\n"
     ]
    }
   ],
   "source": [
    "#use a list of indexes:\n",
    "print(df.loc[[0, 1]])"
   ]
  },
  {
   "cell_type": "code",
   "execution_count": 4,
   "id": "4a77650b-0fdb-4c9b-b231-bf21a69ad6f0",
   "metadata": {},
   "outputs": [
    {
     "name": "stdout",
     "output_type": "stream",
     "text": [
      "      calories  duration\n",
      "day1       420        50\n",
      "day2       380        40\n",
      "day3       390        45\n"
     ]
    }
   ],
   "source": [
    "import pandas as pd\n",
    "data = {\n",
    "  \"calories\": [420, 380, 390],\n",
    "  \"duration\": [50, 40, 45]\n",
    "}\n",
    "df = pd.DataFrame(data, index = [\"day1\", \"day2\", \"day3\"])\n",
    "print(df) "
   ]
  },
  {
   "cell_type": "code",
   "execution_count": 5,
   "id": "c07b181f-852b-42d4-a0c4-c467bd24b282",
   "metadata": {},
   "outputs": [
    {
     "name": "stdout",
     "output_type": "stream",
     "text": [
      "calories    380\n",
      "duration     40\n",
      "Name: day2, dtype: int64\n"
     ]
    }
   ],
   "source": [
    "#refer to the named index:\n",
    "print(df.loc[\"day2\"])"
   ]
  },
  {
   "cell_type": "markdown",
   "id": "6a4ce7f1-9ec3-443b-9ffe-c40d57c2c558",
   "metadata": {},
   "source": [
    "#Load Files Into a DataFrame\n",
    "If your data sets are stored in a file, Pandas can load them into a DataFrame.\n",
    "#Read CSV Files\r\n",
    "A simple way to store big data sets is to use CSV files (comma separated files).\r\n",
    "CSV files contains plain text and is a well know format that can be read by everyone including Panda\r\n",
    "\r\n",
    "In our examples we will be using a CSV file called 'data.c'.\r\n",
    "\r\n",
    "Download data.csv. or Open data.csv\n",
    "#import pandas s pd\r",
    "\r\n",
    "df = pd.read_csv('da)t.csv'\r\n",
    "\r\n",
    "#max_rows\r\n",
    "The number of rows returned is defined in Pandas option ettings.\n",
    "\r\n",
    "You can check your system's maximum rows with \"the pd.options.display.max_ront\"ws stateme\n",
    "#import padas as pd\r",
    "\r\n",
    "pd.options.display.maxrows = 999\r\n",
    "\r\n",
    "df = pd.reavd_\n",
    "\r\n",
    "prin(df) \r\n",
    "nt.\n",
    "print(df) "
   ]
  },
  {
   "cell_type": "code",
   "execution_count": 2,
   "id": "9eae6f56-ef54-4d60-81ed-284b3d2f7f4e",
   "metadata": {},
   "outputs": [
    {
     "name": "stdout",
     "output_type": "stream",
     "text": [
      "Requirement already satisfied: openpyxl in c:\\users\\admin\\appdata\\local\\anaconda3\\lib\\site-packages (3.0.10)\n",
      "Requirement already satisfied: et_xmlfile in c:\\users\\admin\\appdata\\local\\anaconda3\\lib\\site-packages (from openpyxl) (1.1.0)\n",
      "                 Type  Economy  Service  Value  Price  Design  Sporty Car  \\\n",
      "0                Audi      3.9      2.8    2.2    4.2     3.0         3.1   \n",
      "1                 BMW      4.8      1.6    1.9    5.0     2.0         2.5   \n",
      "2             Citroen      3.0      3.8    3.8    2.7     4.0         4.4   \n",
      "3             Ferrari      5.3      2.9    2.2    5.9     1.7         1.1   \n",
      "4            Fiat Uno      2.1      3.9    4.0    2.6     4.5         4.4   \n",
      "5         Ford_Fiesta      2.3      3.1    3.4    2.6     3.2         3.3   \n",
      "6             Hyundai      2.5      3.4    3.2    2.2     3.3         3.3   \n",
      "7              Jaguar      4.6      2.4    1.6    5.5     1.3         1.6   \n",
      "8                Lada      3.2      3.9    4.3    2.0     4.3         4.5   \n",
      "9               Mazda      2.6      3.3    3.7    2.8     3.7         3.0   \n",
      "10           Mercedes      4.1      1.7    1.8    4.6     2.4         3.2   \n",
      "11  Mitsubishi_Galant      3.2      2.9    3.2    3.5     3.1         3.1   \n",
      "12       Nissan_Sunny      2.6      3.3    3.9    2.1     3.5         3.9   \n",
      "13         Opel_Corsa      2.2      2.4    3.0    2.6     3.2         4.0   \n",
      "14        Opel_Vectra      3.1      2.6    2.3    3.6     2.8         2.9   \n",
      "15            Peugeot      2.9      3.5    3.6    2.8     3.2         3.8   \n",
      "16            Renault      2.7      3.3    3.4    3.0     3.1         3.4   \n",
      "17              Rover      3.9      2.8    2.6    4.0     2.6         3.0   \n",
      "18     Toyota_Corolla      2.5      2.9    3.4    3.0     3.2         3.1   \n",
      "19              Volvo      3.8      2.3    1.9    4.2     3.1         3.6   \n",
      "20            Trabant      3.6      4.7    5.5    1.5     4.1         5.8   \n",
      "21            VW_Golf      2.4      2.1    2.0    2.6     3.2         3.1   \n",
      "22          VW_Passat      3.1      2.2    2.1    3.2     3.5         3.5   \n",
      "23           Wartburg      3.7      4.7    5.5    1.7     4.8         5.2   \n",
      "\n",
      "    Safety  Easy_Handling  \n",
      "0      2.4            2.8  \n",
      "1      1.6            2.8  \n",
      "2      4.0            2.6  \n",
      "3      3.3            4.3  \n",
      "4      4.4            2.2  \n",
      "5      3.6            2.8  \n",
      "6      3.3            2.4  \n",
      "7      2.8            3.6  \n",
      "8      4.7            2.9  \n",
      "9      3.7            3.1  \n",
      "10     1.4            2.4  \n",
      "11     2.9            2.6  \n",
      "12     3.8            2.4  \n",
      "13     2.9            2.4  \n",
      "14     2.4            2.4  \n",
      "15     3.2            2.6  \n",
      "16     3.0            2.7  \n",
      "17     3.2            3.0  \n",
      "18     3.2            2.8  \n",
      "19     1.6            2.4  \n",
      "20     5.9            3.1  \n",
      "21     3.1            1.6  \n",
      "22     2.8            1.8  \n",
      "23     5.5            4.0  \n"
     ]
    }
   ],
   "source": [
    "!pip install openpyxl\n",
    "import pandas as pd\n",
    "df=pd.read_excel(\"C:/Users/ADMIN/Desktop/Book1.xlsx\")\n",
    "print(df)"
   ]
  },
  {
   "cell_type": "markdown",
   "id": "baac61c5-b8de-4544-9ad1-2399fe744838",
   "metadata": {},
   "source": [
    "#Creating a DataFrame from a matrix in pandas is straightforward. You can use the pd.DataFrame() constructor and pass in a matrix (a 2D list or a NumPy array). \n",
    "Here are some examples to demonstrate how to create a DataFrame from a matrix."
   ]
  },
  {
   "cell_type": "code",
   "execution_count": 1,
   "id": "af6f8364-46bd-4fac-8860-607e481d6ac9",
   "metadata": {},
   "outputs": [
    {
     "name": "stdout",
     "output_type": "stream",
     "text": [
      "DataFrame from 2D list:\n",
      "    A  B  C\n",
      "0  1  2  3\n",
      "1  4  5  6\n",
      "2  7  8  9\n"
     ]
    }
   ],
   "source": [
    "import pandas as pd\n",
    "# Creating a matrix using a 2D list\n",
    "matrix = [\n",
    "    [1, 2, 3],\n",
    "    [4, 5, 6],\n",
    "    [7, 8, 9]\n",
    "]\n",
    "# Creating a DataFrame from the 2D list\n",
    "df_from_list = pd.DataFrame(matrix, columns=['A', 'B', 'C'])\n",
    "print(\"DataFrame from 2D list:\\n\", df_from_list)"
   ]
  }
 ],
 "metadata": {
  "kernelspec": {
   "display_name": "Python 3 (ipykernel)",
   "language": "python",
   "name": "python3"
  },
  "language_info": {
   "codemirror_mode": {
    "name": "ipython",
    "version": 3
   },
   "file_extension": ".py",
   "mimetype": "text/x-python",
   "name": "python",
   "nbconvert_exporter": "python",
   "pygments_lexer": "ipython3",
   "version": "3.11.7"
  }
 },
 "nbformat": 4,
 "nbformat_minor": 5
}
