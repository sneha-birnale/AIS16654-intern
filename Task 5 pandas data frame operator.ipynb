{
 "cells": [
  {
   "cell_type": "markdown",
   "id": "4b714067-5657-4e32-b27c-cb0b55e968d2",
   "metadata": {},
   "source": [
    "#Data frame operation - \n",
    "#In Pandas, the value_counts() function is used to count the unique values in a Series object, which is essentially a single column of a DataFrame. It returns a new Series where the index is the unique values in the original Series, and the values are their respective counts. This function is particularly useful for exploring categorical data."
   ]
  },
  {
   "cell_type": "code",
   "execution_count": 1,
   "id": "a9751903-b9d8-4fc9-87c8-4be265775ee4",
   "metadata": {},
   "outputs": [
    {
     "name": "stdout",
     "output_type": "stream",
     "text": [
      "A    3\n",
      "B    2\n",
      "C    2\n",
      "D    1\n",
      "Name: count, dtype: int64\n"
     ]
    }
   ],
   "source": [
    "import pandas as pd\n",
    "# Creating a sample Series\n",
    "data = pd.Series(['A', 'B', 'C', 'A', 'A', 'B', 'C', 'D'])\n",
    "counts = data.value_counts()\n",
    "print(counts)"
   ]
  },
  {
   "cell_type": "code",
   "execution_count": 4,
   "id": "4a6e5a8c-71a0-4b88-ad0f-cd69515dcacf",
   "metadata": {},
   "outputs": [
    {
     "name": "stdout",
     "output_type": "stream",
     "text": [
      "   numbers  squared\n",
      "0        1        1\n",
      "1        2        4\n",
      "2        3        9\n",
      "3        4       16\n",
      "4        5       25\n"
     ]
    }
   ],
   "source": [
    "import pandas as pd\n",
    "# Create a sample DataFrame\n",
    "data = {'numbers': [1, 2, 3, 4, 5]}\n",
    "df = pd.DataFrame(data)\n",
    "# Define a function to calculate square\n",
    "def square(x):\n",
    "    return x ** 2\n",
    "# Apply the square function to each element in the 'numbers' column\n",
    "df['squared'] = df['numbers'].apply(square)\n",
    "print(df)"
   ]
  },
  {
   "cell_type": "code",
   "execution_count": 5,
   "id": "10f3939b-370c-4f39-b58c-963c83cf39d3",
   "metadata": {},
   "outputs": [
    {
     "name": "stdout",
     "output_type": "stream",
     "text": [
      "['A' 'B' 'C' 'D']\n"
     ]
    }
   ],
   "source": [
    "import pandas as pd\n",
    "# Create a sample DataFrame\n",
    "data = {'categories': ['A', 'B', 'C', 'A', 'B', 'D']}\n",
    "df = pd.DataFrame(data)\n",
    "# Find unique values in the 'categories' column\n",
    "unique_values = df['categories'].unique()\n",
    "print(unique_values)"
   ]
  },
  {
   "cell_type": "code",
   "execution_count": 6,
   "id": "213d27bb-e171-4a31-b016-97338f5c5a11",
   "metadata": {},
   "outputs": [
    {
     "name": "stdout",
     "output_type": "stream",
     "text": [
      "Duplicated rows:\n",
      "   A  B   C\n",
      "2  2  6  11\n"
     ]
    }
   ],
   "source": [
    "import pandas as pd\n",
    "# Sample DataFrame\n",
    "df = pd.DataFrame({\n",
    "    'A': [1, 2, 2, 4, 5],\n",
    "    'B': [5, 6, 6, 8, 9],\n",
    "    'C': [10, 11, 11, 13, 14]\n",
    "})\n",
    "# Identify duplicated rows\n",
    "duplicates = df.duplicated()\n",
    "print(\"Duplicated rows:\")\n",
    "print(df[duplicates])"
   ]
  },
  {
   "cell_type": "code",
   "execution_count": 7,
   "id": "48b7ed9b-393f-4a66-a28f-5be7dd78a963",
   "metadata": {},
   "outputs": [
    {
     "name": "stdout",
     "output_type": "stream",
     "text": [
      "              A         B          C\n",
      "count  5.000000  5.000000   5.000000\n",
      "mean   2.800000  6.800000  11.800000\n",
      "std    1.643168  1.643168   1.643168\n",
      "min    1.000000  5.000000  10.000000\n",
      "25%    2.000000  6.000000  11.000000\n",
      "50%    2.000000  6.000000  11.000000\n",
      "75%    4.000000  8.000000  13.000000\n",
      "max    5.000000  9.000000  14.000000\n"
     ]
    }
   ],
   "source": [
    "import pandas as pd\n",
    "# Sample DataFrame with numeric data\n",
    "df_numeric = pd.DataFrame({\n",
    "    'A': [1, 2, 2, 4, 5],\n",
    "    'B': [5, 6, 6, 8, 9],\n",
    "    'C': [10, 11, 11, 13, 14]\n",
    "})\n",
    "# Generate descriptive statistics\n",
    "description_numeric = df_numeric.describe()\n",
    "print(description_numeric)"
   ]
  },
  {
   "cell_type": "code",
   "execution_count": null,
   "id": "70f8ac70-5278-48c4-9afb-fc540e3a61b7",
   "metadata": {},
   "outputs": [],
   "source": []
  }
 ],
 "metadata": {
  "kernelspec": {
   "display_name": "Python 3 (ipykernel)",
   "language": "python",
   "name": "python3"
  },
  "language_info": {
   "codemirror_mode": {
    "name": "ipython",
    "version": 3
   },
   "file_extension": ".py",
   "mimetype": "text/x-python",
   "name": "python",
   "nbconvert_exporter": "python",
   "pygments_lexer": "ipython3",
   "version": "3.11.7"
  }
 },
 "nbformat": 4,
 "nbformat_minor": 5
}
